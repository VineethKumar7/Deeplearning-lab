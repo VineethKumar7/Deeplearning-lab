{
 "cells": [
  {
   "cell_type": "markdown",
   "metadata": {
    "id": "aaH1TBxY3_tI",
    "origin_pos": 0
   },
   "source": [
    "# Concise Implementation of Softmax Regression\n",
    "\n",
    "**Just as high-level APIs**\n",
    "of deep learning frameworks\n",
    "**made it much easier to implement linear regression**\n",
    "(**we will find it similarly**) (or possibly more)\n",
    "convenient for implementing classification models. Let us stick with the Fashion-MNIST dataset\n",
    "and keep the batch size at 256 as in the implementation from the scratch.\n"
   ]
  },
  {
   "cell_type": "code",
   "execution_count": 1,
   "metadata": {
    "colab": {
     "base_uri": "https://localhost:8080/"
    },
    "id": "ziw7nfMU3_tT",
    "origin_pos": 2,
    "outputId": "e5163ef5-9ebc-48d1-9406-06239ea270cc",
    "tab": [
     "pytorch"
    ]
   },
   "outputs": [
    {
     "name": "stdout",
     "output_type": "stream",
     "text": [
      "Requirement already satisfied: d2l in /Users/jaschob/miniconda3/envs/d2l/lib/python3.8/site-packages (1.0.3)\n",
      "Requirement already satisfied: jupyter==1.0.0 in /Users/jaschob/miniconda3/envs/d2l/lib/python3.8/site-packages (from d2l) (1.0.0)\n",
      "Requirement already satisfied: numpy==1.23.5 in /Users/jaschob/miniconda3/envs/d2l/lib/python3.8/site-packages (from d2l) (1.23.5)\n",
      "Requirement already satisfied: matplotlib==3.7.2 in /Users/jaschob/miniconda3/envs/d2l/lib/python3.8/site-packages (from d2l) (3.7.2)\n",
      "Requirement already satisfied: matplotlib-inline==0.1.6 in /Users/jaschob/miniconda3/envs/d2l/lib/python3.8/site-packages (from d2l) (0.1.6)\n",
      "Requirement already satisfied: requests==2.31.0 in /Users/jaschob/miniconda3/envs/d2l/lib/python3.8/site-packages (from d2l) (2.31.0)\n",
      "Requirement already satisfied: pandas==2.0.3 in /Users/jaschob/miniconda3/envs/d2l/lib/python3.8/site-packages (from d2l) (2.0.3)\n",
      "Requirement already satisfied: scipy==1.10.1 in /Users/jaschob/miniconda3/envs/d2l/lib/python3.8/site-packages (from d2l) (1.10.1)\n",
      "Requirement already satisfied: notebook in /Users/jaschob/miniconda3/envs/d2l/lib/python3.8/site-packages (from jupyter==1.0.0->d2l) (7.1.3)\n",
      "Requirement already satisfied: qtconsole in /Users/jaschob/miniconda3/envs/d2l/lib/python3.8/site-packages (from jupyter==1.0.0->d2l) (5.4.2)\n",
      "Requirement already satisfied: jupyter-console in /Users/jaschob/miniconda3/envs/d2l/lib/python3.8/site-packages (from jupyter==1.0.0->d2l) (6.6.3)\n",
      "Requirement already satisfied: nbconvert in /Users/jaschob/miniconda3/envs/d2l/lib/python3.8/site-packages (from jupyter==1.0.0->d2l) (7.10.0)\n",
      "Requirement already satisfied: ipykernel in /Users/jaschob/miniconda3/envs/d2l/lib/python3.8/site-packages (from jupyter==1.0.0->d2l) (6.25.0)\n",
      "Requirement already satisfied: ipywidgets in /Users/jaschob/miniconda3/envs/d2l/lib/python3.8/site-packages (from jupyter==1.0.0->d2l) (8.1.2)\n",
      "Requirement already satisfied: contourpy>=1.0.1 in /Users/jaschob/miniconda3/envs/d2l/lib/python3.8/site-packages (from matplotlib==3.7.2->d2l) (1.1.1)\n",
      "Requirement already satisfied: cycler>=0.10 in /Users/jaschob/miniconda3/envs/d2l/lib/python3.8/site-packages (from matplotlib==3.7.2->d2l) (0.12.1)\n",
      "Requirement already satisfied: fonttools>=4.22.0 in /Users/jaschob/miniconda3/envs/d2l/lib/python3.8/site-packages (from matplotlib==3.7.2->d2l) (4.51.0)\n",
      "Requirement already satisfied: kiwisolver>=1.0.1 in /Users/jaschob/miniconda3/envs/d2l/lib/python3.8/site-packages (from matplotlib==3.7.2->d2l) (1.4.5)\n",
      "Requirement already satisfied: packaging>=20.0 in /Users/jaschob/miniconda3/envs/d2l/lib/python3.8/site-packages (from matplotlib==3.7.2->d2l) (23.1)\n",
      "Requirement already satisfied: pillow>=6.2.0 in /Users/jaschob/miniconda3/envs/d2l/lib/python3.8/site-packages (from matplotlib==3.7.2->d2l) (10.3.0)\n",
      "Requirement already satisfied: pyparsing<3.1,>=2.3.1 in /Users/jaschob/miniconda3/envs/d2l/lib/python3.8/site-packages (from matplotlib==3.7.2->d2l) (3.0.9)\n",
      "Requirement already satisfied: python-dateutil>=2.7 in /Users/jaschob/miniconda3/envs/d2l/lib/python3.8/site-packages (from matplotlib==3.7.2->d2l) (2.8.2)\n",
      "Requirement already satisfied: importlib-resources>=3.2.0 in /Users/jaschob/miniconda3/envs/d2l/lib/python3.8/site-packages (from matplotlib==3.7.2->d2l) (6.1.0)\n",
      "Requirement already satisfied: traitlets in /Users/jaschob/miniconda3/envs/d2l/lib/python3.8/site-packages (from matplotlib-inline==0.1.6->d2l) (5.14.3)\n",
      "Requirement already satisfied: pytz>=2020.1 in /Users/jaschob/miniconda3/envs/d2l/lib/python3.8/site-packages (from pandas==2.0.3->d2l) (2023.3.post1)\n",
      "Requirement already satisfied: tzdata>=2022.1 in /Users/jaschob/miniconda3/envs/d2l/lib/python3.8/site-packages (from pandas==2.0.3->d2l) (2024.1)\n",
      "Requirement already satisfied: charset-normalizer<4,>=2 in /Users/jaschob/miniconda3/envs/d2l/lib/python3.8/site-packages (from requests==2.31.0->d2l) (2.0.4)\n",
      "Requirement already satisfied: idna<4,>=2.5 in /Users/jaschob/miniconda3/envs/d2l/lib/python3.8/site-packages (from requests==2.31.0->d2l) (3.4)\n",
      "Requirement already satisfied: urllib3<3,>=1.21.1 in /Users/jaschob/miniconda3/envs/d2l/lib/python3.8/site-packages (from requests==2.31.0->d2l) (1.26.18)\n",
      "Requirement already satisfied: certifi>=2017.4.17 in /Users/jaschob/miniconda3/envs/d2l/lib/python3.8/site-packages (from requests==2.31.0->d2l) (2024.2.2)\n",
      "Requirement already satisfied: zipp>=3.1.0 in /Users/jaschob/miniconda3/envs/d2l/lib/python3.8/site-packages (from importlib-resources>=3.2.0->matplotlib==3.7.2->d2l) (3.11.0)\n",
      "Requirement already satisfied: six>=1.5 in /Users/jaschob/miniconda3/envs/d2l/lib/python3.8/site-packages (from python-dateutil>=2.7->matplotlib==3.7.2->d2l) (1.16.0)\n",
      "Requirement already satisfied: appnope in /Users/jaschob/miniconda3/envs/d2l/lib/python3.8/site-packages (from ipykernel->jupyter==1.0.0->d2l) (0.1.2)\n",
      "Requirement already satisfied: comm>=0.1.1 in /Users/jaschob/miniconda3/envs/d2l/lib/python3.8/site-packages (from ipykernel->jupyter==1.0.0->d2l) (0.2.2)\n",
      "Requirement already satisfied: debugpy>=1.6.5 in /Users/jaschob/miniconda3/envs/d2l/lib/python3.8/site-packages (from ipykernel->jupyter==1.0.0->d2l) (1.6.7)\n",
      "Requirement already satisfied: ipython>=7.23.1 in /Users/jaschob/miniconda3/envs/d2l/lib/python3.8/site-packages (from ipykernel->jupyter==1.0.0->d2l) (8.12.2)\n",
      "Requirement already satisfied: jupyter-client>=6.1.12 in /Users/jaschob/miniconda3/envs/d2l/lib/python3.8/site-packages (from ipykernel->jupyter==1.0.0->d2l) (8.6.0)\n",
      "Requirement already satisfied: jupyter-core!=5.0.*,>=4.12 in /Users/jaschob/miniconda3/envs/d2l/lib/python3.8/site-packages (from ipykernel->jupyter==1.0.0->d2l) (5.5.0)\n",
      "Requirement already satisfied: nest-asyncio in /Users/jaschob/miniconda3/envs/d2l/lib/python3.8/site-packages (from ipykernel->jupyter==1.0.0->d2l) (1.5.6)\n",
      "Requirement already satisfied: psutil in /Users/jaschob/miniconda3/envs/d2l/lib/python3.8/site-packages (from ipykernel->jupyter==1.0.0->d2l) (5.9.0)\n",
      "Requirement already satisfied: pyzmq>=20 in /Users/jaschob/miniconda3/envs/d2l/lib/python3.8/site-packages (from ipykernel->jupyter==1.0.0->d2l) (25.1.0)\n",
      "Requirement already satisfied: tornado>=6.1 in /Users/jaschob/miniconda3/envs/d2l/lib/python3.8/site-packages (from ipykernel->jupyter==1.0.0->d2l) (6.3.3)\n",
      "Requirement already satisfied: widgetsnbextension~=4.0.10 in /Users/jaschob/miniconda3/envs/d2l/lib/python3.8/site-packages (from ipywidgets->jupyter==1.0.0->d2l) (4.0.10)\n",
      "Requirement already satisfied: jupyterlab-widgets~=3.0.10 in /Users/jaschob/miniconda3/envs/d2l/lib/python3.8/site-packages (from ipywidgets->jupyter==1.0.0->d2l) (3.0.10)\n",
      "Requirement already satisfied: prompt-toolkit>=3.0.30 in /Users/jaschob/miniconda3/envs/d2l/lib/python3.8/site-packages (from jupyter-console->jupyter==1.0.0->d2l) (3.0.36)\n",
      "Requirement already satisfied: pygments in /Users/jaschob/miniconda3/envs/d2l/lib/python3.8/site-packages (from jupyter-console->jupyter==1.0.0->d2l) (2.15.1)\n",
      "Requirement already satisfied: beautifulsoup4 in /Users/jaschob/miniconda3/envs/d2l/lib/python3.8/site-packages (from nbconvert->jupyter==1.0.0->d2l) (4.12.2)\n",
      "Requirement already satisfied: bleach!=5.0.0 in /Users/jaschob/miniconda3/envs/d2l/lib/python3.8/site-packages (from nbconvert->jupyter==1.0.0->d2l) (4.1.0)\n",
      "Requirement already satisfied: defusedxml in /Users/jaschob/miniconda3/envs/d2l/lib/python3.8/site-packages (from nbconvert->jupyter==1.0.0->d2l) (0.7.1)\n",
      "Requirement already satisfied: importlib-metadata>=3.6 in /Users/jaschob/miniconda3/envs/d2l/lib/python3.8/site-packages (from nbconvert->jupyter==1.0.0->d2l) (6.0.0)\n",
      "Requirement already satisfied: jinja2>=3.0 in /Users/jaschob/miniconda3/envs/d2l/lib/python3.8/site-packages (from nbconvert->jupyter==1.0.0->d2l) (3.1.3)\n",
      "Requirement already satisfied: jupyterlab-pygments in /Users/jaschob/miniconda3/envs/d2l/lib/python3.8/site-packages (from nbconvert->jupyter==1.0.0->d2l) (0.2.2)\n",
      "Requirement already satisfied: markupsafe>=2.0 in /Users/jaschob/miniconda3/envs/d2l/lib/python3.8/site-packages (from nbconvert->jupyter==1.0.0->d2l) (2.1.3)\n",
      "Requirement already satisfied: mistune<4,>=2.0.3 in /Users/jaschob/miniconda3/envs/d2l/lib/python3.8/site-packages (from nbconvert->jupyter==1.0.0->d2l) (2.0.4)\n",
      "Requirement already satisfied: nbclient>=0.5.0 in /Users/jaschob/miniconda3/envs/d2l/lib/python3.8/site-packages (from nbconvert->jupyter==1.0.0->d2l) (0.10.0)\n",
      "Requirement already satisfied: nbformat>=5.7 in /Users/jaschob/miniconda3/envs/d2l/lib/python3.8/site-packages (from nbconvert->jupyter==1.0.0->d2l) (5.10.4)\n",
      "Requirement already satisfied: pandocfilters>=1.4.1 in /Users/jaschob/miniconda3/envs/d2l/lib/python3.8/site-packages (from nbconvert->jupyter==1.0.0->d2l) (1.5.0)\n",
      "Requirement already satisfied: tinycss2 in /Users/jaschob/miniconda3/envs/d2l/lib/python3.8/site-packages (from nbconvert->jupyter==1.0.0->d2l) (1.2.1)\n",
      "Requirement already satisfied: jupyter-server<3,>=2.4.0 in /Users/jaschob/miniconda3/envs/d2l/lib/python3.8/site-packages (from notebook->jupyter==1.0.0->d2l) (2.14.0)\n",
      "Requirement already satisfied: jupyterlab-server<3,>=2.22.1 in /Users/jaschob/miniconda3/envs/d2l/lib/python3.8/site-packages (from notebook->jupyter==1.0.0->d2l) (2.27.1)\n",
      "Requirement already satisfied: jupyterlab<4.2,>=4.1.1 in /Users/jaschob/miniconda3/envs/d2l/lib/python3.8/site-packages (from notebook->jupyter==1.0.0->d2l) (4.1.8)\n",
      "Requirement already satisfied: notebook-shim<0.3,>=0.2 in /Users/jaschob/miniconda3/envs/d2l/lib/python3.8/site-packages (from notebook->jupyter==1.0.0->d2l) (0.2.4)\n",
      "Requirement already satisfied: ipython-genutils in /Users/jaschob/miniconda3/envs/d2l/lib/python3.8/site-packages (from qtconsole->jupyter==1.0.0->d2l) (0.2.0)\n",
      "Requirement already satisfied: qtpy>=2.0.1 in /Users/jaschob/miniconda3/envs/d2l/lib/python3.8/site-packages (from qtconsole->jupyter==1.0.0->d2l) (2.4.1)\n",
      "Requirement already satisfied: webencodings in /Users/jaschob/miniconda3/envs/d2l/lib/python3.8/site-packages (from bleach!=5.0.0->nbconvert->jupyter==1.0.0->d2l) (0.5.1)\n",
      "Requirement already satisfied: backcall in /Users/jaschob/miniconda3/envs/d2l/lib/python3.8/site-packages (from ipython>=7.23.1->ipykernel->jupyter==1.0.0->d2l) (0.2.0)\n",
      "Requirement already satisfied: decorator in /Users/jaschob/miniconda3/envs/d2l/lib/python3.8/site-packages (from ipython>=7.23.1->ipykernel->jupyter==1.0.0->d2l) (5.1.1)\n",
      "Requirement already satisfied: jedi>=0.16 in /Users/jaschob/miniconda3/envs/d2l/lib/python3.8/site-packages (from ipython>=7.23.1->ipykernel->jupyter==1.0.0->d2l) (0.18.1)\n",
      "Requirement already satisfied: pickleshare in /Users/jaschob/miniconda3/envs/d2l/lib/python3.8/site-packages (from ipython>=7.23.1->ipykernel->jupyter==1.0.0->d2l) (0.7.5)\n",
      "Requirement already satisfied: stack-data in /Users/jaschob/miniconda3/envs/d2l/lib/python3.8/site-packages (from ipython>=7.23.1->ipykernel->jupyter==1.0.0->d2l) (0.2.0)\n",
      "Requirement already satisfied: typing-extensions in /Users/jaschob/miniconda3/envs/d2l/lib/python3.8/site-packages (from ipython>=7.23.1->ipykernel->jupyter==1.0.0->d2l) (4.11.0)\n",
      "Requirement already satisfied: pexpect>4.3 in /Users/jaschob/miniconda3/envs/d2l/lib/python3.8/site-packages (from ipython>=7.23.1->ipykernel->jupyter==1.0.0->d2l) (4.8.0)\n",
      "Requirement already satisfied: platformdirs>=2.5 in /Users/jaschob/miniconda3/envs/d2l/lib/python3.8/site-packages (from jupyter-core!=5.0.*,>=4.12->ipykernel->jupyter==1.0.0->d2l) (3.10.0)\n",
      "Requirement already satisfied: anyio>=3.1.0 in /Users/jaschob/miniconda3/envs/d2l/lib/python3.8/site-packages (from jupyter-server<3,>=2.4.0->notebook->jupyter==1.0.0->d2l) (4.3.0)\n",
      "Requirement already satisfied: argon2-cffi>=21.1 in /Users/jaschob/miniconda3/envs/d2l/lib/python3.8/site-packages (from jupyter-server<3,>=2.4.0->notebook->jupyter==1.0.0->d2l) (23.1.0)\n",
      "Requirement already satisfied: jupyter-events>=0.9.0 in /Users/jaschob/miniconda3/envs/d2l/lib/python3.8/site-packages (from jupyter-server<3,>=2.4.0->notebook->jupyter==1.0.0->d2l) (0.10.0)\n",
      "Requirement already satisfied: jupyter-server-terminals>=0.4.4 in /Users/jaschob/miniconda3/envs/d2l/lib/python3.8/site-packages (from jupyter-server<3,>=2.4.0->notebook->jupyter==1.0.0->d2l) (0.5.3)\n",
      "Requirement already satisfied: overrides>=5.0 in /Users/jaschob/miniconda3/envs/d2l/lib/python3.8/site-packages (from jupyter-server<3,>=2.4.0->notebook->jupyter==1.0.0->d2l) (7.7.0)\n",
      "Requirement already satisfied: prometheus-client>=0.9 in /Users/jaschob/miniconda3/envs/d2l/lib/python3.8/site-packages (from jupyter-server<3,>=2.4.0->notebook->jupyter==1.0.0->d2l) (0.20.0)\n",
      "Requirement already satisfied: send2trash>=1.8.2 in /Users/jaschob/miniconda3/envs/d2l/lib/python3.8/site-packages (from jupyter-server<3,>=2.4.0->notebook->jupyter==1.0.0->d2l) (1.8.3)\n",
      "Requirement already satisfied: terminado>=0.8.3 in /Users/jaschob/miniconda3/envs/d2l/lib/python3.8/site-packages (from jupyter-server<3,>=2.4.0->notebook->jupyter==1.0.0->d2l) (0.18.1)\n",
      "Requirement already satisfied: websocket-client>=1.7 in /Users/jaschob/miniconda3/envs/d2l/lib/python3.8/site-packages (from jupyter-server<3,>=2.4.0->notebook->jupyter==1.0.0->d2l) (1.8.0)\n",
      "Requirement already satisfied: async-lru>=1.0.0 in /Users/jaschob/miniconda3/envs/d2l/lib/python3.8/site-packages (from jupyterlab<4.2,>=4.1.1->notebook->jupyter==1.0.0->d2l) (2.0.4)\n",
      "Requirement already satisfied: httpx>=0.25.0 in /Users/jaschob/miniconda3/envs/d2l/lib/python3.8/site-packages (from jupyterlab<4.2,>=4.1.1->notebook->jupyter==1.0.0->d2l) (0.27.0)\n",
      "Requirement already satisfied: jupyter-lsp>=2.0.0 in /Users/jaschob/miniconda3/envs/d2l/lib/python3.8/site-packages (from jupyterlab<4.2,>=4.1.1->notebook->jupyter==1.0.0->d2l) (2.2.5)\n",
      "Requirement already satisfied: tomli>=1.2.2 in /Users/jaschob/miniconda3/envs/d2l/lib/python3.8/site-packages (from jupyterlab<4.2,>=4.1.1->notebook->jupyter==1.0.0->d2l) (2.0.1)\n",
      "Requirement already satisfied: babel>=2.10 in /Users/jaschob/miniconda3/envs/d2l/lib/python3.8/site-packages (from jupyterlab-server<3,>=2.22.1->notebook->jupyter==1.0.0->d2l) (2.11.0)\n",
      "Requirement already satisfied: json5>=0.9.0 in /Users/jaschob/miniconda3/envs/d2l/lib/python3.8/site-packages (from jupyterlab-server<3,>=2.22.1->notebook->jupyter==1.0.0->d2l) (0.9.25)\n",
      "Requirement already satisfied: jsonschema>=4.18.0 in /Users/jaschob/miniconda3/envs/d2l/lib/python3.8/site-packages (from jupyterlab-server<3,>=2.22.1->notebook->jupyter==1.0.0->d2l) (4.19.2)\n",
      "Requirement already satisfied: fastjsonschema>=2.15 in /Users/jaschob/miniconda3/envs/d2l/lib/python3.8/site-packages (from nbformat>=5.7->nbconvert->jupyter==1.0.0->d2l) (2.16.2)\n",
      "Requirement already satisfied: wcwidth in /Users/jaschob/miniconda3/envs/d2l/lib/python3.8/site-packages (from prompt-toolkit>=3.0.30->jupyter-console->jupyter==1.0.0->d2l) (0.2.13)\n",
      "Requirement already satisfied: soupsieve>1.2 in /Users/jaschob/miniconda3/envs/d2l/lib/python3.8/site-packages (from beautifulsoup4->nbconvert->jupyter==1.0.0->d2l) (2.5)\n",
      "Requirement already satisfied: sniffio>=1.1 in /Users/jaschob/miniconda3/envs/d2l/lib/python3.8/site-packages (from anyio>=3.1.0->jupyter-server<3,>=2.4.0->notebook->jupyter==1.0.0->d2l) (1.3.1)\n",
      "Requirement already satisfied: exceptiongroup>=1.0.2 in /Users/jaschob/miniconda3/envs/d2l/lib/python3.8/site-packages (from anyio>=3.1.0->jupyter-server<3,>=2.4.0->notebook->jupyter==1.0.0->d2l) (1.2.1)\n",
      "Requirement already satisfied: argon2-cffi-bindings in /Users/jaschob/miniconda3/envs/d2l/lib/python3.8/site-packages (from argon2-cffi>=21.1->jupyter-server<3,>=2.4.0->notebook->jupyter==1.0.0->d2l) (21.2.0)\n",
      "Requirement already satisfied: httpcore==1.* in /Users/jaschob/miniconda3/envs/d2l/lib/python3.8/site-packages (from httpx>=0.25.0->jupyterlab<4.2,>=4.1.1->notebook->jupyter==1.0.0->d2l) (1.0.5)\n",
      "Requirement already satisfied: h11<0.15,>=0.13 in /Users/jaschob/miniconda3/envs/d2l/lib/python3.8/site-packages (from httpcore==1.*->httpx>=0.25.0->jupyterlab<4.2,>=4.1.1->notebook->jupyter==1.0.0->d2l) (0.14.0)\n",
      "Requirement already satisfied: parso<0.9.0,>=0.8.0 in /Users/jaschob/miniconda3/envs/d2l/lib/python3.8/site-packages (from jedi>=0.16->ipython>=7.23.1->ipykernel->jupyter==1.0.0->d2l) (0.8.3)\n",
      "Requirement already satisfied: attrs>=22.2.0 in /Users/jaschob/miniconda3/envs/d2l/lib/python3.8/site-packages (from jsonschema>=4.18.0->jupyterlab-server<3,>=2.22.1->notebook->jupyter==1.0.0->d2l) (23.1.0)\n",
      "Requirement already satisfied: jsonschema-specifications>=2023.03.6 in /Users/jaschob/miniconda3/envs/d2l/lib/python3.8/site-packages (from jsonschema>=4.18.0->jupyterlab-server<3,>=2.22.1->notebook->jupyter==1.0.0->d2l) (2023.12.1)\n",
      "Requirement already satisfied: pkgutil-resolve-name>=1.3.10 in /Users/jaschob/miniconda3/envs/d2l/lib/python3.8/site-packages (from jsonschema>=4.18.0->jupyterlab-server<3,>=2.22.1->notebook->jupyter==1.0.0->d2l) (1.3.10)\n",
      "Requirement already satisfied: referencing>=0.28.4 in /Users/jaschob/miniconda3/envs/d2l/lib/python3.8/site-packages (from jsonschema>=4.18.0->jupyterlab-server<3,>=2.22.1->notebook->jupyter==1.0.0->d2l) (0.35.1)\n",
      "Requirement already satisfied: rpds-py>=0.7.1 in /Users/jaschob/miniconda3/envs/d2l/lib/python3.8/site-packages (from jsonschema>=4.18.0->jupyterlab-server<3,>=2.22.1->notebook->jupyter==1.0.0->d2l) (0.10.6)\n",
      "Requirement already satisfied: python-json-logger>=2.0.4 in /Users/jaschob/miniconda3/envs/d2l/lib/python3.8/site-packages (from jupyter-events>=0.9.0->jupyter-server<3,>=2.4.0->notebook->jupyter==1.0.0->d2l) (2.0.7)\n",
      "Requirement already satisfied: pyyaml>=5.3 in /Users/jaschob/miniconda3/envs/d2l/lib/python3.8/site-packages (from jupyter-events>=0.9.0->jupyter-server<3,>=2.4.0->notebook->jupyter==1.0.0->d2l) (6.0.1)\n",
      "Requirement already satisfied: rfc3339-validator in /Users/jaschob/miniconda3/envs/d2l/lib/python3.8/site-packages (from jupyter-events>=0.9.0->jupyter-server<3,>=2.4.0->notebook->jupyter==1.0.0->d2l) (0.1.4)\n",
      "Requirement already satisfied: rfc3986-validator>=0.1.1 in /Users/jaschob/miniconda3/envs/d2l/lib/python3.8/site-packages (from jupyter-events>=0.9.0->jupyter-server<3,>=2.4.0->notebook->jupyter==1.0.0->d2l) (0.1.1)\n",
      "Requirement already satisfied: ptyprocess>=0.5 in /Users/jaschob/miniconda3/envs/d2l/lib/python3.8/site-packages (from pexpect>4.3->ipython>=7.23.1->ipykernel->jupyter==1.0.0->d2l) (0.7.0)\n",
      "Requirement already satisfied: executing in /Users/jaschob/miniconda3/envs/d2l/lib/python3.8/site-packages (from stack-data->ipython>=7.23.1->ipykernel->jupyter==1.0.0->d2l) (0.8.3)\n",
      "Requirement already satisfied: asttokens in /Users/jaschob/miniconda3/envs/d2l/lib/python3.8/site-packages (from stack-data->ipython>=7.23.1->ipykernel->jupyter==1.0.0->d2l) (2.0.5)\n",
      "Requirement already satisfied: pure-eval in /Users/jaschob/miniconda3/envs/d2l/lib/python3.8/site-packages (from stack-data->ipython>=7.23.1->ipykernel->jupyter==1.0.0->d2l) (0.2.2)\n",
      "Requirement already satisfied: fqdn in /Users/jaschob/miniconda3/envs/d2l/lib/python3.8/site-packages (from jsonschema[format-nongpl]>=4.18.0->jupyter-events>=0.9.0->jupyter-server<3,>=2.4.0->notebook->jupyter==1.0.0->d2l) (1.5.1)\n",
      "Requirement already satisfied: isoduration in /Users/jaschob/miniconda3/envs/d2l/lib/python3.8/site-packages (from jsonschema[format-nongpl]>=4.18.0->jupyter-events>=0.9.0->jupyter-server<3,>=2.4.0->notebook->jupyter==1.0.0->d2l) (20.11.0)\n",
      "Requirement already satisfied: jsonpointer>1.13 in /Users/jaschob/miniconda3/envs/d2l/lib/python3.8/site-packages (from jsonschema[format-nongpl]>=4.18.0->jupyter-events>=0.9.0->jupyter-server<3,>=2.4.0->notebook->jupyter==1.0.0->d2l) (2.4)\n",
      "Requirement already satisfied: uri-template in /Users/jaschob/miniconda3/envs/d2l/lib/python3.8/site-packages (from jsonschema[format-nongpl]>=4.18.0->jupyter-events>=0.9.0->jupyter-server<3,>=2.4.0->notebook->jupyter==1.0.0->d2l) (1.3.0)\n",
      "Requirement already satisfied: webcolors>=1.11 in /Users/jaschob/miniconda3/envs/d2l/lib/python3.8/site-packages (from jsonschema[format-nongpl]>=4.18.0->jupyter-events>=0.9.0->jupyter-server<3,>=2.4.0->notebook->jupyter==1.0.0->d2l) (1.13)\n",
      "Requirement already satisfied: cffi>=1.0.1 in /Users/jaschob/miniconda3/envs/d2l/lib/python3.8/site-packages (from argon2-cffi-bindings->argon2-cffi>=21.1->jupyter-server<3,>=2.4.0->notebook->jupyter==1.0.0->d2l) (1.16.0)\n",
      "Requirement already satisfied: pycparser in /Users/jaschob/miniconda3/envs/d2l/lib/python3.8/site-packages (from cffi>=1.0.1->argon2-cffi-bindings->argon2-cffi>=21.1->jupyter-server<3,>=2.4.0->notebook->jupyter==1.0.0->d2l) (2.21)\n",
      "Requirement already satisfied: arrow>=0.15.0 in /Users/jaschob/miniconda3/envs/d2l/lib/python3.8/site-packages (from isoduration->jsonschema[format-nongpl]>=4.18.0->jupyter-events>=0.9.0->jupyter-server<3,>=2.4.0->notebook->jupyter==1.0.0->d2l) (1.2.3)\n"
     ]
    },
    {
     "name": "stderr",
     "output_type": "stream",
     "text": [
      "/Users/jaschob/miniconda3/envs/d2l/lib/python3.8/site-packages/torchvision/io/image.py:13: UserWarning: Failed to load image Python extension: 'dlopen(/Users/jaschob/miniconda3/envs/d2l/lib/python3.8/site-packages/torchvision/image.so, 0x0006): Symbol not found: __ZN3c1017RegisterOperatorsD1Ev\n",
      "  Referenced from: <ABE0EE74-6D97-3B8C-B690-C44754774FBC> /Users/jaschob/miniconda3/envs/d2l/lib/python3.8/site-packages/torchvision/image.so\n",
      "  Expected in:     <EA4AB737-8320-3563-ACC4-78D44C0573BA> /Users/jaschob/miniconda3/envs/d2l/lib/python3.8/site-packages/torch/lib/libtorch_cpu.dylib'If you don't plan on using image functionality from `torchvision.io`, you can ignore this warning. Otherwise, there might be something wrong with your environment. Did you have `libjpeg` or `libpng` installed before building `torchvision` from source?\n",
      "  warn(\n"
     ]
    }
   ],
   "source": [
    "! pip install d2l\n",
    "import torch\n",
    "from torch import nn\n",
    "from d2l import torch as d2l"
   ]
  },
  {
   "cell_type": "code",
   "execution_count": 2,
   "metadata": {
    "colab": {
     "base_uri": "https://localhost:8080/",
     "height": 528,
     "referenced_widgets": [
      "a3a9646e79ea42779071b9f98679ddf5",
      "ccd19ccfbc3f4249a37382483c1abb01",
      "d20cacd1b8ff42bab9f9c1a8a57f3af2",
      "525973eb00fb4d13bd73198119d0bcc4",
      "ae34dae389844fa790dd2f97c8d63494",
      "cd961b3b8ef6478880e5cb84e69337a2",
      "c5fa3ca2f8fb4dacab05f1d1e665ed79",
      "09c58c689d164d2abcb8d15eeb50a709",
      "2bf528518db643e6ae00b3de48eab34d",
      "b77b6bca5b1748da9ab88edcdaa412d5",
      "5c44b184c72447c3bee06fc34f9fbbe7",
      "3af96abff31c4f139bb458ce3cc46e44",
      "9feead875b434fe1a0c130d0da681345",
      "19b550c1a2984290817b9ae8b8f127f5"
     ]
    },
    "id": "dbQOSS4N3_tY",
    "origin_pos": 4,
    "outputId": "1df16ed9-69bc-4336-8432-77c206dd6eb6",
    "tab": [
     "pytorch"
    ]
   },
   "outputs": [],
   "source": [
    "batch_size = 256\n",
    "train_iter, test_iter = d2l.load_data_fashion_mnist(batch_size)"
   ]
  },
  {
   "cell_type": "markdown",
   "metadata": {
    "id": "MHqMo8re3_ta",
    "origin_pos": 5
   },
   "source": [
    "## Initializing Model Parameters\n",
    "\n",
    "As mentioned before,\n",
    "**the output layer of softmax regression\n",
    "is a fully-connected layer.**\n",
    "Therefore, to implement our model,\n",
    "we just need to add one fully-connected layer\n",
    "with 10 outputs to our `Sequential`.\n",
    "Again, here, the `Sequential` is not really necessary,\n",
    "but we might as well form the habit since it will be ubiquitous\n",
    "when implementing deep models.\n",
    "Again, we initialize the weights at random\n",
    "with zero mean and standard deviation 0.01.\n"
   ]
  },
  {
   "cell_type": "code",
   "execution_count": 3,
   "metadata": {
    "id": "xg8UwcMO3_tc",
    "origin_pos": 7,
    "tab": [
     "pytorch"
    ]
   },
   "outputs": [],
   "source": [
    "# PyTorch does not implicitly reshape the inputs. Thus we define the flatten\n",
    "# layer to reshape the inputs before the linear layer in our network\n",
    "net = nn.Sequential(nn.Flatten(), nn.Linear(784, 10))\n",
    "\n",
    "def init_weights(m):\n",
    "    if type(m) == nn.Linear:\n",
    "        nn.init.normal_(m.weight, std=0.01)\n",
    "\n",
    "net.apply(init_weights);\n",
    "# The function \"apply\" applies a function to all elements of a tensor - so here it will initialize\n",
    "# the weights. You can read more here, if you want https://pytorch.org/docs/stable/generated/torch.nn.Module.html "
   ]
  },
  {
   "cell_type": "markdown",
   "metadata": {
    "id": "yLQ94__N3_te",
    "origin_pos": 9
   },
   "source": [
    "## Softmax Implementation Revisited\n",
    "\n",
    "In the previous example,\n",
    "we calculated our model's output\n",
    "and then ran this output through the cross-entropy loss.\n",
    "Mathematically, that is a perfectly reasonable thing to do.\n",
    "However, from a computational perspective,\n",
    "exponentiation can be a source of numerical stability issues.\n",
    "\n",
    "Recall that the softmax function calculates\n",
    "$\\hat y_j = \\frac{\\exp(o_j)}{\\sum_k \\exp(o_k)}$,\n",
    "where $\\hat y_j$ is the $j^\\mathrm{th}$ element of\n",
    "the predicted probability distribution $\\hat{\\mathbf{y}}$\n",
    "and $o_j$ is the $j^\\mathrm{th}$ element of the logits\n",
    "$\\mathbf{o}$.\n",
    "If some of the $o_k$ are very large (i.e., very positive),\n",
    "then $\\exp(o_k)$ might be larger than the largest number\n",
    "we can have for certain data types (i.e., *overflow*).\n",
    "This would make the denominator (and/or numerator) `inf` (infinity)\n",
    "and we wind up encountering either 0, `inf`, or `nan` (not a number) for $\\hat y_j$.\n",
    "In these situations we do not get a well-defined\n",
    "return value for cross-entropy.\n",
    "\n",
    "\n",
    "One trick to get around this is to first subtract $\\max(o_k)$\n",
    "from all $o_k$ before proceeding with the softmax calculation.\n",
    "You can see that this shifting of each $o_k$ by constant factor\n",
    "does not change the return value of softmax:\n",
    "\n",
    "$$\n",
    "\\begin{aligned}\n",
    "\\hat y_j & =  \\frac{\\exp(o_j - \\max(o_k))\\exp(\\max(o_k))}{\\sum_k \\exp(o_k - \\max(o_k))\\exp(\\max(o_k))} \\\\\n",
    "& = \\frac{\\exp(o_j - \\max(o_k))}{\\sum_k \\exp(o_k - \\max(o_k))}.\n",
    "\\end{aligned}\n",
    "$$\n",
    "\n",
    "\n",
    "After the subtraction and normalization step,\n",
    "it might be possible that some $o_j - \\max(o_k)$ have large negative values\n",
    "and thus that the corresponding $\\exp(o_j - \\max(o_k))$ will take values close to zero.\n",
    "These might be rounded to zero due to finite precision (i.e., *underflow*),\n",
    "making $\\hat y_j$ zero and giving us `-inf` for $\\log(\\hat y_j)$.\n",
    "A few steps down the road in backpropagation,\n",
    "we might find ourselves faced with a screenful\n",
    "of the dreaded `nan` results.\n",
    "\n",
    "Fortunately, we are saved by the fact that\n",
    "even though we are computing exponential functions,\n",
    "we ultimately intend to take their log\n",
    "(when calculating the cross-entropy loss).\n",
    "By combining these two operators\n",
    "softmax and cross-entropy together,\n",
    "we can escape the numerical stability issues\n",
    "that might otherwise plague us during backpropagation.\n",
    "As shown in the equation below, we avoid calculating $\\exp(o_j - \\max(o_k))$\n",
    "and can use instead $o_j - \\max(o_k)$ directly due to the canceling in $\\log(\\exp(\\cdot))$:\n",
    "\n",
    "$$\n",
    "\\begin{aligned}\n",
    "\\log{(\\hat y_j)} & = \\log\\left( \\frac{\\exp(o_j - \\max(o_k))}{\\sum_k \\exp(o_k - \\max(o_k))}\\right) \\\\\n",
    "& = \\log{(\\exp(o_j - \\max(o_k)))}-\\log{\\left( \\sum_k \\exp(o_k - \\max(o_k)) \\right)} \\\\\n",
    "& = o_j - \\max(o_k) -\\log{\\left( \\sum_k \\exp(o_k - \\max(o_k)) \\right)}.\n",
    "\\end{aligned}\n",
    "$$\n",
    "\n",
    "We will want to keep the conventional softmax function handy\n",
    "in case we ever want to evaluate the output probabilities by our model.\n",
    "But instead of passing softmax probabilities into our new loss function,\n",
    "we will just\n",
    "**pass the logits and compute the softmax and its log\n",
    "all at once inside the cross-entropy loss function,**\n",
    "which does smart things like the [\"LogSumExp trick\"](https://en.wikipedia.org/wiki/LogSumExp).\n"
   ]
  },
  {
   "cell_type": "code",
   "execution_count": 4,
   "metadata": {
    "id": "A846bK-Y3_tg",
    "origin_pos": 11,
    "tab": [
     "pytorch"
    ]
   },
   "outputs": [],
   "source": [
    "loss = nn.CrossEntropyLoss()"
   ]
  },
  {
   "cell_type": "markdown",
   "metadata": {
    "id": "b01eDvZC3_th",
    "origin_pos": 13
   },
   "source": [
    "## Optimization Algorithm\n",
    "\n",
    "Here, we **use minibatch stochastic gradient descent**\n",
    "with a learning rate of 0.1 as the optimization algorithm.\n",
    "Note that this is the same as we applied in the linear regression example\n",
    "and it illustrates the general applicability of the optimizers.\n"
   ]
  },
  {
   "cell_type": "code",
   "execution_count": 5,
   "metadata": {
    "id": "eFDG0tFj3_tk",
    "origin_pos": 15,
    "tab": [
     "pytorch"
    ]
   },
   "outputs": [],
   "source": [
    "trainer = torch.optim.SGD(net.parameters(), lr=0.1)"
   ]
  },
  {
   "cell_type": "markdown",
   "metadata": {
    "id": "FrTGBjmU3_tn",
    "origin_pos": 17
   },
   "source": [
    "## Training\n",
    "\n",
    "Next we **call the training function defined** earlier in the implementation from the scratch to train the model.\n"
   ]
  },
  {
   "cell_type": "code",
   "execution_count": 6,
   "metadata": {
    "colab": {
     "base_uri": "https://localhost:8080/",
     "height": 262
    },
    "id": "BPYUn21A3_tp",
    "origin_pos": 18,
    "outputId": "07aac35c-f4d5-4533-a4c7-7d2bbafe1c93",
    "tab": [
     "pytorch"
    ]
   },
   "outputs": [
    {
     "ename": "AttributeError",
     "evalue": "module 'd2l.torch' has no attribute 'train_ch3'",
     "output_type": "error",
     "traceback": [
      "\u001b[0;31m---------------------------------------------------------------------------\u001b[0m",
      "\u001b[0;31mAttributeError\u001b[0m                            Traceback (most recent call last)",
      "Cell \u001b[0;32mIn[6], line 2\u001b[0m\n\u001b[1;32m      1\u001b[0m num_epochs \u001b[38;5;241m=\u001b[39m \u001b[38;5;241m10\u001b[39m\n\u001b[0;32m----> 2\u001b[0m \u001b[43md2l\u001b[49m\u001b[38;5;241;43m.\u001b[39;49m\u001b[43mtrain_ch3\u001b[49m(net, train_iter, test_iter, loss, num_epochs, trainer)\n",
      "\u001b[0;31mAttributeError\u001b[0m: module 'd2l.torch' has no attribute 'train_ch3'"
     ]
    }
   ],
   "source": [
    "num_epochs = 10\n",
    "d2l.train_ch3(net, train_iter, test_iter, loss, num_epochs, trainer)"
   ]
  },
  {
   "cell_type": "markdown",
   "metadata": {
    "id": "_F6SyT8E3_ts",
    "origin_pos": 19
   },
   "source": [
    "As before, this algorithm converges to a solution\n",
    "that achieves a decent accuracy,\n",
    "albeit this time with fewer lines of code than before.\n",
    "\n",
    "\n",
    "## Summary\n",
    "\n",
    "* Using high-level APIs, we can implement softmax regression much more concisely.\n",
    "* From a computational perspective, implementing softmax regression has intricacies. Note that in many cases, a deep learning framework takes additional precautions beyond these most well-known tricks to ensure numerical stability, saving us from even more pitfalls that we would encounter if we tried to code all of our models from scratch in practice.\n",
    "\n",
    "## Exercises\n",
    "\n"
   ]
  },
  {
   "cell_type": "markdown",
   "metadata": {
    "id": "LZR6ZDb368vJ"
   },
   "source": [
    "1. Try adjusting the hyperparameters, such as the batch size, number of epochs, and learning rate, to see what the results are.\n",
    "\n"
   ]
  },
  {
   "cell_type": "markdown",
   "metadata": {
    "id": "bWELzg6k6-Ob"
   },
   "source": [
    "2. Increase the number of epochs for training. Why might the test accuracy decrease after a while? How could we fix this?"
   ]
  },
  {
   "cell_type": "markdown",
   "metadata": {
    "id": "ZYHKRdKr3_tt",
    "origin_pos": 21,
    "tab": [
     "pytorch"
    ]
   },
   "source": [
    "[Discussions](https://discuss.d2l.ai/t/53)\n"
   ]
  }
 ],
 "metadata": {
  "colab": {
   "name": "softmax_regression_concise.ipynb",
   "provenance": []
  },
  "kernelspec": {
   "display_name": "Python 3 (ipykernel)",
   "language": "python",
   "name": "python3"
  },
  "language_info": {
   "codemirror_mode": {
    "name": "ipython",
    "version": 3
   },
   "file_extension": ".py",
   "mimetype": "text/x-python",
   "name": "python",
   "nbconvert_exporter": "python",
   "pygments_lexer": "ipython3",
   "version": "3.8.19"
  },
  "widgets": {
   "application/vnd.jupyter.widget-state+json": {
    "09c58c689d164d2abcb8d15eeb50a709": {
     "model_module": "@jupyter-widgets/controls",
     "model_module_version": "1.5.0",
     "model_name": "ProgressStyleModel",
     "state": {
      "_model_module": "@jupyter-widgets/controls",
      "_model_module_version": "1.5.0",
      "_model_name": "ProgressStyleModel",
      "_view_count": null,
      "_view_module": "@jupyter-widgets/base",
      "_view_module_version": "1.2.0",
      "_view_name": "StyleView",
      "bar_color": null,
      "description_width": ""
     }
    },
    "2bf528518db643e6ae00b3de48eab34d": {
     "model_module": "@jupyter-widgets/base",
     "model_module_version": "1.2.0",
     "model_name": "LayoutModel",
     "state": {
      "_model_module": "@jupyter-widgets/base",
      "_model_module_version": "1.2.0",
      "_model_name": "LayoutModel",
      "_view_count": null,
      "_view_module": "@jupyter-widgets/base",
      "_view_module_version": "1.2.0",
      "_view_name": "LayoutView",
      "align_content": null,
      "align_items": null,
      "align_self": null,
      "border": null,
      "bottom": null,
      "display": null,
      "flex": null,
      "flex_flow": null,
      "grid_area": null,
      "grid_auto_columns": null,
      "grid_auto_flow": null,
      "grid_auto_rows": null,
      "grid_column": null,
      "grid_gap": null,
      "grid_row": null,
      "grid_template_areas": null,
      "grid_template_columns": null,
      "grid_template_rows": null,
      "height": null,
      "justify_content": null,
      "justify_items": null,
      "left": null,
      "margin": null,
      "max_height": null,
      "max_width": null,
      "min_height": null,
      "min_width": null,
      "object_fit": null,
      "object_position": null,
      "order": null,
      "overflow": null,
      "overflow_x": null,
      "overflow_y": null,
      "padding": null,
      "right": null,
      "top": null,
      "visibility": null,
      "width": null
     }
    },
    "525973eb00fb4d13bd73198119d0bcc4": {
     "model_module": "@jupyter-widgets/controls",
     "model_module_version": "1.5.0",
     "model_name": "FloatProgressModel",
     "state": {
      "_dom_classes": [],
      "_model_module": "@jupyter-widgets/controls",
      "_model_module_version": "1.5.0",
      "_model_name": "FloatProgressModel",
      "_view_count": null,
      "_view_module": "@jupyter-widgets/controls",
      "_view_module_version": "1.5.0",
      "_view_name": "ProgressView",
      "bar_style": "success",
      "description": "",
      "description_tooltip": null,
      "layout": "IPY_MODEL_2bf528518db643e6ae00b3de48eab34d",
      "max": 26421880,
      "min": 0,
      "orientation": "horizontal",
      "style": "IPY_MODEL_09c58c689d164d2abcb8d15eeb50a709",
      "value": 26421880
     }
    },
    "5c44b184c72447c3bee06fc34f9fbbe7": {
     "model_module": "@jupyter-widgets/base",
     "model_module_version": "1.2.0",
     "model_name": "LayoutModel",
     "state": {
      "_model_module": "@jupyter-widgets/base",
      "_model_module_version": "1.2.0",
      "_model_name": "LayoutModel",
      "_view_count": null,
      "_view_module": "@jupyter-widgets/base",
      "_view_module_version": "1.2.0",
      "_view_name": "LayoutView",
      "align_content": null,
      "align_items": null,
      "align_self": null,
      "border": null,
      "bottom": null,
      "display": null,
      "flex": null,
      "flex_flow": null,
      "grid_area": null,
      "grid_auto_columns": null,
      "grid_auto_flow": null,
      "grid_auto_rows": null,
      "grid_column": null,
      "grid_gap": null,
      "grid_row": null,
      "grid_template_areas": null,
      "grid_template_columns": null,
      "grid_template_rows": null,
      "height": null,
      "justify_content": null,
      "justify_items": null,
      "left": null,
      "margin": null,
      "max_height": null,
      "max_width": null,
      "min_height": null,
      "min_width": null,
      "object_fit": null,
      "object_position": null,
      "order": null,
      "overflow": null,
      "overflow_x": null,
      "overflow_y": null,
      "padding": null,
      "right": null,
      "top": null,
      "visibility": null,
      "width": null
     }
    },
    "a3a9646e79ea42779071b9f98679ddf5": {
     "model_module": "@jupyter-widgets/controls",
     "model_module_version": "1.5.0",
     "model_name": "HBoxModel",
     "state": {
      "_dom_classes": [],
      "_model_module": "@jupyter-widgets/controls",
      "_model_module_version": "1.5.0",
      "_model_name": "HBoxModel",
      "_view_count": null,
      "_view_module": "@jupyter-widgets/controls",
      "_view_module_version": "1.5.0",
      "_view_name": "HBoxView",
      "box_style": "",
      "children": [
       "IPY_MODEL_d20cacd1b8ff42bab9f9c1a8a57f3af2",
       "IPY_MODEL_525973eb00fb4d13bd73198119d0bcc4",
       "IPY_MODEL_ae34dae389844fa790dd2f97c8d63494"
      ],
      "layout": "IPY_MODEL_ccd19ccfbc3f4249a37382483c1abb01"
     }
    },
    "ae34dae389844fa790dd2f97c8d63494": {
     "model_module": "@jupyter-widgets/controls",
     "model_module_version": "1.5.0",
     "model_name": "HTMLModel",
     "state": {
      "_dom_classes": [],
      "_model_module": "@jupyter-widgets/controls",
      "_model_module_version": "1.5.0",
      "_model_name": "HTMLModel",
      "_view_count": null,
      "_view_module": "@jupyter-widgets/controls",
      "_view_module_version": "1.5.0",
      "_view_name": "HTMLView",
      "description": "",
      "description_tooltip": null,
      "layout": "IPY_MODEL_5c44b184c72447c3bee06fc34f9fbbe7",
      "placeholder": "​",
      "style": "IPY_MODEL_b77b6bca5b1748da9ab88edcdaa412d5",
      "value": " 26422272/? [00:00&lt;00:00, 84834582.27it/s]"
     }
    },
    "b77b6bca5b1748da9ab88edcdaa412d5": {
     "model_module": "@jupyter-widgets/controls",
     "model_module_version": "1.5.0",
     "model_name": "DescriptionStyleModel",
     "state": {
      "_model_module": "@jupyter-widgets/controls",
      "_model_module_version": "1.5.0",
      "_model_name": "DescriptionStyleModel",
      "_view_count": null,
      "_view_module": "@jupyter-widgets/base",
      "_view_module_version": "1.2.0",
      "_view_name": "StyleView",
      "description_width": ""
     }
    },
    "c5fa3ca2f8fb4dacab05f1d1e665ed79": {
     "model_module": "@jupyter-widgets/base",
     "model_module_version": "1.2.0",
     "model_name": "LayoutModel",
     "state": {
      "_model_module": "@jupyter-widgets/base",
      "_model_module_version": "1.2.0",
      "_model_name": "LayoutModel",
      "_view_count": null,
      "_view_module": "@jupyter-widgets/base",
      "_view_module_version": "1.2.0",
      "_view_name": "LayoutView",
      "align_content": null,
      "align_items": null,
      "align_self": null,
      "border": null,
      "bottom": null,
      "display": null,
      "flex": null,
      "flex_flow": null,
      "grid_area": null,
      "grid_auto_columns": null,
      "grid_auto_flow": null,
      "grid_auto_rows": null,
      "grid_column": null,
      "grid_gap": null,
      "grid_row": null,
      "grid_template_areas": null,
      "grid_template_columns": null,
      "grid_template_rows": null,
      "height": null,
      "justify_content": null,
      "justify_items": null,
      "left": null,
      "margin": null,
      "max_height": null,
      "max_width": null,
      "min_height": null,
      "min_width": null,
      "object_fit": null,
      "object_position": null,
      "order": null,
      "overflow": null,
      "overflow_x": null,
      "overflow_y": null,
      "padding": null,
      "right": null,
      "top": null,
      "visibility": null,
      "width": null
     }
    },
    "ccd19ccfbc3f4249a37382483c1abb01": {
     "model_module": "@jupyter-widgets/base",
     "model_module_version": "1.2.0",
     "model_name": "LayoutModel",
     "state": {
      "_model_module": "@jupyter-widgets/base",
      "_model_module_version": "1.2.0",
      "_model_name": "LayoutModel",
      "_view_count": null,
      "_view_module": "@jupyter-widgets/base",
      "_view_module_version": "1.2.0",
      "_view_name": "LayoutView",
      "align_content": null,
      "align_items": null,
      "align_self": null,
      "border": null,
      "bottom": null,
      "display": null,
      "flex": null,
      "flex_flow": null,
      "grid_area": null,
      "grid_auto_columns": null,
      "grid_auto_flow": null,
      "grid_auto_rows": null,
      "grid_column": null,
      "grid_gap": null,
      "grid_row": null,
      "grid_template_areas": null,
      "grid_template_columns": null,
      "grid_template_rows": null,
      "height": null,
      "justify_content": null,
      "justify_items": null,
      "left": null,
      "margin": null,
      "max_height": null,
      "max_width": null,
      "min_height": null,
      "min_width": null,
      "object_fit": null,
      "object_position": null,
      "order": null,
      "overflow": null,
      "overflow_x": null,
      "overflow_y": null,
      "padding": null,
      "right": null,
      "top": null,
      "visibility": null,
      "width": null
     }
    },
    "cd961b3b8ef6478880e5cb84e69337a2": {
     "model_module": "@jupyter-widgets/controls",
     "model_module_version": "1.5.0",
     "model_name": "DescriptionStyleModel",
     "state": {
      "_model_module": "@jupyter-widgets/controls",
      "_model_module_version": "1.5.0",
      "_model_name": "DescriptionStyleModel",
      "_view_count": null,
      "_view_module": "@jupyter-widgets/base",
      "_view_module_version": "1.2.0",
      "_view_name": "StyleView",
      "description_width": ""
     }
    },
    "d20cacd1b8ff42bab9f9c1a8a57f3af2": {
     "model_module": "@jupyter-widgets/controls",
     "model_module_version": "1.5.0",
     "model_name": "HTMLModel",
     "state": {
      "_dom_classes": [],
      "_model_module": "@jupyter-widgets/controls",
      "_model_module_version": "1.5.0",
      "_model_name": "HTMLModel",
      "_view_count": null,
      "_view_module": "@jupyter-widgets/controls",
      "_view_module_version": "1.5.0",
      "_view_name": "HTMLView",
      "description": "",
      "description_tooltip": null,
      "layout": "IPY_MODEL_c5fa3ca2f8fb4dacab05f1d1e665ed79",
      "placeholder": "​",
      "style": "IPY_MODEL_cd961b3b8ef6478880e5cb84e69337a2",
      "value": ""
     }
    }
   }
  }
 },
 "nbformat": 4,
 "nbformat_minor": 4
}
