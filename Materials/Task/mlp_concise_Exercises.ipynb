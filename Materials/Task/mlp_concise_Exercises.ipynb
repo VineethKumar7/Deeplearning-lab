{
 "cells": [
  {
   "cell_type": "markdown",
   "metadata": {
    "id": "wbXT6alfgl-N",
    "origin_pos": 0
   },
   "source": [
    "# Concise Implementation of Multilayer Perceptrons\n",
    "\n",
    "As you might expect, by **relying on the high-level APIs,\n",
    "we can implement MLPs even more concisely.**\n"
   ]
  },
  {
   "cell_type": "code",
   "execution_count": 1,
   "metadata": {
    "colab": {
     "base_uri": "https://localhost:8080/"
    },
    "id": "dCG3Uttugl-Q",
    "origin_pos": 2,
    "outputId": "78a98a01-57af-4c2a-aa8b-da2e9039583a",
    "tab": [
     "pytorch"
    ]
   },
   "outputs": [
    {
     "name": "stdout",
     "output_type": "stream",
     "text": [
      "Requirement already satisfied: d2l in /Users/jaschob/miniconda3/envs/d2l/lib/python3.8/site-packages (1.0.3)\n",
      "Requirement already satisfied: jupyter==1.0.0 in /Users/jaschob/miniconda3/envs/d2l/lib/python3.8/site-packages (from d2l) (1.0.0)\n",
      "Requirement already satisfied: numpy==1.23.5 in /Users/jaschob/miniconda3/envs/d2l/lib/python3.8/site-packages (from d2l) (1.23.5)\n",
      "Requirement already satisfied: matplotlib==3.7.2 in /Users/jaschob/miniconda3/envs/d2l/lib/python3.8/site-packages (from d2l) (3.7.2)\n",
      "Requirement already satisfied: matplotlib-inline==0.1.6 in /Users/jaschob/miniconda3/envs/d2l/lib/python3.8/site-packages (from d2l) (0.1.6)\n",
      "Requirement already satisfied: requests==2.31.0 in /Users/jaschob/miniconda3/envs/d2l/lib/python3.8/site-packages (from d2l) (2.31.0)\n",
      "Requirement already satisfied: pandas==2.0.3 in /Users/jaschob/miniconda3/envs/d2l/lib/python3.8/site-packages (from d2l) (2.0.3)\n",
      "Requirement already satisfied: scipy==1.10.1 in /Users/jaschob/miniconda3/envs/d2l/lib/python3.8/site-packages (from d2l) (1.10.1)\n",
      "Requirement already satisfied: notebook in /Users/jaschob/miniconda3/envs/d2l/lib/python3.8/site-packages (from jupyter==1.0.0->d2l) (7.1.3)\n",
      "Requirement already satisfied: qtconsole in /Users/jaschob/miniconda3/envs/d2l/lib/python3.8/site-packages (from jupyter==1.0.0->d2l) (5.4.2)\n",
      "Requirement already satisfied: jupyter-console in /Users/jaschob/miniconda3/envs/d2l/lib/python3.8/site-packages (from jupyter==1.0.0->d2l) (6.6.3)\n",
      "Requirement already satisfied: nbconvert in /Users/jaschob/miniconda3/envs/d2l/lib/python3.8/site-packages (from jupyter==1.0.0->d2l) (7.10.0)\n",
      "Requirement already satisfied: ipykernel in /Users/jaschob/miniconda3/envs/d2l/lib/python3.8/site-packages (from jupyter==1.0.0->d2l) (6.25.0)\n",
      "Requirement already satisfied: ipywidgets in /Users/jaschob/miniconda3/envs/d2l/lib/python3.8/site-packages (from jupyter==1.0.0->d2l) (8.1.2)\n",
      "Requirement already satisfied: contourpy>=1.0.1 in /Users/jaschob/miniconda3/envs/d2l/lib/python3.8/site-packages (from matplotlib==3.7.2->d2l) (1.1.1)\n",
      "Requirement already satisfied: cycler>=0.10 in /Users/jaschob/miniconda3/envs/d2l/lib/python3.8/site-packages (from matplotlib==3.7.2->d2l) (0.12.1)\n",
      "Requirement already satisfied: fonttools>=4.22.0 in /Users/jaschob/miniconda3/envs/d2l/lib/python3.8/site-packages (from matplotlib==3.7.2->d2l) (4.51.0)\n",
      "Requirement already satisfied: kiwisolver>=1.0.1 in /Users/jaschob/miniconda3/envs/d2l/lib/python3.8/site-packages (from matplotlib==3.7.2->d2l) (1.4.5)\n",
      "Requirement already satisfied: packaging>=20.0 in /Users/jaschob/miniconda3/envs/d2l/lib/python3.8/site-packages (from matplotlib==3.7.2->d2l) (23.1)\n",
      "Requirement already satisfied: pillow>=6.2.0 in /Users/jaschob/miniconda3/envs/d2l/lib/python3.8/site-packages (from matplotlib==3.7.2->d2l) (10.3.0)\n",
      "Requirement already satisfied: pyparsing<3.1,>=2.3.1 in /Users/jaschob/miniconda3/envs/d2l/lib/python3.8/site-packages (from matplotlib==3.7.2->d2l) (3.0.9)\n",
      "Requirement already satisfied: python-dateutil>=2.7 in /Users/jaschob/miniconda3/envs/d2l/lib/python3.8/site-packages (from matplotlib==3.7.2->d2l) (2.8.2)\n",
      "Requirement already satisfied: importlib-resources>=3.2.0 in /Users/jaschob/miniconda3/envs/d2l/lib/python3.8/site-packages (from matplotlib==3.7.2->d2l) (6.1.0)\n",
      "Requirement already satisfied: traitlets in /Users/jaschob/miniconda3/envs/d2l/lib/python3.8/site-packages (from matplotlib-inline==0.1.6->d2l) (5.14.3)\n",
      "Requirement already satisfied: pytz>=2020.1 in /Users/jaschob/miniconda3/envs/d2l/lib/python3.8/site-packages (from pandas==2.0.3->d2l) (2023.3.post1)\n",
      "Requirement already satisfied: tzdata>=2022.1 in /Users/jaschob/miniconda3/envs/d2l/lib/python3.8/site-packages (from pandas==2.0.3->d2l) (2024.1)\n",
      "Requirement already satisfied: charset-normalizer<4,>=2 in /Users/jaschob/miniconda3/envs/d2l/lib/python3.8/site-packages (from requests==2.31.0->d2l) (2.0.4)\n",
      "Requirement already satisfied: idna<4,>=2.5 in /Users/jaschob/miniconda3/envs/d2l/lib/python3.8/site-packages (from requests==2.31.0->d2l) (3.4)\n",
      "Requirement already satisfied: urllib3<3,>=1.21.1 in /Users/jaschob/miniconda3/envs/d2l/lib/python3.8/site-packages (from requests==2.31.0->d2l) (1.26.18)\n",
      "Requirement already satisfied: certifi>=2017.4.17 in /Users/jaschob/miniconda3/envs/d2l/lib/python3.8/site-packages (from requests==2.31.0->d2l) (2024.2.2)\n",
      "Requirement already satisfied: zipp>=3.1.0 in /Users/jaschob/miniconda3/envs/d2l/lib/python3.8/site-packages (from importlib-resources>=3.2.0->matplotlib==3.7.2->d2l) (3.11.0)\n",
      "Requirement already satisfied: six>=1.5 in /Users/jaschob/miniconda3/envs/d2l/lib/python3.8/site-packages (from python-dateutil>=2.7->matplotlib==3.7.2->d2l) (1.16.0)\n",
      "Requirement already satisfied: appnope in /Users/jaschob/miniconda3/envs/d2l/lib/python3.8/site-packages (from ipykernel->jupyter==1.0.0->d2l) (0.1.2)\n",
      "Requirement already satisfied: comm>=0.1.1 in /Users/jaschob/miniconda3/envs/d2l/lib/python3.8/site-packages (from ipykernel->jupyter==1.0.0->d2l) (0.2.2)\n",
      "Requirement already satisfied: debugpy>=1.6.5 in /Users/jaschob/miniconda3/envs/d2l/lib/python3.8/site-packages (from ipykernel->jupyter==1.0.0->d2l) (1.6.7)\n",
      "Requirement already satisfied: ipython>=7.23.1 in /Users/jaschob/miniconda3/envs/d2l/lib/python3.8/site-packages (from ipykernel->jupyter==1.0.0->d2l) (8.12.2)\n",
      "Requirement already satisfied: jupyter-client>=6.1.12 in /Users/jaschob/miniconda3/envs/d2l/lib/python3.8/site-packages (from ipykernel->jupyter==1.0.0->d2l) (8.6.0)\n",
      "Requirement already satisfied: jupyter-core!=5.0.*,>=4.12 in /Users/jaschob/miniconda3/envs/d2l/lib/python3.8/site-packages (from ipykernel->jupyter==1.0.0->d2l) (5.5.0)\n",
      "Requirement already satisfied: nest-asyncio in /Users/jaschob/miniconda3/envs/d2l/lib/python3.8/site-packages (from ipykernel->jupyter==1.0.0->d2l) (1.5.6)\n",
      "Requirement already satisfied: psutil in /Users/jaschob/miniconda3/envs/d2l/lib/python3.8/site-packages (from ipykernel->jupyter==1.0.0->d2l) (5.9.0)\n",
      "Requirement already satisfied: pyzmq>=20 in /Users/jaschob/miniconda3/envs/d2l/lib/python3.8/site-packages (from ipykernel->jupyter==1.0.0->d2l) (25.1.0)\n",
      "Requirement already satisfied: tornado>=6.1 in /Users/jaschob/miniconda3/envs/d2l/lib/python3.8/site-packages (from ipykernel->jupyter==1.0.0->d2l) (6.3.3)\n",
      "Requirement already satisfied: widgetsnbextension~=4.0.10 in /Users/jaschob/miniconda3/envs/d2l/lib/python3.8/site-packages (from ipywidgets->jupyter==1.0.0->d2l) (4.0.10)\n",
      "Requirement already satisfied: jupyterlab-widgets~=3.0.10 in /Users/jaschob/miniconda3/envs/d2l/lib/python3.8/site-packages (from ipywidgets->jupyter==1.0.0->d2l) (3.0.10)\n",
      "Requirement already satisfied: prompt-toolkit>=3.0.30 in /Users/jaschob/miniconda3/envs/d2l/lib/python3.8/site-packages (from jupyter-console->jupyter==1.0.0->d2l) (3.0.36)\n",
      "Requirement already satisfied: pygments in /Users/jaschob/miniconda3/envs/d2l/lib/python3.8/site-packages (from jupyter-console->jupyter==1.0.0->d2l) (2.15.1)\n",
      "Requirement already satisfied: beautifulsoup4 in /Users/jaschob/miniconda3/envs/d2l/lib/python3.8/site-packages (from nbconvert->jupyter==1.0.0->d2l) (4.12.2)\n",
      "Requirement already satisfied: bleach!=5.0.0 in /Users/jaschob/miniconda3/envs/d2l/lib/python3.8/site-packages (from nbconvert->jupyter==1.0.0->d2l) (4.1.0)\n",
      "Requirement already satisfied: defusedxml in /Users/jaschob/miniconda3/envs/d2l/lib/python3.8/site-packages (from nbconvert->jupyter==1.0.0->d2l) (0.7.1)\n",
      "Requirement already satisfied: importlib-metadata>=3.6 in /Users/jaschob/miniconda3/envs/d2l/lib/python3.8/site-packages (from nbconvert->jupyter==1.0.0->d2l) (6.0.0)\n",
      "Requirement already satisfied: jinja2>=3.0 in /Users/jaschob/miniconda3/envs/d2l/lib/python3.8/site-packages (from nbconvert->jupyter==1.0.0->d2l) (3.1.3)\n",
      "Requirement already satisfied: jupyterlab-pygments in /Users/jaschob/miniconda3/envs/d2l/lib/python3.8/site-packages (from nbconvert->jupyter==1.0.0->d2l) (0.2.2)\n",
      "Requirement already satisfied: markupsafe>=2.0 in /Users/jaschob/miniconda3/envs/d2l/lib/python3.8/site-packages (from nbconvert->jupyter==1.0.0->d2l) (2.1.3)\n",
      "Requirement already satisfied: mistune<4,>=2.0.3 in /Users/jaschob/miniconda3/envs/d2l/lib/python3.8/site-packages (from nbconvert->jupyter==1.0.0->d2l) (2.0.4)\n",
      "Requirement already satisfied: nbclient>=0.5.0 in /Users/jaschob/miniconda3/envs/d2l/lib/python3.8/site-packages (from nbconvert->jupyter==1.0.0->d2l) (0.10.0)\n",
      "Requirement already satisfied: nbformat>=5.7 in /Users/jaschob/miniconda3/envs/d2l/lib/python3.8/site-packages (from nbconvert->jupyter==1.0.0->d2l) (5.10.4)\n",
      "Requirement already satisfied: pandocfilters>=1.4.1 in /Users/jaschob/miniconda3/envs/d2l/lib/python3.8/site-packages (from nbconvert->jupyter==1.0.0->d2l) (1.5.0)\n",
      "Requirement already satisfied: tinycss2 in /Users/jaschob/miniconda3/envs/d2l/lib/python3.8/site-packages (from nbconvert->jupyter==1.0.0->d2l) (1.2.1)\n",
      "Requirement already satisfied: jupyter-server<3,>=2.4.0 in /Users/jaschob/miniconda3/envs/d2l/lib/python3.8/site-packages (from notebook->jupyter==1.0.0->d2l) (2.14.0)\n",
      "Requirement already satisfied: jupyterlab-server<3,>=2.22.1 in /Users/jaschob/miniconda3/envs/d2l/lib/python3.8/site-packages (from notebook->jupyter==1.0.0->d2l) (2.27.1)\n",
      "Requirement already satisfied: jupyterlab<4.2,>=4.1.1 in /Users/jaschob/miniconda3/envs/d2l/lib/python3.8/site-packages (from notebook->jupyter==1.0.0->d2l) (4.1.8)\n",
      "Requirement already satisfied: notebook-shim<0.3,>=0.2 in /Users/jaschob/miniconda3/envs/d2l/lib/python3.8/site-packages (from notebook->jupyter==1.0.0->d2l) (0.2.4)\n",
      "Requirement already satisfied: ipython-genutils in /Users/jaschob/miniconda3/envs/d2l/lib/python3.8/site-packages (from qtconsole->jupyter==1.0.0->d2l) (0.2.0)\n",
      "Requirement already satisfied: qtpy>=2.0.1 in /Users/jaschob/miniconda3/envs/d2l/lib/python3.8/site-packages (from qtconsole->jupyter==1.0.0->d2l) (2.4.1)\n",
      "Requirement already satisfied: webencodings in /Users/jaschob/miniconda3/envs/d2l/lib/python3.8/site-packages (from bleach!=5.0.0->nbconvert->jupyter==1.0.0->d2l) (0.5.1)\n",
      "Requirement already satisfied: backcall in /Users/jaschob/miniconda3/envs/d2l/lib/python3.8/site-packages (from ipython>=7.23.1->ipykernel->jupyter==1.0.0->d2l) (0.2.0)\n",
      "Requirement already satisfied: decorator in /Users/jaschob/miniconda3/envs/d2l/lib/python3.8/site-packages (from ipython>=7.23.1->ipykernel->jupyter==1.0.0->d2l) (5.1.1)\n",
      "Requirement already satisfied: jedi>=0.16 in /Users/jaschob/miniconda3/envs/d2l/lib/python3.8/site-packages (from ipython>=7.23.1->ipykernel->jupyter==1.0.0->d2l) (0.18.1)\n",
      "Requirement already satisfied: pickleshare in /Users/jaschob/miniconda3/envs/d2l/lib/python3.8/site-packages (from ipython>=7.23.1->ipykernel->jupyter==1.0.0->d2l) (0.7.5)\n",
      "Requirement already satisfied: stack-data in /Users/jaschob/miniconda3/envs/d2l/lib/python3.8/site-packages (from ipython>=7.23.1->ipykernel->jupyter==1.0.0->d2l) (0.2.0)\n",
      "Requirement already satisfied: typing-extensions in /Users/jaschob/miniconda3/envs/d2l/lib/python3.8/site-packages (from ipython>=7.23.1->ipykernel->jupyter==1.0.0->d2l) (4.11.0)\n",
      "Requirement already satisfied: pexpect>4.3 in /Users/jaschob/miniconda3/envs/d2l/lib/python3.8/site-packages (from ipython>=7.23.1->ipykernel->jupyter==1.0.0->d2l) (4.8.0)\n",
      "Requirement already satisfied: platformdirs>=2.5 in /Users/jaschob/miniconda3/envs/d2l/lib/python3.8/site-packages (from jupyter-core!=5.0.*,>=4.12->ipykernel->jupyter==1.0.0->d2l) (3.10.0)\n",
      "Requirement already satisfied: anyio>=3.1.0 in /Users/jaschob/miniconda3/envs/d2l/lib/python3.8/site-packages (from jupyter-server<3,>=2.4.0->notebook->jupyter==1.0.0->d2l) (4.3.0)\n",
      "Requirement already satisfied: argon2-cffi>=21.1 in /Users/jaschob/miniconda3/envs/d2l/lib/python3.8/site-packages (from jupyter-server<3,>=2.4.0->notebook->jupyter==1.0.0->d2l) (23.1.0)\n",
      "Requirement already satisfied: jupyter-events>=0.9.0 in /Users/jaschob/miniconda3/envs/d2l/lib/python3.8/site-packages (from jupyter-server<3,>=2.4.0->notebook->jupyter==1.0.0->d2l) (0.10.0)\n",
      "Requirement already satisfied: jupyter-server-terminals>=0.4.4 in /Users/jaschob/miniconda3/envs/d2l/lib/python3.8/site-packages (from jupyter-server<3,>=2.4.0->notebook->jupyter==1.0.0->d2l) (0.5.3)\n",
      "Requirement already satisfied: overrides>=5.0 in /Users/jaschob/miniconda3/envs/d2l/lib/python3.8/site-packages (from jupyter-server<3,>=2.4.0->notebook->jupyter==1.0.0->d2l) (7.7.0)\n",
      "Requirement already satisfied: prometheus-client>=0.9 in /Users/jaschob/miniconda3/envs/d2l/lib/python3.8/site-packages (from jupyter-server<3,>=2.4.0->notebook->jupyter==1.0.0->d2l) (0.20.0)\n",
      "Requirement already satisfied: send2trash>=1.8.2 in /Users/jaschob/miniconda3/envs/d2l/lib/python3.8/site-packages (from jupyter-server<3,>=2.4.0->notebook->jupyter==1.0.0->d2l) (1.8.3)\n",
      "Requirement already satisfied: terminado>=0.8.3 in /Users/jaschob/miniconda3/envs/d2l/lib/python3.8/site-packages (from jupyter-server<3,>=2.4.0->notebook->jupyter==1.0.0->d2l) (0.18.1)\n",
      "Requirement already satisfied: websocket-client>=1.7 in /Users/jaschob/miniconda3/envs/d2l/lib/python3.8/site-packages (from jupyter-server<3,>=2.4.0->notebook->jupyter==1.0.0->d2l) (1.8.0)\n",
      "Requirement already satisfied: async-lru>=1.0.0 in /Users/jaschob/miniconda3/envs/d2l/lib/python3.8/site-packages (from jupyterlab<4.2,>=4.1.1->notebook->jupyter==1.0.0->d2l) (2.0.4)\n",
      "Requirement already satisfied: httpx>=0.25.0 in /Users/jaschob/miniconda3/envs/d2l/lib/python3.8/site-packages (from jupyterlab<4.2,>=4.1.1->notebook->jupyter==1.0.0->d2l) (0.27.0)\n",
      "Requirement already satisfied: jupyter-lsp>=2.0.0 in /Users/jaschob/miniconda3/envs/d2l/lib/python3.8/site-packages (from jupyterlab<4.2,>=4.1.1->notebook->jupyter==1.0.0->d2l) (2.2.5)\n",
      "Requirement already satisfied: tomli>=1.2.2 in /Users/jaschob/miniconda3/envs/d2l/lib/python3.8/site-packages (from jupyterlab<4.2,>=4.1.1->notebook->jupyter==1.0.0->d2l) (2.0.1)\n",
      "Requirement already satisfied: babel>=2.10 in /Users/jaschob/miniconda3/envs/d2l/lib/python3.8/site-packages (from jupyterlab-server<3,>=2.22.1->notebook->jupyter==1.0.0->d2l) (2.11.0)\n",
      "Requirement already satisfied: json5>=0.9.0 in /Users/jaschob/miniconda3/envs/d2l/lib/python3.8/site-packages (from jupyterlab-server<3,>=2.22.1->notebook->jupyter==1.0.0->d2l) (0.9.25)\n",
      "Requirement already satisfied: jsonschema>=4.18.0 in /Users/jaschob/miniconda3/envs/d2l/lib/python3.8/site-packages (from jupyterlab-server<3,>=2.22.1->notebook->jupyter==1.0.0->d2l) (4.19.2)\n",
      "Requirement already satisfied: fastjsonschema>=2.15 in /Users/jaschob/miniconda3/envs/d2l/lib/python3.8/site-packages (from nbformat>=5.7->nbconvert->jupyter==1.0.0->d2l) (2.16.2)\n",
      "Requirement already satisfied: wcwidth in /Users/jaschob/miniconda3/envs/d2l/lib/python3.8/site-packages (from prompt-toolkit>=3.0.30->jupyter-console->jupyter==1.0.0->d2l) (0.2.13)\n",
      "Requirement already satisfied: soupsieve>1.2 in /Users/jaschob/miniconda3/envs/d2l/lib/python3.8/site-packages (from beautifulsoup4->nbconvert->jupyter==1.0.0->d2l) (2.5)\n",
      "Requirement already satisfied: sniffio>=1.1 in /Users/jaschob/miniconda3/envs/d2l/lib/python3.8/site-packages (from anyio>=3.1.0->jupyter-server<3,>=2.4.0->notebook->jupyter==1.0.0->d2l) (1.3.1)\n",
      "Requirement already satisfied: exceptiongroup>=1.0.2 in /Users/jaschob/miniconda3/envs/d2l/lib/python3.8/site-packages (from anyio>=3.1.0->jupyter-server<3,>=2.4.0->notebook->jupyter==1.0.0->d2l) (1.2.1)\n",
      "Requirement already satisfied: argon2-cffi-bindings in /Users/jaschob/miniconda3/envs/d2l/lib/python3.8/site-packages (from argon2-cffi>=21.1->jupyter-server<3,>=2.4.0->notebook->jupyter==1.0.0->d2l) (21.2.0)\n",
      "Requirement already satisfied: httpcore==1.* in /Users/jaschob/miniconda3/envs/d2l/lib/python3.8/site-packages (from httpx>=0.25.0->jupyterlab<4.2,>=4.1.1->notebook->jupyter==1.0.0->d2l) (1.0.5)\n",
      "Requirement already satisfied: h11<0.15,>=0.13 in /Users/jaschob/miniconda3/envs/d2l/lib/python3.8/site-packages (from httpcore==1.*->httpx>=0.25.0->jupyterlab<4.2,>=4.1.1->notebook->jupyter==1.0.0->d2l) (0.14.0)\n",
      "Requirement already satisfied: parso<0.9.0,>=0.8.0 in /Users/jaschob/miniconda3/envs/d2l/lib/python3.8/site-packages (from jedi>=0.16->ipython>=7.23.1->ipykernel->jupyter==1.0.0->d2l) (0.8.3)\n",
      "Requirement already satisfied: attrs>=22.2.0 in /Users/jaschob/miniconda3/envs/d2l/lib/python3.8/site-packages (from jsonschema>=4.18.0->jupyterlab-server<3,>=2.22.1->notebook->jupyter==1.0.0->d2l) (23.1.0)\n",
      "Requirement already satisfied: jsonschema-specifications>=2023.03.6 in /Users/jaschob/miniconda3/envs/d2l/lib/python3.8/site-packages (from jsonschema>=4.18.0->jupyterlab-server<3,>=2.22.1->notebook->jupyter==1.0.0->d2l) (2023.12.1)\n",
      "Requirement already satisfied: pkgutil-resolve-name>=1.3.10 in /Users/jaschob/miniconda3/envs/d2l/lib/python3.8/site-packages (from jsonschema>=4.18.0->jupyterlab-server<3,>=2.22.1->notebook->jupyter==1.0.0->d2l) (1.3.10)\n",
      "Requirement already satisfied: referencing>=0.28.4 in /Users/jaschob/miniconda3/envs/d2l/lib/python3.8/site-packages (from jsonschema>=4.18.0->jupyterlab-server<3,>=2.22.1->notebook->jupyter==1.0.0->d2l) (0.35.1)\n",
      "Requirement already satisfied: rpds-py>=0.7.1 in /Users/jaschob/miniconda3/envs/d2l/lib/python3.8/site-packages (from jsonschema>=4.18.0->jupyterlab-server<3,>=2.22.1->notebook->jupyter==1.0.0->d2l) (0.10.6)\n",
      "Requirement already satisfied: python-json-logger>=2.0.4 in /Users/jaschob/miniconda3/envs/d2l/lib/python3.8/site-packages (from jupyter-events>=0.9.0->jupyter-server<3,>=2.4.0->notebook->jupyter==1.0.0->d2l) (2.0.7)\n",
      "Requirement already satisfied: pyyaml>=5.3 in /Users/jaschob/miniconda3/envs/d2l/lib/python3.8/site-packages (from jupyter-events>=0.9.0->jupyter-server<3,>=2.4.0->notebook->jupyter==1.0.0->d2l) (6.0.1)\n",
      "Requirement already satisfied: rfc3339-validator in /Users/jaschob/miniconda3/envs/d2l/lib/python3.8/site-packages (from jupyter-events>=0.9.0->jupyter-server<3,>=2.4.0->notebook->jupyter==1.0.0->d2l) (0.1.4)\n",
      "Requirement already satisfied: rfc3986-validator>=0.1.1 in /Users/jaschob/miniconda3/envs/d2l/lib/python3.8/site-packages (from jupyter-events>=0.9.0->jupyter-server<3,>=2.4.0->notebook->jupyter==1.0.0->d2l) (0.1.1)\n",
      "Requirement already satisfied: ptyprocess>=0.5 in /Users/jaschob/miniconda3/envs/d2l/lib/python3.8/site-packages (from pexpect>4.3->ipython>=7.23.1->ipykernel->jupyter==1.0.0->d2l) (0.7.0)\n",
      "Requirement already satisfied: executing in /Users/jaschob/miniconda3/envs/d2l/lib/python3.8/site-packages (from stack-data->ipython>=7.23.1->ipykernel->jupyter==1.0.0->d2l) (0.8.3)\n",
      "Requirement already satisfied: asttokens in /Users/jaschob/miniconda3/envs/d2l/lib/python3.8/site-packages (from stack-data->ipython>=7.23.1->ipykernel->jupyter==1.0.0->d2l) (2.0.5)\n",
      "Requirement already satisfied: pure-eval in /Users/jaschob/miniconda3/envs/d2l/lib/python3.8/site-packages (from stack-data->ipython>=7.23.1->ipykernel->jupyter==1.0.0->d2l) (0.2.2)\n",
      "Requirement already satisfied: fqdn in /Users/jaschob/miniconda3/envs/d2l/lib/python3.8/site-packages (from jsonschema[format-nongpl]>=4.18.0->jupyter-events>=0.9.0->jupyter-server<3,>=2.4.0->notebook->jupyter==1.0.0->d2l) (1.5.1)\n",
      "Requirement already satisfied: isoduration in /Users/jaschob/miniconda3/envs/d2l/lib/python3.8/site-packages (from jsonschema[format-nongpl]>=4.18.0->jupyter-events>=0.9.0->jupyter-server<3,>=2.4.0->notebook->jupyter==1.0.0->d2l) (20.11.0)\n",
      "Requirement already satisfied: jsonpointer>1.13 in /Users/jaschob/miniconda3/envs/d2l/lib/python3.8/site-packages (from jsonschema[format-nongpl]>=4.18.0->jupyter-events>=0.9.0->jupyter-server<3,>=2.4.0->notebook->jupyter==1.0.0->d2l) (2.4)\n",
      "Requirement already satisfied: uri-template in /Users/jaschob/miniconda3/envs/d2l/lib/python3.8/site-packages (from jsonschema[format-nongpl]>=4.18.0->jupyter-events>=0.9.0->jupyter-server<3,>=2.4.0->notebook->jupyter==1.0.0->d2l) (1.3.0)\n",
      "Requirement already satisfied: webcolors>=1.11 in /Users/jaschob/miniconda3/envs/d2l/lib/python3.8/site-packages (from jsonschema[format-nongpl]>=4.18.0->jupyter-events>=0.9.0->jupyter-server<3,>=2.4.0->notebook->jupyter==1.0.0->d2l) (1.13)\n",
      "Requirement already satisfied: cffi>=1.0.1 in /Users/jaschob/miniconda3/envs/d2l/lib/python3.8/site-packages (from argon2-cffi-bindings->argon2-cffi>=21.1->jupyter-server<3,>=2.4.0->notebook->jupyter==1.0.0->d2l) (1.16.0)\n",
      "Requirement already satisfied: pycparser in /Users/jaschob/miniconda3/envs/d2l/lib/python3.8/site-packages (from cffi>=1.0.1->argon2-cffi-bindings->argon2-cffi>=21.1->jupyter-server<3,>=2.4.0->notebook->jupyter==1.0.0->d2l) (2.21)\n",
      "Requirement already satisfied: arrow>=0.15.0 in /Users/jaschob/miniconda3/envs/d2l/lib/python3.8/site-packages (from isoduration->jsonschema[format-nongpl]>=4.18.0->jupyter-events>=0.9.0->jupyter-server<3,>=2.4.0->notebook->jupyter==1.0.0->d2l) (1.2.3)\n"
     ]
    },
    {
     "name": "stderr",
     "output_type": "stream",
     "text": [
      "/Users/jaschob/miniconda3/envs/d2l/lib/python3.8/site-packages/torchvision/io/image.py:13: UserWarning: Failed to load image Python extension: 'dlopen(/Users/jaschob/miniconda3/envs/d2l/lib/python3.8/site-packages/torchvision/image.so, 0x0006): Symbol not found: __ZN3c1017RegisterOperatorsD1Ev\n",
      "  Referenced from: <ABE0EE74-6D97-3B8C-B690-C44754774FBC> /Users/jaschob/miniconda3/envs/d2l/lib/python3.8/site-packages/torchvision/image.so\n",
      "  Expected in:     <EA4AB737-8320-3563-ACC4-78D44C0573BA> /Users/jaschob/miniconda3/envs/d2l/lib/python3.8/site-packages/torch/lib/libtorch_cpu.dylib'If you don't plan on using image functionality from `torchvision.io`, you can ignore this warning. Otherwise, there might be something wrong with your environment. Did you have `libjpeg` or `libpng` installed before building `torchvision` from source?\n",
      "  warn(\n"
     ]
    }
   ],
   "source": [
    "# You just need the following line of code, if you use google colab\n",
    "! pip install d2l\n",
    "import torch\n",
    "from torch import nn\n",
    "from d2l import torch as d2l"
   ]
  },
  {
   "cell_type": "markdown",
   "metadata": {
    "id": "aPcNHGS3gl-R",
    "origin_pos": 4
   },
   "source": [
    "## Model\n",
    "\n",
    "As compared with our concise implementation\n",
    "of softmax regression implementation,\n",
    "the only difference is that we add\n",
    "*two* fully-connected layers\n",
    "(previously, we added *one*).\n",
    "The first is **our hidden layer**,\n",
    "which **contains 256 hidden units\n",
    "and applies the ReLU activation function**.\n",
    "The second is our output layer.\n"
   ]
  },
  {
   "cell_type": "code",
   "execution_count": 2,
   "metadata": {
    "id": "qNZRNOOngl-R",
    "origin_pos": 6,
    "tab": [
     "pytorch"
    ]
   },
   "outputs": [],
   "source": [
    "net = nn.Sequential(nn.Flatten(), nn.Linear(784, 256), nn.ReLU(),\n",
    "                    nn.Linear(256, 10))\n",
    "\n",
    "def init_weights(m):\n",
    "    if type(m) == nn.Linear:\n",
    "        nn.init.normal_(m.weight, std=0.01)\n",
    "\n",
    "net.apply(init_weights);"
   ]
  },
  {
   "cell_type": "markdown",
   "metadata": {
    "id": "d_m3ZiYtgl-S",
    "origin_pos": 8
   },
   "source": [
    "**The training loop** is exactly the same\n",
    "as when we implemented softmax regression.\n",
    "This modularity enables us to separate\n",
    "matters concerning the model architecture\n",
    "from orthogonal considerations.\n"
   ]
  },
  {
   "cell_type": "code",
   "execution_count": 3,
   "metadata": {
    "id": "jz7QZefIgl-S",
    "origin_pos": 10,
    "tab": [
     "pytorch"
    ]
   },
   "outputs": [],
   "source": [
    "batch_size, lr, num_epochs = 256, 0.1, 10\n",
    "loss = nn.CrossEntropyLoss()\n",
    "trainer = torch.optim.SGD(net.parameters(), lr=lr)"
   ]
  },
  {
   "cell_type": "code",
   "execution_count": 4,
   "metadata": {
    "colab": {
     "base_uri": "https://localhost:8080/",
     "height": 262
    },
    "id": "yO_4QsEwgl-T",
    "origin_pos": 12,
    "outputId": "68659feb-4ce8-48a2-a5b3-f424edabe9a0",
    "tab": [
     "pytorch"
    ]
   },
   "outputs": [
    {
     "ename": "AttributeError",
     "evalue": "module 'd2l.torch' has no attribute 'train_ch3'",
     "output_type": "error",
     "traceback": [
      "\u001b[0;31m---------------------------------------------------------------------------\u001b[0m",
      "\u001b[0;31mAttributeError\u001b[0m                            Traceback (most recent call last)",
      "Cell \u001b[0;32mIn[4], line 2\u001b[0m\n\u001b[1;32m      1\u001b[0m train_iter, test_iter \u001b[38;5;241m=\u001b[39m d2l\u001b[38;5;241m.\u001b[39mload_data_fashion_mnist(batch_size)\n\u001b[0;32m----> 2\u001b[0m \u001b[43md2l\u001b[49m\u001b[38;5;241;43m.\u001b[39;49m\u001b[43mtrain_ch3\u001b[49m(net, train_iter, test_iter, loss, num_epochs, trainer)\n",
      "\u001b[0;31mAttributeError\u001b[0m: module 'd2l.torch' has no attribute 'train_ch3'"
     ]
    }
   ],
   "source": [
    "train_iter, test_iter = d2l.load_data_fashion_mnist(batch_size)\n",
    "d2l.train_ch3(net, train_iter, test_iter, loss, num_epochs, trainer)"
   ]
  },
  {
   "cell_type": "markdown",
   "metadata": {
    "id": "whnZ-euhgl-U",
    "origin_pos": 13
   },
   "source": [
    "## Summary\n",
    "\n",
    "* Using high-level APIs, we can implement MLPs much more concisely.\n",
    "* For the same classification problem, the implementation of an MLP is the same as that of softmax regression except for additional hidden layers with activation functions.\n",
    "\n",
    "## Exercises\n",
    "\n",
    "1. Add a second hidden layer with 100 output neurons and use the tanh activation function. \n"
   ]
  },
  {
   "cell_type": "markdown",
   "metadata": {
    "id": "Ct39frzagl-U",
    "origin_pos": 15,
    "tab": [
     "pytorch"
    ]
   },
   "source": [
    "[Discussions](https://discuss.d2l.ai/t/95)\n"
   ]
  }
 ],
 "metadata": {
  "colab": {
   "name": "mlp_concise_Loesung.ipynb",
   "provenance": []
  },
  "kernelspec": {
   "display_name": "Python 3 (ipykernel)",
   "language": "python",
   "name": "python3"
  },
  "language_info": {
   "codemirror_mode": {
    "name": "ipython",
    "version": 3
   },
   "file_extension": ".py",
   "mimetype": "text/x-python",
   "name": "python",
   "nbconvert_exporter": "python",
   "pygments_lexer": "ipython3",
   "version": "3.8.19"
  }
 },
 "nbformat": 4,
 "nbformat_minor": 4
}
