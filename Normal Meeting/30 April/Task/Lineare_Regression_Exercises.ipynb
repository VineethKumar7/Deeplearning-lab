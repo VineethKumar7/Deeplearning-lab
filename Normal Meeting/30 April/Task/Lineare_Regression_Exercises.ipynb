{
 "cells": [
  {
   "cell_type": "markdown",
   "metadata": {
    "id": "mC-B4sImelM2"
   },
   "source": [
    "# Linear Regression Implementation\n",
    "\n",
    "In this jupyter notebook we want to implementate Linear Regression with the help of Neural Networks. Despite doing a concise implementation of the linear regression in pytorch we compute some parts of the code from the scratch to gain deeper understanding of pytorch and what the functions of pytorch do.\n"
   ]
  },
  {
   "cell_type": "code",
   "execution_count": 1,
   "metadata": {
    "colab": {
     "base_uri": "https://localhost:8080/"
    },
    "id": "ZnpjCINjfxiD",
    "outputId": "491327c4-c652-492f-9b67-4d9dcfe24e12"
   },
   "outputs": [
    {
     "name": "stdout",
     "output_type": "stream",
     "text": [
      "Requirement already satisfied: d2l in /Users/jaschob/miniconda3/envs/d2l/lib/python3.8/site-packages (1.0.3)\n",
      "Requirement already satisfied: jupyter==1.0.0 in /Users/jaschob/miniconda3/envs/d2l/lib/python3.8/site-packages (from d2l) (1.0.0)\n",
      "Requirement already satisfied: numpy==1.23.5 in /Users/jaschob/miniconda3/envs/d2l/lib/python3.8/site-packages (from d2l) (1.23.5)\n",
      "Requirement already satisfied: matplotlib==3.7.2 in /Users/jaschob/miniconda3/envs/d2l/lib/python3.8/site-packages (from d2l) (3.7.2)\n",
      "Requirement already satisfied: matplotlib-inline==0.1.6 in /Users/jaschob/miniconda3/envs/d2l/lib/python3.8/site-packages (from d2l) (0.1.6)\n",
      "Requirement already satisfied: requests==2.31.0 in /Users/jaschob/miniconda3/envs/d2l/lib/python3.8/site-packages (from d2l) (2.31.0)\n",
      "Requirement already satisfied: pandas==2.0.3 in /Users/jaschob/miniconda3/envs/d2l/lib/python3.8/site-packages (from d2l) (2.0.3)\n",
      "Requirement already satisfied: scipy==1.10.1 in /Users/jaschob/miniconda3/envs/d2l/lib/python3.8/site-packages (from d2l) (1.10.1)\n",
      "Requirement already satisfied: notebook in /Users/jaschob/miniconda3/envs/d2l/lib/python3.8/site-packages (from jupyter==1.0.0->d2l) (7.1.3)\n",
      "Requirement already satisfied: qtconsole in /Users/jaschob/miniconda3/envs/d2l/lib/python3.8/site-packages (from jupyter==1.0.0->d2l) (5.4.2)\n",
      "Requirement already satisfied: jupyter-console in /Users/jaschob/miniconda3/envs/d2l/lib/python3.8/site-packages (from jupyter==1.0.0->d2l) (6.6.3)\n",
      "Requirement already satisfied: nbconvert in /Users/jaschob/miniconda3/envs/d2l/lib/python3.8/site-packages (from jupyter==1.0.0->d2l) (7.10.0)\n",
      "Requirement already satisfied: ipykernel in /Users/jaschob/miniconda3/envs/d2l/lib/python3.8/site-packages (from jupyter==1.0.0->d2l) (6.25.0)\n",
      "Requirement already satisfied: ipywidgets in /Users/jaschob/miniconda3/envs/d2l/lib/python3.8/site-packages (from jupyter==1.0.0->d2l) (8.1.2)\n",
      "Requirement already satisfied: contourpy>=1.0.1 in /Users/jaschob/miniconda3/envs/d2l/lib/python3.8/site-packages (from matplotlib==3.7.2->d2l) (1.1.1)\n",
      "Requirement already satisfied: cycler>=0.10 in /Users/jaschob/miniconda3/envs/d2l/lib/python3.8/site-packages (from matplotlib==3.7.2->d2l) (0.12.1)\n",
      "Requirement already satisfied: fonttools>=4.22.0 in /Users/jaschob/miniconda3/envs/d2l/lib/python3.8/site-packages (from matplotlib==3.7.2->d2l) (4.51.0)\n",
      "Requirement already satisfied: kiwisolver>=1.0.1 in /Users/jaschob/miniconda3/envs/d2l/lib/python3.8/site-packages (from matplotlib==3.7.2->d2l) (1.4.5)\n",
      "Requirement already satisfied: packaging>=20.0 in /Users/jaschob/miniconda3/envs/d2l/lib/python3.8/site-packages (from matplotlib==3.7.2->d2l) (23.1)\n",
      "Requirement already satisfied: pillow>=6.2.0 in /Users/jaschob/miniconda3/envs/d2l/lib/python3.8/site-packages (from matplotlib==3.7.2->d2l) (10.3.0)\n",
      "Requirement already satisfied: pyparsing<3.1,>=2.3.1 in /Users/jaschob/miniconda3/envs/d2l/lib/python3.8/site-packages (from matplotlib==3.7.2->d2l) (3.0.9)\n",
      "Requirement already satisfied: python-dateutil>=2.7 in /Users/jaschob/miniconda3/envs/d2l/lib/python3.8/site-packages (from matplotlib==3.7.2->d2l) (2.8.2)\n",
      "Requirement already satisfied: importlib-resources>=3.2.0 in /Users/jaschob/miniconda3/envs/d2l/lib/python3.8/site-packages (from matplotlib==3.7.2->d2l) (6.1.0)\n",
      "Requirement already satisfied: traitlets in /Users/jaschob/miniconda3/envs/d2l/lib/python3.8/site-packages (from matplotlib-inline==0.1.6->d2l) (5.14.3)\n",
      "Requirement already satisfied: pytz>=2020.1 in /Users/jaschob/miniconda3/envs/d2l/lib/python3.8/site-packages (from pandas==2.0.3->d2l) (2023.3.post1)\n",
      "Requirement already satisfied: tzdata>=2022.1 in /Users/jaschob/miniconda3/envs/d2l/lib/python3.8/site-packages (from pandas==2.0.3->d2l) (2024.1)\n",
      "Requirement already satisfied: charset-normalizer<4,>=2 in /Users/jaschob/miniconda3/envs/d2l/lib/python3.8/site-packages (from requests==2.31.0->d2l) (2.0.4)\n",
      "Requirement already satisfied: idna<4,>=2.5 in /Users/jaschob/miniconda3/envs/d2l/lib/python3.8/site-packages (from requests==2.31.0->d2l) (3.4)\n",
      "Requirement already satisfied: urllib3<3,>=1.21.1 in /Users/jaschob/miniconda3/envs/d2l/lib/python3.8/site-packages (from requests==2.31.0->d2l) (1.26.18)\n",
      "Requirement already satisfied: certifi>=2017.4.17 in /Users/jaschob/miniconda3/envs/d2l/lib/python3.8/site-packages (from requests==2.31.0->d2l) (2024.2.2)\n",
      "Requirement already satisfied: zipp>=3.1.0 in /Users/jaschob/miniconda3/envs/d2l/lib/python3.8/site-packages (from importlib-resources>=3.2.0->matplotlib==3.7.2->d2l) (3.11.0)\n",
      "Requirement already satisfied: six>=1.5 in /Users/jaschob/miniconda3/envs/d2l/lib/python3.8/site-packages (from python-dateutil>=2.7->matplotlib==3.7.2->d2l) (1.16.0)\n",
      "Requirement already satisfied: appnope in /Users/jaschob/miniconda3/envs/d2l/lib/python3.8/site-packages (from ipykernel->jupyter==1.0.0->d2l) (0.1.2)\n",
      "Requirement already satisfied: comm>=0.1.1 in /Users/jaschob/miniconda3/envs/d2l/lib/python3.8/site-packages (from ipykernel->jupyter==1.0.0->d2l) (0.2.2)\n",
      "Requirement already satisfied: debugpy>=1.6.5 in /Users/jaschob/miniconda3/envs/d2l/lib/python3.8/site-packages (from ipykernel->jupyter==1.0.0->d2l) (1.6.7)\n",
      "Requirement already satisfied: ipython>=7.23.1 in /Users/jaschob/miniconda3/envs/d2l/lib/python3.8/site-packages (from ipykernel->jupyter==1.0.0->d2l) (8.12.2)\n",
      "Requirement already satisfied: jupyter-client>=6.1.12 in /Users/jaschob/miniconda3/envs/d2l/lib/python3.8/site-packages (from ipykernel->jupyter==1.0.0->d2l) (8.6.0)\n",
      "Requirement already satisfied: jupyter-core!=5.0.*,>=4.12 in /Users/jaschob/miniconda3/envs/d2l/lib/python3.8/site-packages (from ipykernel->jupyter==1.0.0->d2l) (5.5.0)\n",
      "Requirement already satisfied: nest-asyncio in /Users/jaschob/miniconda3/envs/d2l/lib/python3.8/site-packages (from ipykernel->jupyter==1.0.0->d2l) (1.5.6)\n",
      "Requirement already satisfied: psutil in /Users/jaschob/miniconda3/envs/d2l/lib/python3.8/site-packages (from ipykernel->jupyter==1.0.0->d2l) (5.9.0)\n",
      "Requirement already satisfied: pyzmq>=20 in /Users/jaschob/miniconda3/envs/d2l/lib/python3.8/site-packages (from ipykernel->jupyter==1.0.0->d2l) (25.1.0)\n",
      "Requirement already satisfied: tornado>=6.1 in /Users/jaschob/miniconda3/envs/d2l/lib/python3.8/site-packages (from ipykernel->jupyter==1.0.0->d2l) (6.3.3)\n",
      "Requirement already satisfied: widgetsnbextension~=4.0.10 in /Users/jaschob/miniconda3/envs/d2l/lib/python3.8/site-packages (from ipywidgets->jupyter==1.0.0->d2l) (4.0.10)\n",
      "Requirement already satisfied: jupyterlab-widgets~=3.0.10 in /Users/jaschob/miniconda3/envs/d2l/lib/python3.8/site-packages (from ipywidgets->jupyter==1.0.0->d2l) (3.0.10)\n",
      "Requirement already satisfied: prompt-toolkit>=3.0.30 in /Users/jaschob/miniconda3/envs/d2l/lib/python3.8/site-packages (from jupyter-console->jupyter==1.0.0->d2l) (3.0.36)\n",
      "Requirement already satisfied: pygments in /Users/jaschob/miniconda3/envs/d2l/lib/python3.8/site-packages (from jupyter-console->jupyter==1.0.0->d2l) (2.15.1)\n",
      "Requirement already satisfied: beautifulsoup4 in /Users/jaschob/miniconda3/envs/d2l/lib/python3.8/site-packages (from nbconvert->jupyter==1.0.0->d2l) (4.12.2)\n",
      "Requirement already satisfied: bleach!=5.0.0 in /Users/jaschob/miniconda3/envs/d2l/lib/python3.8/site-packages (from nbconvert->jupyter==1.0.0->d2l) (4.1.0)\n",
      "Requirement already satisfied: defusedxml in /Users/jaschob/miniconda3/envs/d2l/lib/python3.8/site-packages (from nbconvert->jupyter==1.0.0->d2l) (0.7.1)\n",
      "Requirement already satisfied: importlib-metadata>=3.6 in /Users/jaschob/miniconda3/envs/d2l/lib/python3.8/site-packages (from nbconvert->jupyter==1.0.0->d2l) (6.0.0)\n",
      "Requirement already satisfied: jinja2>=3.0 in /Users/jaschob/miniconda3/envs/d2l/lib/python3.8/site-packages (from nbconvert->jupyter==1.0.0->d2l) (3.1.3)\n",
      "Requirement already satisfied: jupyterlab-pygments in /Users/jaschob/miniconda3/envs/d2l/lib/python3.8/site-packages (from nbconvert->jupyter==1.0.0->d2l) (0.2.2)\n",
      "Requirement already satisfied: markupsafe>=2.0 in /Users/jaschob/miniconda3/envs/d2l/lib/python3.8/site-packages (from nbconvert->jupyter==1.0.0->d2l) (2.1.3)\n",
      "Requirement already satisfied: mistune<4,>=2.0.3 in /Users/jaschob/miniconda3/envs/d2l/lib/python3.8/site-packages (from nbconvert->jupyter==1.0.0->d2l) (2.0.4)\n",
      "Requirement already satisfied: nbclient>=0.5.0 in /Users/jaschob/miniconda3/envs/d2l/lib/python3.8/site-packages (from nbconvert->jupyter==1.0.0->d2l) (0.10.0)\n",
      "Requirement already satisfied: nbformat>=5.7 in /Users/jaschob/miniconda3/envs/d2l/lib/python3.8/site-packages (from nbconvert->jupyter==1.0.0->d2l) (5.10.4)\n",
      "Requirement already satisfied: pandocfilters>=1.4.1 in /Users/jaschob/miniconda3/envs/d2l/lib/python3.8/site-packages (from nbconvert->jupyter==1.0.0->d2l) (1.5.0)\n",
      "Requirement already satisfied: tinycss2 in /Users/jaschob/miniconda3/envs/d2l/lib/python3.8/site-packages (from nbconvert->jupyter==1.0.0->d2l) (1.2.1)\n",
      "Requirement already satisfied: jupyter-server<3,>=2.4.0 in /Users/jaschob/miniconda3/envs/d2l/lib/python3.8/site-packages (from notebook->jupyter==1.0.0->d2l) (2.14.0)\n",
      "Requirement already satisfied: jupyterlab-server<3,>=2.22.1 in /Users/jaschob/miniconda3/envs/d2l/lib/python3.8/site-packages (from notebook->jupyter==1.0.0->d2l) (2.27.1)\n",
      "Requirement already satisfied: jupyterlab<4.2,>=4.1.1 in /Users/jaschob/miniconda3/envs/d2l/lib/python3.8/site-packages (from notebook->jupyter==1.0.0->d2l) (4.1.8)\n",
      "Requirement already satisfied: notebook-shim<0.3,>=0.2 in /Users/jaschob/miniconda3/envs/d2l/lib/python3.8/site-packages (from notebook->jupyter==1.0.0->d2l) (0.2.4)\n",
      "Requirement already satisfied: ipython-genutils in /Users/jaschob/miniconda3/envs/d2l/lib/python3.8/site-packages (from qtconsole->jupyter==1.0.0->d2l) (0.2.0)\n",
      "Requirement already satisfied: qtpy>=2.0.1 in /Users/jaschob/miniconda3/envs/d2l/lib/python3.8/site-packages (from qtconsole->jupyter==1.0.0->d2l) (2.4.1)\n",
      "Requirement already satisfied: webencodings in /Users/jaschob/miniconda3/envs/d2l/lib/python3.8/site-packages (from bleach!=5.0.0->nbconvert->jupyter==1.0.0->d2l) (0.5.1)\n",
      "Requirement already satisfied: backcall in /Users/jaschob/miniconda3/envs/d2l/lib/python3.8/site-packages (from ipython>=7.23.1->ipykernel->jupyter==1.0.0->d2l) (0.2.0)\n",
      "Requirement already satisfied: decorator in /Users/jaschob/miniconda3/envs/d2l/lib/python3.8/site-packages (from ipython>=7.23.1->ipykernel->jupyter==1.0.0->d2l) (5.1.1)\n",
      "Requirement already satisfied: jedi>=0.16 in /Users/jaschob/miniconda3/envs/d2l/lib/python3.8/site-packages (from ipython>=7.23.1->ipykernel->jupyter==1.0.0->d2l) (0.18.1)\n",
      "Requirement already satisfied: pickleshare in /Users/jaschob/miniconda3/envs/d2l/lib/python3.8/site-packages (from ipython>=7.23.1->ipykernel->jupyter==1.0.0->d2l) (0.7.5)\n",
      "Requirement already satisfied: stack-data in /Users/jaschob/miniconda3/envs/d2l/lib/python3.8/site-packages (from ipython>=7.23.1->ipykernel->jupyter==1.0.0->d2l) (0.2.0)\n",
      "Requirement already satisfied: typing-extensions in /Users/jaschob/miniconda3/envs/d2l/lib/python3.8/site-packages (from ipython>=7.23.1->ipykernel->jupyter==1.0.0->d2l) (4.11.0)\n",
      "Requirement already satisfied: pexpect>4.3 in /Users/jaschob/miniconda3/envs/d2l/lib/python3.8/site-packages (from ipython>=7.23.1->ipykernel->jupyter==1.0.0->d2l) (4.8.0)\n",
      "Requirement already satisfied: platformdirs>=2.5 in /Users/jaschob/miniconda3/envs/d2l/lib/python3.8/site-packages (from jupyter-core!=5.0.*,>=4.12->ipykernel->jupyter==1.0.0->d2l) (3.10.0)\n",
      "Requirement already satisfied: anyio>=3.1.0 in /Users/jaschob/miniconda3/envs/d2l/lib/python3.8/site-packages (from jupyter-server<3,>=2.4.0->notebook->jupyter==1.0.0->d2l) (4.3.0)\n",
      "Requirement already satisfied: argon2-cffi>=21.1 in /Users/jaschob/miniconda3/envs/d2l/lib/python3.8/site-packages (from jupyter-server<3,>=2.4.0->notebook->jupyter==1.0.0->d2l) (23.1.0)\n",
      "Requirement already satisfied: jupyter-events>=0.9.0 in /Users/jaschob/miniconda3/envs/d2l/lib/python3.8/site-packages (from jupyter-server<3,>=2.4.0->notebook->jupyter==1.0.0->d2l) (0.10.0)\n",
      "Requirement already satisfied: jupyter-server-terminals>=0.4.4 in /Users/jaschob/miniconda3/envs/d2l/lib/python3.8/site-packages (from jupyter-server<3,>=2.4.0->notebook->jupyter==1.0.0->d2l) (0.5.3)\n",
      "Requirement already satisfied: overrides>=5.0 in /Users/jaschob/miniconda3/envs/d2l/lib/python3.8/site-packages (from jupyter-server<3,>=2.4.0->notebook->jupyter==1.0.0->d2l) (7.7.0)\n",
      "Requirement already satisfied: prometheus-client>=0.9 in /Users/jaschob/miniconda3/envs/d2l/lib/python3.8/site-packages (from jupyter-server<3,>=2.4.0->notebook->jupyter==1.0.0->d2l) (0.20.0)\n",
      "Requirement already satisfied: send2trash>=1.8.2 in /Users/jaschob/miniconda3/envs/d2l/lib/python3.8/site-packages (from jupyter-server<3,>=2.4.0->notebook->jupyter==1.0.0->d2l) (1.8.3)\n",
      "Requirement already satisfied: terminado>=0.8.3 in /Users/jaschob/miniconda3/envs/d2l/lib/python3.8/site-packages (from jupyter-server<3,>=2.4.0->notebook->jupyter==1.0.0->d2l) (0.18.1)\n",
      "Requirement already satisfied: websocket-client>=1.7 in /Users/jaschob/miniconda3/envs/d2l/lib/python3.8/site-packages (from jupyter-server<3,>=2.4.0->notebook->jupyter==1.0.0->d2l) (1.8.0)\n",
      "Requirement already satisfied: async-lru>=1.0.0 in /Users/jaschob/miniconda3/envs/d2l/lib/python3.8/site-packages (from jupyterlab<4.2,>=4.1.1->notebook->jupyter==1.0.0->d2l) (2.0.4)\n",
      "Requirement already satisfied: httpx>=0.25.0 in /Users/jaschob/miniconda3/envs/d2l/lib/python3.8/site-packages (from jupyterlab<4.2,>=4.1.1->notebook->jupyter==1.0.0->d2l) (0.27.0)\n",
      "Requirement already satisfied: jupyter-lsp>=2.0.0 in /Users/jaschob/miniconda3/envs/d2l/lib/python3.8/site-packages (from jupyterlab<4.2,>=4.1.1->notebook->jupyter==1.0.0->d2l) (2.2.5)\n",
      "Requirement already satisfied: tomli>=1.2.2 in /Users/jaschob/miniconda3/envs/d2l/lib/python3.8/site-packages (from jupyterlab<4.2,>=4.1.1->notebook->jupyter==1.0.0->d2l) (2.0.1)\n",
      "Requirement already satisfied: babel>=2.10 in /Users/jaschob/miniconda3/envs/d2l/lib/python3.8/site-packages (from jupyterlab-server<3,>=2.22.1->notebook->jupyter==1.0.0->d2l) (2.11.0)\n",
      "Requirement already satisfied: json5>=0.9.0 in /Users/jaschob/miniconda3/envs/d2l/lib/python3.8/site-packages (from jupyterlab-server<3,>=2.22.1->notebook->jupyter==1.0.0->d2l) (0.9.25)\n",
      "Requirement already satisfied: jsonschema>=4.18.0 in /Users/jaschob/miniconda3/envs/d2l/lib/python3.8/site-packages (from jupyterlab-server<3,>=2.22.1->notebook->jupyter==1.0.0->d2l) (4.19.2)\n",
      "Requirement already satisfied: fastjsonschema>=2.15 in /Users/jaschob/miniconda3/envs/d2l/lib/python3.8/site-packages (from nbformat>=5.7->nbconvert->jupyter==1.0.0->d2l) (2.16.2)\n",
      "Requirement already satisfied: wcwidth in /Users/jaschob/miniconda3/envs/d2l/lib/python3.8/site-packages (from prompt-toolkit>=3.0.30->jupyter-console->jupyter==1.0.0->d2l) (0.2.13)\n",
      "Requirement already satisfied: soupsieve>1.2 in /Users/jaschob/miniconda3/envs/d2l/lib/python3.8/site-packages (from beautifulsoup4->nbconvert->jupyter==1.0.0->d2l) (2.5)\n",
      "Requirement already satisfied: sniffio>=1.1 in /Users/jaschob/miniconda3/envs/d2l/lib/python3.8/site-packages (from anyio>=3.1.0->jupyter-server<3,>=2.4.0->notebook->jupyter==1.0.0->d2l) (1.3.1)\n",
      "Requirement already satisfied: exceptiongroup>=1.0.2 in /Users/jaschob/miniconda3/envs/d2l/lib/python3.8/site-packages (from anyio>=3.1.0->jupyter-server<3,>=2.4.0->notebook->jupyter==1.0.0->d2l) (1.2.1)\n",
      "Requirement already satisfied: argon2-cffi-bindings in /Users/jaschob/miniconda3/envs/d2l/lib/python3.8/site-packages (from argon2-cffi>=21.1->jupyter-server<3,>=2.4.0->notebook->jupyter==1.0.0->d2l) (21.2.0)\n",
      "Requirement already satisfied: httpcore==1.* in /Users/jaschob/miniconda3/envs/d2l/lib/python3.8/site-packages (from httpx>=0.25.0->jupyterlab<4.2,>=4.1.1->notebook->jupyter==1.0.0->d2l) (1.0.5)\n",
      "Requirement already satisfied: h11<0.15,>=0.13 in /Users/jaschob/miniconda3/envs/d2l/lib/python3.8/site-packages (from httpcore==1.*->httpx>=0.25.0->jupyterlab<4.2,>=4.1.1->notebook->jupyter==1.0.0->d2l) (0.14.0)\n",
      "Requirement already satisfied: parso<0.9.0,>=0.8.0 in /Users/jaschob/miniconda3/envs/d2l/lib/python3.8/site-packages (from jedi>=0.16->ipython>=7.23.1->ipykernel->jupyter==1.0.0->d2l) (0.8.3)\n",
      "Requirement already satisfied: attrs>=22.2.0 in /Users/jaschob/miniconda3/envs/d2l/lib/python3.8/site-packages (from jsonschema>=4.18.0->jupyterlab-server<3,>=2.22.1->notebook->jupyter==1.0.0->d2l) (23.1.0)\n",
      "Requirement already satisfied: jsonschema-specifications>=2023.03.6 in /Users/jaschob/miniconda3/envs/d2l/lib/python3.8/site-packages (from jsonschema>=4.18.0->jupyterlab-server<3,>=2.22.1->notebook->jupyter==1.0.0->d2l) (2023.12.1)\n",
      "Requirement already satisfied: pkgutil-resolve-name>=1.3.10 in /Users/jaschob/miniconda3/envs/d2l/lib/python3.8/site-packages (from jsonschema>=4.18.0->jupyterlab-server<3,>=2.22.1->notebook->jupyter==1.0.0->d2l) (1.3.10)\n",
      "Requirement already satisfied: referencing>=0.28.4 in /Users/jaschob/miniconda3/envs/d2l/lib/python3.8/site-packages (from jsonschema>=4.18.0->jupyterlab-server<3,>=2.22.1->notebook->jupyter==1.0.0->d2l) (0.35.1)\n",
      "Requirement already satisfied: rpds-py>=0.7.1 in /Users/jaschob/miniconda3/envs/d2l/lib/python3.8/site-packages (from jsonschema>=4.18.0->jupyterlab-server<3,>=2.22.1->notebook->jupyter==1.0.0->d2l) (0.10.6)\n",
      "Requirement already satisfied: python-json-logger>=2.0.4 in /Users/jaschob/miniconda3/envs/d2l/lib/python3.8/site-packages (from jupyter-events>=0.9.0->jupyter-server<3,>=2.4.0->notebook->jupyter==1.0.0->d2l) (2.0.7)\n",
      "Requirement already satisfied: pyyaml>=5.3 in /Users/jaschob/miniconda3/envs/d2l/lib/python3.8/site-packages (from jupyter-events>=0.9.0->jupyter-server<3,>=2.4.0->notebook->jupyter==1.0.0->d2l) (6.0.1)\n",
      "Requirement already satisfied: rfc3339-validator in /Users/jaschob/miniconda3/envs/d2l/lib/python3.8/site-packages (from jupyter-events>=0.9.0->jupyter-server<3,>=2.4.0->notebook->jupyter==1.0.0->d2l) (0.1.4)\n",
      "Requirement already satisfied: rfc3986-validator>=0.1.1 in /Users/jaschob/miniconda3/envs/d2l/lib/python3.8/site-packages (from jupyter-events>=0.9.0->jupyter-server<3,>=2.4.0->notebook->jupyter==1.0.0->d2l) (0.1.1)\n",
      "Requirement already satisfied: ptyprocess>=0.5 in /Users/jaschob/miniconda3/envs/d2l/lib/python3.8/site-packages (from pexpect>4.3->ipython>=7.23.1->ipykernel->jupyter==1.0.0->d2l) (0.7.0)\n",
      "Requirement already satisfied: executing in /Users/jaschob/miniconda3/envs/d2l/lib/python3.8/site-packages (from stack-data->ipython>=7.23.1->ipykernel->jupyter==1.0.0->d2l) (0.8.3)\n",
      "Requirement already satisfied: asttokens in /Users/jaschob/miniconda3/envs/d2l/lib/python3.8/site-packages (from stack-data->ipython>=7.23.1->ipykernel->jupyter==1.0.0->d2l) (2.0.5)\n",
      "Requirement already satisfied: pure-eval in /Users/jaschob/miniconda3/envs/d2l/lib/python3.8/site-packages (from stack-data->ipython>=7.23.1->ipykernel->jupyter==1.0.0->d2l) (0.2.2)\n",
      "Requirement already satisfied: fqdn in /Users/jaschob/miniconda3/envs/d2l/lib/python3.8/site-packages (from jsonschema[format-nongpl]>=4.18.0->jupyter-events>=0.9.0->jupyter-server<3,>=2.4.0->notebook->jupyter==1.0.0->d2l) (1.5.1)\n",
      "Requirement already satisfied: isoduration in /Users/jaschob/miniconda3/envs/d2l/lib/python3.8/site-packages (from jsonschema[format-nongpl]>=4.18.0->jupyter-events>=0.9.0->jupyter-server<3,>=2.4.0->notebook->jupyter==1.0.0->d2l) (20.11.0)\n",
      "Requirement already satisfied: jsonpointer>1.13 in /Users/jaschob/miniconda3/envs/d2l/lib/python3.8/site-packages (from jsonschema[format-nongpl]>=4.18.0->jupyter-events>=0.9.0->jupyter-server<3,>=2.4.0->notebook->jupyter==1.0.0->d2l) (2.4)\n",
      "Requirement already satisfied: uri-template in /Users/jaschob/miniconda3/envs/d2l/lib/python3.8/site-packages (from jsonschema[format-nongpl]>=4.18.0->jupyter-events>=0.9.0->jupyter-server<3,>=2.4.0->notebook->jupyter==1.0.0->d2l) (1.3.0)\n",
      "Requirement already satisfied: webcolors>=1.11 in /Users/jaschob/miniconda3/envs/d2l/lib/python3.8/site-packages (from jsonschema[format-nongpl]>=4.18.0->jupyter-events>=0.9.0->jupyter-server<3,>=2.4.0->notebook->jupyter==1.0.0->d2l) (1.13)\n",
      "Requirement already satisfied: cffi>=1.0.1 in /Users/jaschob/miniconda3/envs/d2l/lib/python3.8/site-packages (from argon2-cffi-bindings->argon2-cffi>=21.1->jupyter-server<3,>=2.4.0->notebook->jupyter==1.0.0->d2l) (1.16.0)\n",
      "Requirement already satisfied: pycparser in /Users/jaschob/miniconda3/envs/d2l/lib/python3.8/site-packages (from cffi>=1.0.1->argon2-cffi-bindings->argon2-cffi>=21.1->jupyter-server<3,>=2.4.0->notebook->jupyter==1.0.0->d2l) (2.21)\n",
      "Requirement already satisfied: arrow>=0.15.0 in /Users/jaschob/miniconda3/envs/d2l/lib/python3.8/site-packages (from isoduration->jsonschema[format-nongpl]>=4.18.0->jupyter-events>=0.9.0->jupyter-server<3,>=2.4.0->notebook->jupyter==1.0.0->d2l) (1.2.3)\n"
     ]
    },
    {
     "name": "stderr",
     "output_type": "stream",
     "text": [
      "/Users/jaschob/miniconda3/envs/d2l/lib/python3.8/site-packages/torchvision/io/image.py:13: UserWarning: Failed to load image Python extension: 'dlopen(/Users/jaschob/miniconda3/envs/d2l/lib/python3.8/site-packages/torchvision/image.so, 0x0006): Symbol not found: __ZN3c1017RegisterOperatorsD1Ev\n",
      "  Referenced from: <ABE0EE74-6D97-3B8C-B690-C44754774FBC> /Users/jaschob/miniconda3/envs/d2l/lib/python3.8/site-packages/torchvision/image.so\n",
      "  Expected in:     <EA4AB737-8320-3563-ACC4-78D44C0573BA> /Users/jaschob/miniconda3/envs/d2l/lib/python3.8/site-packages/torch/lib/libtorch_cpu.dylib'If you don't plan on using image functionality from `torchvision.io`, you can ignore this warning. Otherwise, there might be something wrong with your environment. Did you have `libjpeg` or `libpng` installed before building `torchvision` from source?\n",
      "  warn(\n"
     ]
    }
   ],
   "source": [
    "# If you use jupyter notebook inside your virtual environment you don't have to run the first line\n",
    "!pip install d2l\n",
    "%matplotlib inline\n",
    "import random\n",
    "import torch\n",
    "from d2l import torch as d2l\n",
    "#conda install anaconda::torchvision"
   ]
  },
  {
   "cell_type": "markdown",
   "metadata": {
    "id": "58Yz2jKufRUr"
   },
   "source": [
    "## Generating the Dataset\n",
    "\n",
    "To keep things simple, we will **construct an artificial dataset\n",
    "according to a linear model with additive noise.**\n",
    "Our task will be to recover this model's parameters\n",
    "using the finite set of examples contained in our dataset.\n",
    "We will keep the data low-dimensional so we can visualize it easily.\n",
    "In the following code snippet, we generate a dataset\n",
    "containing 1000 examples, each consisting of 2 features\n",
    "sampled from a standard normal distribution.\n",
    "Thus our synthetic dataset will be a matrix\n",
    "$\\mathbf{X}\\in \\mathbb{R}^{1000 \\times 2}$.\n",
    "\n",
    "**The true parameters generating our dataset will be\n",
    "$\\mathbf{w} = [2, -3.4]^\\top$ and $b = 4.2$,\n",
    "and** our synthetic labels will be assigned according\n",
    "to the following linear model with the noise term $\\epsilon$:\n",
    "\n",
    "**$$\\mathbf{y}= \\mathbf{X} \\mathbf{w} + b + \\mathbf\\epsilon.$$**\n",
    "\n",
    "You could think of $\\epsilon$ as capturing potential\n",
    "measurement errors on the features and labels.\n",
    "We will assume that the standard assumptions hold and thus\n",
    "that $\\epsilon$ obeys a normal distribution with mean of 0.\n",
    "To make our problem easy, we will set its standard deviation to 0.01.\n",
    "The following code generates our synthetic dataset.\n"
   ]
  },
  {
   "cell_type": "code",
   "execution_count": 2,
   "metadata": {
    "id": "eOhg2OYBeXIZ",
    "origin_pos": 5,
    "tab": [
     "pytorch"
    ]
   },
   "outputs": [],
   "source": [
    "def synthetic_data(w, b, num_examples): \n",
    "    \"\"\"Generate y = Xw + b + noise.\"\"\"\n",
    "    X = torch.normal(mean=0, std=1, size=(num_examples, len(w)))\n",
    "    y = torch.matmul(X, w) + b\n",
    "    y += torch.normal(mean=0, std=0.01, size=y.shape)\n",
    "    return X, y.reshape((-1, 1))"
   ]
  },
  {
   "cell_type": "code",
   "execution_count": 3,
   "metadata": {
    "id": "QZ_yWfrEeXIZ",
    "origin_pos": 7,
    "tab": [
     "pytorch"
    ]
   },
   "outputs": [],
   "source": [
    "true_w = torch.tensor([2, -3.4])\n",
    "true_b = 4.2\n",
    "features, labels = synthetic_data(true_w, true_b, 1000)"
   ]
  },
  {
   "cell_type": "markdown",
   "metadata": {
    "id": "-4VZYXKgeXIc",
    "origin_pos": 10
   },
   "source": [
    "By generating a scatter plot using the second feature `features[:, 1]` and `labels`,\n",
    "we can clearly observe the linear correlation between the two.\n"
   ]
  },
  {
   "cell_type": "code",
   "execution_count": 4,
   "metadata": {
    "colab": {
     "base_uri": "https://localhost:8080/",
     "height": 243
    },
    "id": "Yr4ihtsheXId",
    "origin_pos": 11,
    "outputId": "6641aae0-8690-40ca-c8b3-fe6d208ae0f2",
    "tab": [
     "pytorch"
    ]
   },
   "outputs": [
    {
     "data": {
      "image/svg+xml": [
       "<?xml version=\"1.0\" encoding=\"utf-8\" standalone=\"no\"?>\n",
       "<!DOCTYPE svg PUBLIC \"-//W3C//DTD SVG 1.1//EN\"\n",
       "  \"http://www.w3.org/Graphics/SVG/1.1/DTD/svg11.dtd\">\n",
       "<svg xmlns:xlink=\"http://www.w3.org/1999/xlink\" width=\"231.442187pt\" height=\"169.678125pt\" viewBox=\"0 0 231.442187 169.678125\" xmlns=\"http://www.w3.org/2000/svg\" version=\"1.1\">\n",
       " <metadata>\n",
       "  <rdf:RDF xmlns:dc=\"http://purl.org/dc/elements/1.1/\" xmlns:cc=\"http://creativecommons.org/ns#\" xmlns:rdf=\"http://www.w3.org/1999/02/22-rdf-syntax-ns#\">\n",
       "   <cc:Work>\n",
       "    <dc:type rdf:resource=\"http://purl.org/dc/dcmitype/StillImage\"/>\n",
       "    <dc:date>2024-05-06T16:40:25.553669</dc:date>\n",
       "    <dc:format>image/svg+xml</dc:format>\n",
       "    <dc:creator>\n",
       "     <cc:Agent>\n",
       "      <dc:title>Matplotlib v3.7.2, https://matplotlib.org/</dc:title>\n",
       "     </cc:Agent>\n",
       "    </dc:creator>\n",
       "   </cc:Work>\n",
       "  </rdf:RDF>\n",
       " </metadata>\n",
       " <defs>\n",
       "  <style type=\"text/css\">*{stroke-linejoin: round; stroke-linecap: butt}</style>\n",
       " </defs>\n",
       " <g id=\"figure_1\">\n",
       "  <g id=\"patch_1\">\n",
       "   <path d=\"M 0 169.678125 \n",
       "L 231.442187 169.678125 \n",
       "L 231.442187 0 \n",
       "L 0 0 \n",
       "z\n",
       "\" style=\"fill: #ffffff\"/>\n",
       "  </g>\n",
       "  <g id=\"axes_1\">\n",
       "   <g id=\"patch_2\">\n",
       "    <path d=\"M 28.942188 145.8 \n",
       "L 224.242188 145.8 \n",
       "L 224.242188 7.2 \n",
       "L 28.942188 7.2 \n",
       "z\n",
       "\" style=\"fill: #ffffff\"/>\n",
       "   </g>\n",
       "   <g id=\"PathCollection_1\">\n",
       "    <defs>\n",
       "     <path id=\"m3d8c0f3ecb\" d=\"M 0 0.5 \n",
       "C 0.132602 0.5 0.25979 0.447317 0.353553 0.353553 \n",
       "C 0.447317 0.25979 0.5 0.132602 0.5 0 \n",
       "C 0.5 -0.132602 0.447317 -0.25979 0.353553 -0.353553 \n",
       "C 0.25979 -0.447317 0.132602 -0.5 0 -0.5 \n",
       "C -0.132602 -0.5 -0.25979 -0.447317 -0.353553 -0.353553 \n",
       "C -0.447317 -0.25979 -0.5 -0.132602 -0.5 0 \n",
       "C -0.5 0.132602 -0.447317 0.25979 -0.353553 0.353553 \n",
       "C -0.25979 0.447317 -0.132602 0.5 0 0.5 \n",
       "z\n",
       "\" style=\"stroke: #1f77b4\"/>\n",
       "    </defs>\n",
       "    <g clip-path=\"url(#pcff767fab6)\">\n",
       "     <use xlink:href=\"#m3d8c0f3ecb\" x=\"173.910803\" y=\"116.416501\" style=\"fill: #1f77b4; stroke: #1f77b4\"/>\n",
       "     <use xlink:href=\"#m3d8c0f3ecb\" x=\"131.088553\" y=\"89.719684\" style=\"fill: #1f77b4; stroke: #1f77b4\"/>\n",
       "     <use xlink:href=\"#m3d8c0f3ecb\" x=\"185.198304\" y=\"112.675969\" style=\"fill: #1f77b4; stroke: #1f77b4\"/>\n",
       "     <use xlink:href=\"#m3d8c0f3ecb\" x=\"215.364915\" y=\"134.072897\" style=\"fill: #1f77b4; stroke: #1f77b4\"/>\n",
       "     <use xlink:href=\"#m3d8c0f3ecb\" x=\"121.619538\" y=\"73.297748\" style=\"fill: #1f77b4; stroke: #1f77b4\"/>\n",
       "     <use xlink:href=\"#m3d8c0f3ecb\" x=\"139.164508\" y=\"83.083653\" style=\"fill: #1f77b4; stroke: #1f77b4\"/>\n",
       "     <use xlink:href=\"#m3d8c0f3ecb\" x=\"133.443653\" y=\"79.581992\" style=\"fill: #1f77b4; stroke: #1f77b4\"/>\n",
       "     <use xlink:href=\"#m3d8c0f3ecb\" x=\"179.099559\" y=\"94.763485\" style=\"fill: #1f77b4; stroke: #1f77b4\"/>\n",
       "     <use xlink:href=\"#m3d8c0f3ecb\" x=\"79.76842\" y=\"38.331637\" style=\"fill: #1f77b4; stroke: #1f77b4\"/>\n",
       "     <use xlink:href=\"#m3d8c0f3ecb\" x=\"149.052058\" y=\"81.375566\" style=\"fill: #1f77b4; stroke: #1f77b4\"/>\n",
       "     <use xlink:href=\"#m3d8c0f3ecb\" x=\"138.144723\" y=\"69.765548\" style=\"fill: #1f77b4; stroke: #1f77b4\"/>\n",
       "     <use xlink:href=\"#m3d8c0f3ecb\" x=\"117.693662\" y=\"69.602957\" style=\"fill: #1f77b4; stroke: #1f77b4\"/>\n",
       "     <use xlink:href=\"#m3d8c0f3ecb\" x=\"105.06211\" y=\"63.456033\" style=\"fill: #1f77b4; stroke: #1f77b4\"/>\n",
       "     <use xlink:href=\"#m3d8c0f3ecb\" x=\"146.934565\" y=\"77.386608\" style=\"fill: #1f77b4; stroke: #1f77b4\"/>\n",
       "     <use xlink:href=\"#m3d8c0f3ecb\" x=\"130.917011\" y=\"66.269197\" style=\"fill: #1f77b4; stroke: #1f77b4\"/>\n",
       "     <use xlink:href=\"#m3d8c0f3ecb\" x=\"133.779967\" y=\"75.699932\" style=\"fill: #1f77b4; stroke: #1f77b4\"/>\n",
       "     <use xlink:href=\"#m3d8c0f3ecb\" x=\"111.182582\" y=\"77.128262\" style=\"fill: #1f77b4; stroke: #1f77b4\"/>\n",
       "     <use xlink:href=\"#m3d8c0f3ecb\" x=\"144.368819\" y=\"77.212661\" style=\"fill: #1f77b4; stroke: #1f77b4\"/>\n",
       "     <use xlink:href=\"#m3d8c0f3ecb\" x=\"90.139421\" y=\"68.286843\" style=\"fill: #1f77b4; stroke: #1f77b4\"/>\n",
       "     <use xlink:href=\"#m3d8c0f3ecb\" x=\"146.273863\" y=\"92.331859\" style=\"fill: #1f77b4; stroke: #1f77b4\"/>\n",
       "     <use xlink:href=\"#m3d8c0f3ecb\" x=\"132.090114\" y=\"70.989452\" style=\"fill: #1f77b4; stroke: #1f77b4\"/>\n",
       "     <use xlink:href=\"#m3d8c0f3ecb\" x=\"117.293598\" y=\"96.658038\" style=\"fill: #1f77b4; stroke: #1f77b4\"/>\n",
       "     <use xlink:href=\"#m3d8c0f3ecb\" x=\"121.260381\" y=\"77.96875\" style=\"fill: #1f77b4; stroke: #1f77b4\"/>\n",
       "     <use xlink:href=\"#m3d8c0f3ecb\" x=\"136.664976\" y=\"69.497665\" style=\"fill: #1f77b4; stroke: #1f77b4\"/>\n",
       "     <use xlink:href=\"#m3d8c0f3ecb\" x=\"159.813128\" y=\"99.959424\" style=\"fill: #1f77b4; stroke: #1f77b4\"/>\n",
       "     <use xlink:href=\"#m3d8c0f3ecb\" x=\"121.206061\" y=\"69.401757\" style=\"fill: #1f77b4; stroke: #1f77b4\"/>\n",
       "     <use xlink:href=\"#m3d8c0f3ecb\" x=\"189.166828\" y=\"112.661806\" style=\"fill: #1f77b4; stroke: #1f77b4\"/>\n",
       "     <use xlink:href=\"#m3d8c0f3ecb\" x=\"158.573346\" y=\"92.415621\" style=\"fill: #1f77b4; stroke: #1f77b4\"/>\n",
       "     <use xlink:href=\"#m3d8c0f3ecb\" x=\"143.431603\" y=\"70.445724\" style=\"fill: #1f77b4; stroke: #1f77b4\"/>\n",
       "     <use xlink:href=\"#m3d8c0f3ecb\" x=\"167.900229\" y=\"104.234288\" style=\"fill: #1f77b4; stroke: #1f77b4\"/>\n",
       "     <use xlink:href=\"#m3d8c0f3ecb\" x=\"129.410235\" y=\"80.716582\" style=\"fill: #1f77b4; stroke: #1f77b4\"/>\n",
       "     <use xlink:href=\"#m3d8c0f3ecb\" x=\"132.562119\" y=\"66.385462\" style=\"fill: #1f77b4; stroke: #1f77b4\"/>\n",
       "     <use xlink:href=\"#m3d8c0f3ecb\" x=\"144.446468\" y=\"95.240286\" style=\"fill: #1f77b4; stroke: #1f77b4\"/>\n",
       "     <use xlink:href=\"#m3d8c0f3ecb\" x=\"169.324146\" y=\"110.779781\" style=\"fill: #1f77b4; stroke: #1f77b4\"/>\n",
       "     <use xlink:href=\"#m3d8c0f3ecb\" x=\"92.003288\" y=\"52.336044\" style=\"fill: #1f77b4; stroke: #1f77b4\"/>\n",
       "     <use xlink:href=\"#m3d8c0f3ecb\" x=\"132.124553\" y=\"63.975074\" style=\"fill: #1f77b4; stroke: #1f77b4\"/>\n",
       "     <use xlink:href=\"#m3d8c0f3ecb\" x=\"85.60122\" y=\"33.38589\" style=\"fill: #1f77b4; stroke: #1f77b4\"/>\n",
       "     <use xlink:href=\"#m3d8c0f3ecb\" x=\"146.504188\" y=\"98.223448\" style=\"fill: #1f77b4; stroke: #1f77b4\"/>\n",
       "     <use xlink:href=\"#m3d8c0f3ecb\" x=\"172.352054\" y=\"94.961336\" style=\"fill: #1f77b4; stroke: #1f77b4\"/>\n",
       "     <use xlink:href=\"#m3d8c0f3ecb\" x=\"106.616272\" y=\"48.15585\" style=\"fill: #1f77b4; stroke: #1f77b4\"/>\n",
       "     <use xlink:href=\"#m3d8c0f3ecb\" x=\"99.166369\" y=\"64.09509\" style=\"fill: #1f77b4; stroke: #1f77b4\"/>\n",
       "     <use xlink:href=\"#m3d8c0f3ecb\" x=\"104.781607\" y=\"64.007046\" style=\"fill: #1f77b4; stroke: #1f77b4\"/>\n",
       "     <use xlink:href=\"#m3d8c0f3ecb\" x=\"104.677925\" y=\"82.441131\" style=\"fill: #1f77b4; stroke: #1f77b4\"/>\n",
       "     <use xlink:href=\"#m3d8c0f3ecb\" x=\"145.947243\" y=\"91.657588\" style=\"fill: #1f77b4; stroke: #1f77b4\"/>\n",
       "     <use xlink:href=\"#m3d8c0f3ecb\" x=\"143.423948\" y=\"83.509393\" style=\"fill: #1f77b4; stroke: #1f77b4\"/>\n",
       "     <use xlink:href=\"#m3d8c0f3ecb\" x=\"149.078241\" y=\"82.087209\" style=\"fill: #1f77b4; stroke: #1f77b4\"/>\n",
       "     <use xlink:href=\"#m3d8c0f3ecb\" x=\"166.473652\" y=\"128.92063\" style=\"fill: #1f77b4; stroke: #1f77b4\"/>\n",
       "     <use xlink:href=\"#m3d8c0f3ecb\" x=\"131.762278\" y=\"65.544887\" style=\"fill: #1f77b4; stroke: #1f77b4\"/>\n",
       "     <use xlink:href=\"#m3d8c0f3ecb\" x=\"163.15873\" y=\"80.423789\" style=\"fill: #1f77b4; stroke: #1f77b4\"/>\n",
       "     <use xlink:href=\"#m3d8c0f3ecb\" x=\"172.467461\" y=\"92.92501\" style=\"fill: #1f77b4; stroke: #1f77b4\"/>\n",
       "     <use xlink:href=\"#m3d8c0f3ecb\" x=\"148.696664\" y=\"83.77284\" style=\"fill: #1f77b4; stroke: #1f77b4\"/>\n",
       "     <use xlink:href=\"#m3d8c0f3ecb\" x=\"133.295679\" y=\"75.026543\" style=\"fill: #1f77b4; stroke: #1f77b4\"/>\n",
       "     <use xlink:href=\"#m3d8c0f3ecb\" x=\"175.551631\" y=\"109.199555\" style=\"fill: #1f77b4; stroke: #1f77b4\"/>\n",
       "     <use xlink:href=\"#m3d8c0f3ecb\" x=\"105.82963\" y=\"51.966251\" style=\"fill: #1f77b4; stroke: #1f77b4\"/>\n",
       "     <use xlink:href=\"#m3d8c0f3ecb\" x=\"139.204535\" y=\"102.870305\" style=\"fill: #1f77b4; stroke: #1f77b4\"/>\n",
       "     <use xlink:href=\"#m3d8c0f3ecb\" x=\"169.716577\" y=\"129.888758\" style=\"fill: #1f77b4; stroke: #1f77b4\"/>\n",
       "     <use xlink:href=\"#m3d8c0f3ecb\" x=\"138.222543\" y=\"73.149103\" style=\"fill: #1f77b4; stroke: #1f77b4\"/>\n",
       "     <use xlink:href=\"#m3d8c0f3ecb\" x=\"104.490238\" y=\"52.548617\" style=\"fill: #1f77b4; stroke: #1f77b4\"/>\n",
       "     <use xlink:href=\"#m3d8c0f3ecb\" x=\"160.324999\" y=\"83.187195\" style=\"fill: #1f77b4; stroke: #1f77b4\"/>\n",
       "     <use xlink:href=\"#m3d8c0f3ecb\" x=\"146.300063\" y=\"90.099952\" style=\"fill: #1f77b4; stroke: #1f77b4\"/>\n",
       "     <use xlink:href=\"#m3d8c0f3ecb\" x=\"140.328779\" y=\"69.106361\" style=\"fill: #1f77b4; stroke: #1f77b4\"/>\n",
       "     <use xlink:href=\"#m3d8c0f3ecb\" x=\"95.153245\" y=\"51.71942\" style=\"fill: #1f77b4; stroke: #1f77b4\"/>\n",
       "     <use xlink:href=\"#m3d8c0f3ecb\" x=\"149.984774\" y=\"95.064368\" style=\"fill: #1f77b4; stroke: #1f77b4\"/>\n",
       "     <use xlink:href=\"#m3d8c0f3ecb\" x=\"113.792184\" y=\"78.993929\" style=\"fill: #1f77b4; stroke: #1f77b4\"/>\n",
       "     <use xlink:href=\"#m3d8c0f3ecb\" x=\"148.667849\" y=\"83.919639\" style=\"fill: #1f77b4; stroke: #1f77b4\"/>\n",
       "     <use xlink:href=\"#m3d8c0f3ecb\" x=\"154.031404\" y=\"116.534152\" style=\"fill: #1f77b4; stroke: #1f77b4\"/>\n",
       "     <use xlink:href=\"#m3d8c0f3ecb\" x=\"138.53898\" y=\"81.106329\" style=\"fill: #1f77b4; stroke: #1f77b4\"/>\n",
       "     <use xlink:href=\"#m3d8c0f3ecb\" x=\"119.556177\" y=\"63.087153\" style=\"fill: #1f77b4; stroke: #1f77b4\"/>\n",
       "     <use xlink:href=\"#m3d8c0f3ecb\" x=\"182.463536\" y=\"113.563813\" style=\"fill: #1f77b4; stroke: #1f77b4\"/>\n",
       "     <use xlink:href=\"#m3d8c0f3ecb\" x=\"152.04114\" y=\"98.724441\" style=\"fill: #1f77b4; stroke: #1f77b4\"/>\n",
       "     <use xlink:href=\"#m3d8c0f3ecb\" x=\"125.900004\" y=\"81.783564\" style=\"fill: #1f77b4; stroke: #1f77b4\"/>\n",
       "     <use xlink:href=\"#m3d8c0f3ecb\" x=\"154.612179\" y=\"97.947501\" style=\"fill: #1f77b4; stroke: #1f77b4\"/>\n",
       "     <use xlink:href=\"#m3d8c0f3ecb\" x=\"105.820874\" y=\"43.282714\" style=\"fill: #1f77b4; stroke: #1f77b4\"/>\n",
       "     <use xlink:href=\"#m3d8c0f3ecb\" x=\"121.664794\" y=\"64.124126\" style=\"fill: #1f77b4; stroke: #1f77b4\"/>\n",
       "     <use xlink:href=\"#m3d8c0f3ecb\" x=\"158.038919\" y=\"110.522758\" style=\"fill: #1f77b4; stroke: #1f77b4\"/>\n",
       "     <use xlink:href=\"#m3d8c0f3ecb\" x=\"113.862048\" y=\"83.604068\" style=\"fill: #1f77b4; stroke: #1f77b4\"/>\n",
       "     <use xlink:href=\"#m3d8c0f3ecb\" x=\"121.195194\" y=\"67.969666\" style=\"fill: #1f77b4; stroke: #1f77b4\"/>\n",
       "     <use xlink:href=\"#m3d8c0f3ecb\" x=\"155.060193\" y=\"91.087973\" style=\"fill: #1f77b4; stroke: #1f77b4\"/>\n",
       "     <use xlink:href=\"#m3d8c0f3ecb\" x=\"124.017217\" y=\"57.235486\" style=\"fill: #1f77b4; stroke: #1f77b4\"/>\n",
       "     <use xlink:href=\"#m3d8c0f3ecb\" x=\"124.432359\" y=\"63.06888\" style=\"fill: #1f77b4; stroke: #1f77b4\"/>\n",
       "     <use xlink:href=\"#m3d8c0f3ecb\" x=\"143.076789\" y=\"99.271075\" style=\"fill: #1f77b4; stroke: #1f77b4\"/>\n",
       "     <use xlink:href=\"#m3d8c0f3ecb\" x=\"98.845366\" y=\"56.867494\" style=\"fill: #1f77b4; stroke: #1f77b4\"/>\n",
       "     <use xlink:href=\"#m3d8c0f3ecb\" x=\"94.778612\" y=\"60.954583\" style=\"fill: #1f77b4; stroke: #1f77b4\"/>\n",
       "     <use xlink:href=\"#m3d8c0f3ecb\" x=\"107.552841\" y=\"65.034769\" style=\"fill: #1f77b4; stroke: #1f77b4\"/>\n",
       "     <use xlink:href=\"#m3d8c0f3ecb\" x=\"144.602311\" y=\"90.406115\" style=\"fill: #1f77b4; stroke: #1f77b4\"/>\n",
       "     <use xlink:href=\"#m3d8c0f3ecb\" x=\"122.139425\" y=\"66.393291\" style=\"fill: #1f77b4; stroke: #1f77b4\"/>\n",
       "     <use xlink:href=\"#m3d8c0f3ecb\" x=\"171.27719\" y=\"92.81634\" style=\"fill: #1f77b4; stroke: #1f77b4\"/>\n",
       "     <use xlink:href=\"#m3d8c0f3ecb\" x=\"119.674755\" y=\"69.214978\" style=\"fill: #1f77b4; stroke: #1f77b4\"/>\n",
       "     <use xlink:href=\"#m3d8c0f3ecb\" x=\"141.967188\" y=\"83.425578\" style=\"fill: #1f77b4; stroke: #1f77b4\"/>\n",
       "     <use xlink:href=\"#m3d8c0f3ecb\" x=\"153.472384\" y=\"83.4778\" style=\"fill: #1f77b4; stroke: #1f77b4\"/>\n",
       "     <use xlink:href=\"#m3d8c0f3ecb\" x=\"176.748419\" y=\"117.565843\" style=\"fill: #1f77b4; stroke: #1f77b4\"/>\n",
       "     <use xlink:href=\"#m3d8c0f3ecb\" x=\"115.183381\" y=\"71.15903\" style=\"fill: #1f77b4; stroke: #1f77b4\"/>\n",
       "     <use xlink:href=\"#m3d8c0f3ecb\" x=\"122.661333\" y=\"85.269396\" style=\"fill: #1f77b4; stroke: #1f77b4\"/>\n",
       "     <use xlink:href=\"#m3d8c0f3ecb\" x=\"142.50895\" y=\"84.584039\" style=\"fill: #1f77b4; stroke: #1f77b4\"/>\n",
       "     <use xlink:href=\"#m3d8c0f3ecb\" x=\"115.641653\" y=\"67.651912\" style=\"fill: #1f77b4; stroke: #1f77b4\"/>\n",
       "     <use xlink:href=\"#m3d8c0f3ecb\" x=\"123.359634\" y=\"79.073195\" style=\"fill: #1f77b4; stroke: #1f77b4\"/>\n",
       "     <use xlink:href=\"#m3d8c0f3ecb\" x=\"125.547975\" y=\"85.546144\" style=\"fill: #1f77b4; stroke: #1f77b4\"/>\n",
       "     <use xlink:href=\"#m3d8c0f3ecb\" x=\"158.828425\" y=\"88.60945\" style=\"fill: #1f77b4; stroke: #1f77b4\"/>\n",
       "     <use xlink:href=\"#m3d8c0f3ecb\" x=\"105.266981\" y=\"56.849465\" style=\"fill: #1f77b4; stroke: #1f77b4\"/>\n",
       "     <use xlink:href=\"#m3d8c0f3ecb\" x=\"153.219538\" y=\"104.229137\" style=\"fill: #1f77b4; stroke: #1f77b4\"/>\n",
       "     <use xlink:href=\"#m3d8c0f3ecb\" x=\"111.791373\" y=\"58.712054\" style=\"fill: #1f77b4; stroke: #1f77b4\"/>\n",
       "     <use xlink:href=\"#m3d8c0f3ecb\" x=\"123.803852\" y=\"97.210769\" style=\"fill: #1f77b4; stroke: #1f77b4\"/>\n",
       "     <use xlink:href=\"#m3d8c0f3ecb\" x=\"143.859476\" y=\"83.669995\" style=\"fill: #1f77b4; stroke: #1f77b4\"/>\n",
       "     <use xlink:href=\"#m3d8c0f3ecb\" x=\"122.667849\" y=\"52.812213\" style=\"fill: #1f77b4; stroke: #1f77b4\"/>\n",
       "     <use xlink:href=\"#m3d8c0f3ecb\" x=\"142.456767\" y=\"91.319655\" style=\"fill: #1f77b4; stroke: #1f77b4\"/>\n",
       "     <use xlink:href=\"#m3d8c0f3ecb\" x=\"153.284011\" y=\"106.308125\" style=\"fill: #1f77b4; stroke: #1f77b4\"/>\n",
       "     <use xlink:href=\"#m3d8c0f3ecb\" x=\"111.887683\" y=\"57.211662\" style=\"fill: #1f77b4; stroke: #1f77b4\"/>\n",
       "     <use xlink:href=\"#m3d8c0f3ecb\" x=\"131.649632\" y=\"44.106006\" style=\"fill: #1f77b4; stroke: #1f77b4\"/>\n",
       "     <use xlink:href=\"#m3d8c0f3ecb\" x=\"125.679051\" y=\"73.876306\" style=\"fill: #1f77b4; stroke: #1f77b4\"/>\n",
       "     <use xlink:href=\"#m3d8c0f3ecb\" x=\"144.743598\" y=\"96.930228\" style=\"fill: #1f77b4; stroke: #1f77b4\"/>\n",
       "     <use xlink:href=\"#m3d8c0f3ecb\" x=\"105.229904\" y=\"74.34042\" style=\"fill: #1f77b4; stroke: #1f77b4\"/>\n",
       "     <use xlink:href=\"#m3d8c0f3ecb\" x=\"147.216614\" y=\"86.376229\" style=\"fill: #1f77b4; stroke: #1f77b4\"/>\n",
       "     <use xlink:href=\"#m3d8c0f3ecb\" x=\"124.06197\" y=\"64.883293\" style=\"fill: #1f77b4; stroke: #1f77b4\"/>\n",
       "     <use xlink:href=\"#m3d8c0f3ecb\" x=\"140.926191\" y=\"97.293335\" style=\"fill: #1f77b4; stroke: #1f77b4\"/>\n",
       "     <use xlink:href=\"#m3d8c0f3ecb\" x=\"155.499619\" y=\"90.360037\" style=\"fill: #1f77b4; stroke: #1f77b4\"/>\n",
       "     <use xlink:href=\"#m3d8c0f3ecb\" x=\"140.093174\" y=\"74.06944\" style=\"fill: #1f77b4; stroke: #1f77b4\"/>\n",
       "     <use xlink:href=\"#m3d8c0f3ecb\" x=\"71.564487\" y=\"40.915063\" style=\"fill: #1f77b4; stroke: #1f77b4\"/>\n",
       "     <use xlink:href=\"#m3d8c0f3ecb\" x=\"190.012593\" y=\"106.002483\" style=\"fill: #1f77b4; stroke: #1f77b4\"/>\n",
       "     <use xlink:href=\"#m3d8c0f3ecb\" x=\"133.025391\" y=\"89.866252\" style=\"fill: #1f77b4; stroke: #1f77b4\"/>\n",
       "     <use xlink:href=\"#m3d8c0f3ecb\" x=\"170.308415\" y=\"92.00906\" style=\"fill: #1f77b4; stroke: #1f77b4\"/>\n",
       "     <use xlink:href=\"#m3d8c0f3ecb\" x=\"136.320965\" y=\"81.156664\" style=\"fill: #1f77b4; stroke: #1f77b4\"/>\n",
       "     <use xlink:href=\"#m3d8c0f3ecb\" x=\"104.598316\" y=\"60.961068\" style=\"fill: #1f77b4; stroke: #1f77b4\"/>\n",
       "     <use xlink:href=\"#m3d8c0f3ecb\" x=\"111.039494\" y=\"63.751528\" style=\"fill: #1f77b4; stroke: #1f77b4\"/>\n",
       "     <use xlink:href=\"#m3d8c0f3ecb\" x=\"136.87664\" y=\"86.169576\" style=\"fill: #1f77b4; stroke: #1f77b4\"/>\n",
       "     <use xlink:href=\"#m3d8c0f3ecb\" x=\"150.714131\" y=\"85.856446\" style=\"fill: #1f77b4; stroke: #1f77b4\"/>\n",
       "     <use xlink:href=\"#m3d8c0f3ecb\" x=\"165.001492\" y=\"124.693206\" style=\"fill: #1f77b4; stroke: #1f77b4\"/>\n",
       "     <use xlink:href=\"#m3d8c0f3ecb\" x=\"138.378416\" y=\"87.960879\" style=\"fill: #1f77b4; stroke: #1f77b4\"/>\n",
       "     <use xlink:href=\"#m3d8c0f3ecb\" x=\"136.104882\" y=\"81.761475\" style=\"fill: #1f77b4; stroke: #1f77b4\"/>\n",
       "     <use xlink:href=\"#m3d8c0f3ecb\" x=\"126.290475\" y=\"54.329234\" style=\"fill: #1f77b4; stroke: #1f77b4\"/>\n",
       "     <use xlink:href=\"#m3d8c0f3ecb\" x=\"143.923006\" y=\"86.233385\" style=\"fill: #1f77b4; stroke: #1f77b4\"/>\n",
       "     <use xlink:href=\"#m3d8c0f3ecb\" x=\"195.066535\" y=\"101.606028\" style=\"fill: #1f77b4; stroke: #1f77b4\"/>\n",
       "     <use xlink:href=\"#m3d8c0f3ecb\" x=\"77.872694\" y=\"41.014346\" style=\"fill: #1f77b4; stroke: #1f77b4\"/>\n",
       "     <use xlink:href=\"#m3d8c0f3ecb\" x=\"184.807381\" y=\"116.786456\" style=\"fill: #1f77b4; stroke: #1f77b4\"/>\n",
       "     <use xlink:href=\"#m3d8c0f3ecb\" x=\"175.118547\" y=\"119.983896\" style=\"fill: #1f77b4; stroke: #1f77b4\"/>\n",
       "     <use xlink:href=\"#m3d8c0f3ecb\" x=\"119.508345\" y=\"55.949396\" style=\"fill: #1f77b4; stroke: #1f77b4\"/>\n",
       "     <use xlink:href=\"#m3d8c0f3ecb\" x=\"150.753066\" y=\"82.719947\" style=\"fill: #1f77b4; stroke: #1f77b4\"/>\n",
       "     <use xlink:href=\"#m3d8c0f3ecb\" x=\"168.564995\" y=\"100.185447\" style=\"fill: #1f77b4; stroke: #1f77b4\"/>\n",
       "     <use xlink:href=\"#m3d8c0f3ecb\" x=\"114.077006\" y=\"74.890078\" style=\"fill: #1f77b4; stroke: #1f77b4\"/>\n",
       "     <use xlink:href=\"#m3d8c0f3ecb\" x=\"87.031057\" y=\"68.080504\" style=\"fill: #1f77b4; stroke: #1f77b4\"/>\n",
       "     <use xlink:href=\"#m3d8c0f3ecb\" x=\"127.626328\" y=\"64.031854\" style=\"fill: #1f77b4; stroke: #1f77b4\"/>\n",
       "     <use xlink:href=\"#m3d8c0f3ecb\" x=\"131.291609\" y=\"74.994725\" style=\"fill: #1f77b4; stroke: #1f77b4\"/>\n",
       "     <use xlink:href=\"#m3d8c0f3ecb\" x=\"116.753502\" y=\"55.492333\" style=\"fill: #1f77b4; stroke: #1f77b4\"/>\n",
       "     <use xlink:href=\"#m3d8c0f3ecb\" x=\"192.387252\" y=\"109.040708\" style=\"fill: #1f77b4; stroke: #1f77b4\"/>\n",
       "     <use xlink:href=\"#m3d8c0f3ecb\" x=\"161.834623\" y=\"95.237217\" style=\"fill: #1f77b4; stroke: #1f77b4\"/>\n",
       "     <use xlink:href=\"#m3d8c0f3ecb\" x=\"119.340951\" y=\"60.262869\" style=\"fill: #1f77b4; stroke: #1f77b4\"/>\n",
       "     <use xlink:href=\"#m3d8c0f3ecb\" x=\"139.724343\" y=\"77.042469\" style=\"fill: #1f77b4; stroke: #1f77b4\"/>\n",
       "     <use xlink:href=\"#m3d8c0f3ecb\" x=\"105.851862\" y=\"68.139505\" style=\"fill: #1f77b4; stroke: #1f77b4\"/>\n",
       "     <use xlink:href=\"#m3d8c0f3ecb\" x=\"155.108624\" y=\"99.665308\" style=\"fill: #1f77b4; stroke: #1f77b4\"/>\n",
       "     <use xlink:href=\"#m3d8c0f3ecb\" x=\"104.185819\" y=\"81.556918\" style=\"fill: #1f77b4; stroke: #1f77b4\"/>\n",
       "     <use xlink:href=\"#m3d8c0f3ecb\" x=\"110.989458\" y=\"83.307097\" style=\"fill: #1f77b4; stroke: #1f77b4\"/>\n",
       "     <use xlink:href=\"#m3d8c0f3ecb\" x=\"135.630805\" y=\"81.267954\" style=\"fill: #1f77b4; stroke: #1f77b4\"/>\n",
       "     <use xlink:href=\"#m3d8c0f3ecb\" x=\"120.278969\" y=\"72.820744\" style=\"fill: #1f77b4; stroke: #1f77b4\"/>\n",
       "     <use xlink:href=\"#m3d8c0f3ecb\" x=\"120.969172\" y=\"61.25966\" style=\"fill: #1f77b4; stroke: #1f77b4\"/>\n",
       "     <use xlink:href=\"#m3d8c0f3ecb\" x=\"117.41035\" y=\"70.826062\" style=\"fill: #1f77b4; stroke: #1f77b4\"/>\n",
       "     <use xlink:href=\"#m3d8c0f3ecb\" x=\"155.410034\" y=\"78.044074\" style=\"fill: #1f77b4; stroke: #1f77b4\"/>\n",
       "     <use xlink:href=\"#m3d8c0f3ecb\" x=\"170.020059\" y=\"116.71533\" style=\"fill: #1f77b4; stroke: #1f77b4\"/>\n",
       "     <use xlink:href=\"#m3d8c0f3ecb\" x=\"135.184797\" y=\"78.811486\" style=\"fill: #1f77b4; stroke: #1f77b4\"/>\n",
       "     <use xlink:href=\"#m3d8c0f3ecb\" x=\"155.127097\" y=\"91.698779\" style=\"fill: #1f77b4; stroke: #1f77b4\"/>\n",
       "     <use xlink:href=\"#m3d8c0f3ecb\" x=\"142.622721\" y=\"92.090851\" style=\"fill: #1f77b4; stroke: #1f77b4\"/>\n",
       "     <use xlink:href=\"#m3d8c0f3ecb\" x=\"111.213227\" y=\"68.525654\" style=\"fill: #1f77b4; stroke: #1f77b4\"/>\n",
       "     <use xlink:href=\"#m3d8c0f3ecb\" x=\"149.970966\" y=\"94.137505\" style=\"fill: #1f77b4; stroke: #1f77b4\"/>\n",
       "     <use xlink:href=\"#m3d8c0f3ecb\" x=\"121.661036\" y=\"63.73916\" style=\"fill: #1f77b4; stroke: #1f77b4\"/>\n",
       "     <use xlink:href=\"#m3d8c0f3ecb\" x=\"144.539435\" y=\"78.584601\" style=\"fill: #1f77b4; stroke: #1f77b4\"/>\n",
       "     <use xlink:href=\"#m3d8c0f3ecb\" x=\"134.259055\" y=\"95.324355\" style=\"fill: #1f77b4; stroke: #1f77b4\"/>\n",
       "     <use xlink:href=\"#m3d8c0f3ecb\" x=\"165.31688\" y=\"108.958877\" style=\"fill: #1f77b4; stroke: #1f77b4\"/>\n",
       "     <use xlink:href=\"#m3d8c0f3ecb\" x=\"100.498875\" y=\"58.317395\" style=\"fill: #1f77b4; stroke: #1f77b4\"/>\n",
       "     <use xlink:href=\"#m3d8c0f3ecb\" x=\"119.759374\" y=\"76.660157\" style=\"fill: #1f77b4; stroke: #1f77b4\"/>\n",
       "     <use xlink:href=\"#m3d8c0f3ecb\" x=\"141.193041\" y=\"99.814033\" style=\"fill: #1f77b4; stroke: #1f77b4\"/>\n",
       "     <use xlink:href=\"#m3d8c0f3ecb\" x=\"136.601231\" y=\"89.345889\" style=\"fill: #1f77b4; stroke: #1f77b4\"/>\n",
       "     <use xlink:href=\"#m3d8c0f3ecb\" x=\"174.780012\" y=\"108.273549\" style=\"fill: #1f77b4; stroke: #1f77b4\"/>\n",
       "     <use xlink:href=\"#m3d8c0f3ecb\" x=\"116.950867\" y=\"66.137455\" style=\"fill: #1f77b4; stroke: #1f77b4\"/>\n",
       "     <use xlink:href=\"#m3d8c0f3ecb\" x=\"185.743435\" y=\"102.18254\" style=\"fill: #1f77b4; stroke: #1f77b4\"/>\n",
       "     <use xlink:href=\"#m3d8c0f3ecb\" x=\"89.252717\" y=\"32.920325\" style=\"fill: #1f77b4; stroke: #1f77b4\"/>\n",
       "     <use xlink:href=\"#m3d8c0f3ecb\" x=\"82.968319\" y=\"34.181921\" style=\"fill: #1f77b4; stroke: #1f77b4\"/>\n",
       "     <use xlink:href=\"#m3d8c0f3ecb\" x=\"132.228681\" y=\"85.794545\" style=\"fill: #1f77b4; stroke: #1f77b4\"/>\n",
       "     <use xlink:href=\"#m3d8c0f3ecb\" x=\"129.705873\" y=\"66.611338\" style=\"fill: #1f77b4; stroke: #1f77b4\"/>\n",
       "     <use xlink:href=\"#m3d8c0f3ecb\" x=\"123.243487\" y=\"72.162675\" style=\"fill: #1f77b4; stroke: #1f77b4\"/>\n",
       "     <use xlink:href=\"#m3d8c0f3ecb\" x=\"133.539446\" y=\"76.681588\" style=\"fill: #1f77b4; stroke: #1f77b4\"/>\n",
       "     <use xlink:href=\"#m3d8c0f3ecb\" x=\"159.263746\" y=\"100.311239\" style=\"fill: #1f77b4; stroke: #1f77b4\"/>\n",
       "     <use xlink:href=\"#m3d8c0f3ecb\" x=\"191.074376\" y=\"119.790426\" style=\"fill: #1f77b4; stroke: #1f77b4\"/>\n",
       "     <use xlink:href=\"#m3d8c0f3ecb\" x=\"140.875172\" y=\"84.656734\" style=\"fill: #1f77b4; stroke: #1f77b4\"/>\n",
       "     <use xlink:href=\"#m3d8c0f3ecb\" x=\"117.715172\" y=\"68.822542\" style=\"fill: #1f77b4; stroke: #1f77b4\"/>\n",
       "     <use xlink:href=\"#m3d8c0f3ecb\" x=\"131.034819\" y=\"72.273732\" style=\"fill: #1f77b4; stroke: #1f77b4\"/>\n",
       "     <use xlink:href=\"#m3d8c0f3ecb\" x=\"160.540204\" y=\"123.963184\" style=\"fill: #1f77b4; stroke: #1f77b4\"/>\n",
       "     <use xlink:href=\"#m3d8c0f3ecb\" x=\"187.699361\" y=\"128.438877\" style=\"fill: #1f77b4; stroke: #1f77b4\"/>\n",
       "     <use xlink:href=\"#m3d8c0f3ecb\" x=\"103.182127\" y=\"52.287455\" style=\"fill: #1f77b4; stroke: #1f77b4\"/>\n",
       "     <use xlink:href=\"#m3d8c0f3ecb\" x=\"120.501472\" y=\"83.5173\" style=\"fill: #1f77b4; stroke: #1f77b4\"/>\n",
       "     <use xlink:href=\"#m3d8c0f3ecb\" x=\"146.36902\" y=\"55.547672\" style=\"fill: #1f77b4; stroke: #1f77b4\"/>\n",
       "     <use xlink:href=\"#m3d8c0f3ecb\" x=\"154.252676\" y=\"80.543006\" style=\"fill: #1f77b4; stroke: #1f77b4\"/>\n",
       "     <use xlink:href=\"#m3d8c0f3ecb\" x=\"164.335624\" y=\"83.630965\" style=\"fill: #1f77b4; stroke: #1f77b4\"/>\n",
       "     <use xlink:href=\"#m3d8c0f3ecb\" x=\"115.840904\" y=\"73.508944\" style=\"fill: #1f77b4; stroke: #1f77b4\"/>\n",
       "     <use xlink:href=\"#m3d8c0f3ecb\" x=\"145.788312\" y=\"87.827022\" style=\"fill: #1f77b4; stroke: #1f77b4\"/>\n",
       "     <use xlink:href=\"#m3d8c0f3ecb\" x=\"176.299163\" y=\"121.321024\" style=\"fill: #1f77b4; stroke: #1f77b4\"/>\n",
       "     <use xlink:href=\"#m3d8c0f3ecb\" x=\"116.568047\" y=\"64.085515\" style=\"fill: #1f77b4; stroke: #1f77b4\"/>\n",
       "     <use xlink:href=\"#m3d8c0f3ecb\" x=\"153.614309\" y=\"88.354063\" style=\"fill: #1f77b4; stroke: #1f77b4\"/>\n",
       "     <use xlink:href=\"#m3d8c0f3ecb\" x=\"151.34778\" y=\"68.626458\" style=\"fill: #1f77b4; stroke: #1f77b4\"/>\n",
       "     <use xlink:href=\"#m3d8c0f3ecb\" x=\"95.478307\" y=\"59.034383\" style=\"fill: #1f77b4; stroke: #1f77b4\"/>\n",
       "     <use xlink:href=\"#m3d8c0f3ecb\" x=\"156.410697\" y=\"65.584125\" style=\"fill: #1f77b4; stroke: #1f77b4\"/>\n",
       "     <use xlink:href=\"#m3d8c0f3ecb\" x=\"111.388072\" y=\"68.064913\" style=\"fill: #1f77b4; stroke: #1f77b4\"/>\n",
       "     <use xlink:href=\"#m3d8c0f3ecb\" x=\"146.295678\" y=\"101.883851\" style=\"fill: #1f77b4; stroke: #1f77b4\"/>\n",
       "     <use xlink:href=\"#m3d8c0f3ecb\" x=\"141.013715\" y=\"75.265646\" style=\"fill: #1f77b4; stroke: #1f77b4\"/>\n",
       "     <use xlink:href=\"#m3d8c0f3ecb\" x=\"84.003642\" y=\"42.986382\" style=\"fill: #1f77b4; stroke: #1f77b4\"/>\n",
       "     <use xlink:href=\"#m3d8c0f3ecb\" x=\"139.989397\" y=\"86.981669\" style=\"fill: #1f77b4; stroke: #1f77b4\"/>\n",
       "     <use xlink:href=\"#m3d8c0f3ecb\" x=\"117.375581\" y=\"57.181354\" style=\"fill: #1f77b4; stroke: #1f77b4\"/>\n",
       "     <use xlink:href=\"#m3d8c0f3ecb\" x=\"117.215012\" y=\"66.154473\" style=\"fill: #1f77b4; stroke: #1f77b4\"/>\n",
       "     <use xlink:href=\"#m3d8c0f3ecb\" x=\"175.687032\" y=\"111.551962\" style=\"fill: #1f77b4; stroke: #1f77b4\"/>\n",
       "     <use xlink:href=\"#m3d8c0f3ecb\" x=\"133.552964\" y=\"88.049795\" style=\"fill: #1f77b4; stroke: #1f77b4\"/>\n",
       "     <use xlink:href=\"#m3d8c0f3ecb\" x=\"113.515441\" y=\"62.225688\" style=\"fill: #1f77b4; stroke: #1f77b4\"/>\n",
       "     <use xlink:href=\"#m3d8c0f3ecb\" x=\"112.01148\" y=\"56.676668\" style=\"fill: #1f77b4; stroke: #1f77b4\"/>\n",
       "     <use xlink:href=\"#m3d8c0f3ecb\" x=\"93.181612\" y=\"49.16849\" style=\"fill: #1f77b4; stroke: #1f77b4\"/>\n",
       "     <use xlink:href=\"#m3d8c0f3ecb\" x=\"140.273704\" y=\"83.703701\" style=\"fill: #1f77b4; stroke: #1f77b4\"/>\n",
       "     <use xlink:href=\"#m3d8c0f3ecb\" x=\"121.350506\" y=\"77.436697\" style=\"fill: #1f77b4; stroke: #1f77b4\"/>\n",
       "     <use xlink:href=\"#m3d8c0f3ecb\" x=\"134.29084\" y=\"82.689677\" style=\"fill: #1f77b4; stroke: #1f77b4\"/>\n",
       "     <use xlink:href=\"#m3d8c0f3ecb\" x=\"150.137253\" y=\"92.041103\" style=\"fill: #1f77b4; stroke: #1f77b4\"/>\n",
       "     <use xlink:href=\"#m3d8c0f3ecb\" x=\"106.34538\" y=\"58.196427\" style=\"fill: #1f77b4; stroke: #1f77b4\"/>\n",
       "     <use xlink:href=\"#m3d8c0f3ecb\" x=\"128.851622\" y=\"89.552128\" style=\"fill: #1f77b4; stroke: #1f77b4\"/>\n",
       "     <use xlink:href=\"#m3d8c0f3ecb\" x=\"94.101553\" y=\"52.73165\" style=\"fill: #1f77b4; stroke: #1f77b4\"/>\n",
       "     <use xlink:href=\"#m3d8c0f3ecb\" x=\"149.058723\" y=\"89.024767\" style=\"fill: #1f77b4; stroke: #1f77b4\"/>\n",
       "     <use xlink:href=\"#m3d8c0f3ecb\" x=\"148.501296\" y=\"77.90239\" style=\"fill: #1f77b4; stroke: #1f77b4\"/>\n",
       "     <use xlink:href=\"#m3d8c0f3ecb\" x=\"126.826674\" y=\"79.230862\" style=\"fill: #1f77b4; stroke: #1f77b4\"/>\n",
       "     <use xlink:href=\"#m3d8c0f3ecb\" x=\"172.571199\" y=\"98.271441\" style=\"fill: #1f77b4; stroke: #1f77b4\"/>\n",
       "     <use xlink:href=\"#m3d8c0f3ecb\" x=\"119.302306\" y=\"76.611923\" style=\"fill: #1f77b4; stroke: #1f77b4\"/>\n",
       "     <use xlink:href=\"#m3d8c0f3ecb\" x=\"131.932093\" y=\"78.967302\" style=\"fill: #1f77b4; stroke: #1f77b4\"/>\n",
       "     <use xlink:href=\"#m3d8c0f3ecb\" x=\"125.721424\" y=\"66.651093\" style=\"fill: #1f77b4; stroke: #1f77b4\"/>\n",
       "     <use xlink:href=\"#m3d8c0f3ecb\" x=\"145.211437\" y=\"89.844728\" style=\"fill: #1f77b4; stroke: #1f77b4\"/>\n",
       "     <use xlink:href=\"#m3d8c0f3ecb\" x=\"156.863527\" y=\"85.585135\" style=\"fill: #1f77b4; stroke: #1f77b4\"/>\n",
       "     <use xlink:href=\"#m3d8c0f3ecb\" x=\"111.235368\" y=\"59.350975\" style=\"fill: #1f77b4; stroke: #1f77b4\"/>\n",
       "     <use xlink:href=\"#m3d8c0f3ecb\" x=\"130.465498\" y=\"72.683968\" style=\"fill: #1f77b4; stroke: #1f77b4\"/>\n",
       "     <use xlink:href=\"#m3d8c0f3ecb\" x=\"151.520904\" y=\"101.92311\" style=\"fill: #1f77b4; stroke: #1f77b4\"/>\n",
       "     <use xlink:href=\"#m3d8c0f3ecb\" x=\"106.860247\" y=\"60.176189\" style=\"fill: #1f77b4; stroke: #1f77b4\"/>\n",
       "     <use xlink:href=\"#m3d8c0f3ecb\" x=\"121.904169\" y=\"75.766266\" style=\"fill: #1f77b4; stroke: #1f77b4\"/>\n",
       "     <use xlink:href=\"#m3d8c0f3ecb\" x=\"135.080226\" y=\"66.185168\" style=\"fill: #1f77b4; stroke: #1f77b4\"/>\n",
       "     <use xlink:href=\"#m3d8c0f3ecb\" x=\"122.441707\" y=\"60.234401\" style=\"fill: #1f77b4; stroke: #1f77b4\"/>\n",
       "     <use xlink:href=\"#m3d8c0f3ecb\" x=\"116.908648\" y=\"63.994426\" style=\"fill: #1f77b4; stroke: #1f77b4\"/>\n",
       "     <use xlink:href=\"#m3d8c0f3ecb\" x=\"113.736734\" y=\"67.096608\" style=\"fill: #1f77b4; stroke: #1f77b4\"/>\n",
       "     <use xlink:href=\"#m3d8c0f3ecb\" x=\"103.785797\" y=\"55.063392\" style=\"fill: #1f77b4; stroke: #1f77b4\"/>\n",
       "     <use xlink:href=\"#m3d8c0f3ecb\" x=\"108.299889\" y=\"72.521789\" style=\"fill: #1f77b4; stroke: #1f77b4\"/>\n",
       "     <use xlink:href=\"#m3d8c0f3ecb\" x=\"145.295027\" y=\"89.889242\" style=\"fill: #1f77b4; stroke: #1f77b4\"/>\n",
       "     <use xlink:href=\"#m3d8c0f3ecb\" x=\"156.523338\" y=\"92.899171\" style=\"fill: #1f77b4; stroke: #1f77b4\"/>\n",
       "     <use xlink:href=\"#m3d8c0f3ecb\" x=\"149.897447\" y=\"103.601488\" style=\"fill: #1f77b4; stroke: #1f77b4\"/>\n",
       "     <use xlink:href=\"#m3d8c0f3ecb\" x=\"167.096769\" y=\"88.866813\" style=\"fill: #1f77b4; stroke: #1f77b4\"/>\n",
       "     <use xlink:href=\"#m3d8c0f3ecb\" x=\"151.636517\" y=\"85.702806\" style=\"fill: #1f77b4; stroke: #1f77b4\"/>\n",
       "     <use xlink:href=\"#m3d8c0f3ecb\" x=\"164.7868\" y=\"110.31958\" style=\"fill: #1f77b4; stroke: #1f77b4\"/>\n",
       "     <use xlink:href=\"#m3d8c0f3ecb\" x=\"111.503767\" y=\"53.890066\" style=\"fill: #1f77b4; stroke: #1f77b4\"/>\n",
       "     <use xlink:href=\"#m3d8c0f3ecb\" x=\"127.196272\" y=\"71.010746\" style=\"fill: #1f77b4; stroke: #1f77b4\"/>\n",
       "     <use xlink:href=\"#m3d8c0f3ecb\" x=\"117.557117\" y=\"53.27264\" style=\"fill: #1f77b4; stroke: #1f77b4\"/>\n",
       "     <use xlink:href=\"#m3d8c0f3ecb\" x=\"128.570527\" y=\"63.401044\" style=\"fill: #1f77b4; stroke: #1f77b4\"/>\n",
       "     <use xlink:href=\"#m3d8c0f3ecb\" x=\"157.104138\" y=\"83.152596\" style=\"fill: #1f77b4; stroke: #1f77b4\"/>\n",
       "     <use xlink:href=\"#m3d8c0f3ecb\" x=\"143.753269\" y=\"101.025377\" style=\"fill: #1f77b4; stroke: #1f77b4\"/>\n",
       "     <use xlink:href=\"#m3d8c0f3ecb\" x=\"159.719827\" y=\"84.135057\" style=\"fill: #1f77b4; stroke: #1f77b4\"/>\n",
       "     <use xlink:href=\"#m3d8c0f3ecb\" x=\"140.715369\" y=\"78.055066\" style=\"fill: #1f77b4; stroke: #1f77b4\"/>\n",
       "     <use xlink:href=\"#m3d8c0f3ecb\" x=\"136.512704\" y=\"71.955683\" style=\"fill: #1f77b4; stroke: #1f77b4\"/>\n",
       "     <use xlink:href=\"#m3d8c0f3ecb\" x=\"116.31108\" y=\"61.529117\" style=\"fill: #1f77b4; stroke: #1f77b4\"/>\n",
       "     <use xlink:href=\"#m3d8c0f3ecb\" x=\"119.842491\" y=\"73.983365\" style=\"fill: #1f77b4; stroke: #1f77b4\"/>\n",
       "     <use xlink:href=\"#m3d8c0f3ecb\" x=\"104.70848\" y=\"71.579136\" style=\"fill: #1f77b4; stroke: #1f77b4\"/>\n",
       "     <use xlink:href=\"#m3d8c0f3ecb\" x=\"106.254054\" y=\"61.471801\" style=\"fill: #1f77b4; stroke: #1f77b4\"/>\n",
       "     <use xlink:href=\"#m3d8c0f3ecb\" x=\"137.350655\" y=\"82.444162\" style=\"fill: #1f77b4; stroke: #1f77b4\"/>\n",
       "     <use xlink:href=\"#m3d8c0f3ecb\" x=\"135.618179\" y=\"86.30044\" style=\"fill: #1f77b4; stroke: #1f77b4\"/>\n",
       "     <use xlink:href=\"#m3d8c0f3ecb\" x=\"164.684908\" y=\"115.224769\" style=\"fill: #1f77b4; stroke: #1f77b4\"/>\n",
       "     <use xlink:href=\"#m3d8c0f3ecb\" x=\"137.626767\" y=\"89.188134\" style=\"fill: #1f77b4; stroke: #1f77b4\"/>\n",
       "     <use xlink:href=\"#m3d8c0f3ecb\" x=\"162.099532\" y=\"106.19256\" style=\"fill: #1f77b4; stroke: #1f77b4\"/>\n",
       "     <use xlink:href=\"#m3d8c0f3ecb\" x=\"123.739353\" y=\"47.18854\" style=\"fill: #1f77b4; stroke: #1f77b4\"/>\n",
       "     <use xlink:href=\"#m3d8c0f3ecb\" x=\"140.759484\" y=\"79.176616\" style=\"fill: #1f77b4; stroke: #1f77b4\"/>\n",
       "     <use xlink:href=\"#m3d8c0f3ecb\" x=\"142.850982\" y=\"71.215364\" style=\"fill: #1f77b4; stroke: #1f77b4\"/>\n",
       "     <use xlink:href=\"#m3d8c0f3ecb\" x=\"193.335998\" y=\"110.867474\" style=\"fill: #1f77b4; stroke: #1f77b4\"/>\n",
       "     <use xlink:href=\"#m3d8c0f3ecb\" x=\"95.919787\" y=\"46.076434\" style=\"fill: #1f77b4; stroke: #1f77b4\"/>\n",
       "     <use xlink:href=\"#m3d8c0f3ecb\" x=\"124.466608\" y=\"75.231141\" style=\"fill: #1f77b4; stroke: #1f77b4\"/>\n",
       "     <use xlink:href=\"#m3d8c0f3ecb\" x=\"146.652409\" y=\"69.599794\" style=\"fill: #1f77b4; stroke: #1f77b4\"/>\n",
       "     <use xlink:href=\"#m3d8c0f3ecb\" x=\"175.742991\" y=\"114.924496\" style=\"fill: #1f77b4; stroke: #1f77b4\"/>\n",
       "     <use xlink:href=\"#m3d8c0f3ecb\" x=\"101.669936\" y=\"56.392364\" style=\"fill: #1f77b4; stroke: #1f77b4\"/>\n",
       "     <use xlink:href=\"#m3d8c0f3ecb\" x=\"136.328969\" y=\"79.944311\" style=\"fill: #1f77b4; stroke: #1f77b4\"/>\n",
       "     <use xlink:href=\"#m3d8c0f3ecb\" x=\"150.168668\" y=\"78.987971\" style=\"fill: #1f77b4; stroke: #1f77b4\"/>\n",
       "     <use xlink:href=\"#m3d8c0f3ecb\" x=\"167.483358\" y=\"104.309421\" style=\"fill: #1f77b4; stroke: #1f77b4\"/>\n",
       "     <use xlink:href=\"#m3d8c0f3ecb\" x=\"151.79058\" y=\"79.689479\" style=\"fill: #1f77b4; stroke: #1f77b4\"/>\n",
       "     <use xlink:href=\"#m3d8c0f3ecb\" x=\"145.599098\" y=\"80.475968\" style=\"fill: #1f77b4; stroke: #1f77b4\"/>\n",
       "     <use xlink:href=\"#m3d8c0f3ecb\" x=\"137.760444\" y=\"80.601411\" style=\"fill: #1f77b4; stroke: #1f77b4\"/>\n",
       "     <use xlink:href=\"#m3d8c0f3ecb\" x=\"56.546329\" y=\"13.5\" style=\"fill: #1f77b4; stroke: #1f77b4\"/>\n",
       "     <use xlink:href=\"#m3d8c0f3ecb\" x=\"133.458399\" y=\"76.118697\" style=\"fill: #1f77b4; stroke: #1f77b4\"/>\n",
       "     <use xlink:href=\"#m3d8c0f3ecb\" x=\"130.546976\" y=\"54.689307\" style=\"fill: #1f77b4; stroke: #1f77b4\"/>\n",
       "     <use xlink:href=\"#m3d8c0f3ecb\" x=\"135.972646\" y=\"80.506339\" style=\"fill: #1f77b4; stroke: #1f77b4\"/>\n",
       "     <use xlink:href=\"#m3d8c0f3ecb\" x=\"112.540286\" y=\"70.424404\" style=\"fill: #1f77b4; stroke: #1f77b4\"/>\n",
       "     <use xlink:href=\"#m3d8c0f3ecb\" x=\"144.142674\" y=\"100.948375\" style=\"fill: #1f77b4; stroke: #1f77b4\"/>\n",
       "     <use xlink:href=\"#m3d8c0f3ecb\" x=\"166.384494\" y=\"92.429482\" style=\"fill: #1f77b4; stroke: #1f77b4\"/>\n",
       "     <use xlink:href=\"#m3d8c0f3ecb\" x=\"118.08214\" y=\"45.361624\" style=\"fill: #1f77b4; stroke: #1f77b4\"/>\n",
       "     <use xlink:href=\"#m3d8c0f3ecb\" x=\"111.065745\" y=\"51.744345\" style=\"fill: #1f77b4; stroke: #1f77b4\"/>\n",
       "     <use xlink:href=\"#m3d8c0f3ecb\" x=\"179.744483\" y=\"107.957403\" style=\"fill: #1f77b4; stroke: #1f77b4\"/>\n",
       "     <use xlink:href=\"#m3d8c0f3ecb\" x=\"109.389078\" y=\"46.789762\" style=\"fill: #1f77b4; stroke: #1f77b4\"/>\n",
       "     <use xlink:href=\"#m3d8c0f3ecb\" x=\"181.886477\" y=\"96.534913\" style=\"fill: #1f77b4; stroke: #1f77b4\"/>\n",
       "     <use xlink:href=\"#m3d8c0f3ecb\" x=\"101.924347\" y=\"64.019933\" style=\"fill: #1f77b4; stroke: #1f77b4\"/>\n",
       "     <use xlink:href=\"#m3d8c0f3ecb\" x=\"194.939197\" y=\"129.05032\" style=\"fill: #1f77b4; stroke: #1f77b4\"/>\n",
       "     <use xlink:href=\"#m3d8c0f3ecb\" x=\"97.947192\" y=\"57.690829\" style=\"fill: #1f77b4; stroke: #1f77b4\"/>\n",
       "     <use xlink:href=\"#m3d8c0f3ecb\" x=\"134.049543\" y=\"71.818227\" style=\"fill: #1f77b4; stroke: #1f77b4\"/>\n",
       "     <use xlink:href=\"#m3d8c0f3ecb\" x=\"132.311721\" y=\"58.892513\" style=\"fill: #1f77b4; stroke: #1f77b4\"/>\n",
       "     <use xlink:href=\"#m3d8c0f3ecb\" x=\"157.946256\" y=\"77.715176\" style=\"fill: #1f77b4; stroke: #1f77b4\"/>\n",
       "     <use xlink:href=\"#m3d8c0f3ecb\" x=\"138.7143\" y=\"87.074145\" style=\"fill: #1f77b4; stroke: #1f77b4\"/>\n",
       "     <use xlink:href=\"#m3d8c0f3ecb\" x=\"127.424314\" y=\"72.5205\" style=\"fill: #1f77b4; stroke: #1f77b4\"/>\n",
       "     <use xlink:href=\"#m3d8c0f3ecb\" x=\"145.963461\" y=\"98.433258\" style=\"fill: #1f77b4; stroke: #1f77b4\"/>\n",
       "     <use xlink:href=\"#m3d8c0f3ecb\" x=\"97.515004\" y=\"70.148155\" style=\"fill: #1f77b4; stroke: #1f77b4\"/>\n",
       "     <use xlink:href=\"#m3d8c0f3ecb\" x=\"87.643798\" y=\"38.204122\" style=\"fill: #1f77b4; stroke: #1f77b4\"/>\n",
       "     <use xlink:href=\"#m3d8c0f3ecb\" x=\"75.409273\" y=\"41.323807\" style=\"fill: #1f77b4; stroke: #1f77b4\"/>\n",
       "     <use xlink:href=\"#m3d8c0f3ecb\" x=\"147.301025\" y=\"93.345831\" style=\"fill: #1f77b4; stroke: #1f77b4\"/>\n",
       "     <use xlink:href=\"#m3d8c0f3ecb\" x=\"149.200378\" y=\"85.092238\" style=\"fill: #1f77b4; stroke: #1f77b4\"/>\n",
       "     <use xlink:href=\"#m3d8c0f3ecb\" x=\"103.516757\" y=\"55.848331\" style=\"fill: #1f77b4; stroke: #1f77b4\"/>\n",
       "     <use xlink:href=\"#m3d8c0f3ecb\" x=\"130.951949\" y=\"80.927167\" style=\"fill: #1f77b4; stroke: #1f77b4\"/>\n",
       "     <use xlink:href=\"#m3d8c0f3ecb\" x=\"157.693575\" y=\"96.286496\" style=\"fill: #1f77b4; stroke: #1f77b4\"/>\n",
       "     <use xlink:href=\"#m3d8c0f3ecb\" x=\"130.621162\" y=\"88.067194\" style=\"fill: #1f77b4; stroke: #1f77b4\"/>\n",
       "     <use xlink:href=\"#m3d8c0f3ecb\" x=\"121.031803\" y=\"68.139797\" style=\"fill: #1f77b4; stroke: #1f77b4\"/>\n",
       "     <use xlink:href=\"#m3d8c0f3ecb\" x=\"124.329125\" y=\"63.890945\" style=\"fill: #1f77b4; stroke: #1f77b4\"/>\n",
       "     <use xlink:href=\"#m3d8c0f3ecb\" x=\"171.872847\" y=\"87.209767\" style=\"fill: #1f77b4; stroke: #1f77b4\"/>\n",
       "     <use xlink:href=\"#m3d8c0f3ecb\" x=\"150.68373\" y=\"85.528147\" style=\"fill: #1f77b4; stroke: #1f77b4\"/>\n",
       "     <use xlink:href=\"#m3d8c0f3ecb\" x=\"114.655443\" y=\"53.679945\" style=\"fill: #1f77b4; stroke: #1f77b4\"/>\n",
       "     <use xlink:href=\"#m3d8c0f3ecb\" x=\"170.932618\" y=\"119.472795\" style=\"fill: #1f77b4; stroke: #1f77b4\"/>\n",
       "     <use xlink:href=\"#m3d8c0f3ecb\" x=\"170.199409\" y=\"116.157436\" style=\"fill: #1f77b4; stroke: #1f77b4\"/>\n",
       "     <use xlink:href=\"#m3d8c0f3ecb\" x=\"97.190058\" y=\"42.155331\" style=\"fill: #1f77b4; stroke: #1f77b4\"/>\n",
       "     <use xlink:href=\"#m3d8c0f3ecb\" x=\"142.753323\" y=\"94.365393\" style=\"fill: #1f77b4; stroke: #1f77b4\"/>\n",
       "     <use xlink:href=\"#m3d8c0f3ecb\" x=\"154.391876\" y=\"80.012083\" style=\"fill: #1f77b4; stroke: #1f77b4\"/>\n",
       "     <use xlink:href=\"#m3d8c0f3ecb\" x=\"110.470432\" y=\"47.474361\" style=\"fill: #1f77b4; stroke: #1f77b4\"/>\n",
       "     <use xlink:href=\"#m3d8c0f3ecb\" x=\"92.423176\" y=\"58.174226\" style=\"fill: #1f77b4; stroke: #1f77b4\"/>\n",
       "     <use xlink:href=\"#m3d8c0f3ecb\" x=\"173.645956\" y=\"101.681\" style=\"fill: #1f77b4; stroke: #1f77b4\"/>\n",
       "     <use xlink:href=\"#m3d8c0f3ecb\" x=\"172.279751\" y=\"97.997737\" style=\"fill: #1f77b4; stroke: #1f77b4\"/>\n",
       "     <use xlink:href=\"#m3d8c0f3ecb\" x=\"120.635161\" y=\"67.211156\" style=\"fill: #1f77b4; stroke: #1f77b4\"/>\n",
       "     <use xlink:href=\"#m3d8c0f3ecb\" x=\"103.748123\" y=\"60.815883\" style=\"fill: #1f77b4; stroke: #1f77b4\"/>\n",
       "     <use xlink:href=\"#m3d8c0f3ecb\" x=\"148.22276\" y=\"78.388766\" style=\"fill: #1f77b4; stroke: #1f77b4\"/>\n",
       "     <use xlink:href=\"#m3d8c0f3ecb\" x=\"117.612439\" y=\"72.938027\" style=\"fill: #1f77b4; stroke: #1f77b4\"/>\n",
       "     <use xlink:href=\"#m3d8c0f3ecb\" x=\"144.012305\" y=\"85.418611\" style=\"fill: #1f77b4; stroke: #1f77b4\"/>\n",
       "     <use xlink:href=\"#m3d8c0f3ecb\" x=\"160.364124\" y=\"67.340252\" style=\"fill: #1f77b4; stroke: #1f77b4\"/>\n",
       "     <use xlink:href=\"#m3d8c0f3ecb\" x=\"144.035674\" y=\"88.140851\" style=\"fill: #1f77b4; stroke: #1f77b4\"/>\n",
       "     <use xlink:href=\"#m3d8c0f3ecb\" x=\"135.361993\" y=\"65.686721\" style=\"fill: #1f77b4; stroke: #1f77b4\"/>\n",
       "     <use xlink:href=\"#m3d8c0f3ecb\" x=\"150.459291\" y=\"101.019107\" style=\"fill: #1f77b4; stroke: #1f77b4\"/>\n",
       "     <use xlink:href=\"#m3d8c0f3ecb\" x=\"167.875386\" y=\"100.234102\" style=\"fill: #1f77b4; stroke: #1f77b4\"/>\n",
       "     <use xlink:href=\"#m3d8c0f3ecb\" x=\"129.01423\" y=\"61.732035\" style=\"fill: #1f77b4; stroke: #1f77b4\"/>\n",
       "     <use xlink:href=\"#m3d8c0f3ecb\" x=\"118.036607\" y=\"75.383243\" style=\"fill: #1f77b4; stroke: #1f77b4\"/>\n",
       "     <use xlink:href=\"#m3d8c0f3ecb\" x=\"109.16465\" y=\"59.756648\" style=\"fill: #1f77b4; stroke: #1f77b4\"/>\n",
       "     <use xlink:href=\"#m3d8c0f3ecb\" x=\"149.970458\" y=\"72.337772\" style=\"fill: #1f77b4; stroke: #1f77b4\"/>\n",
       "     <use xlink:href=\"#m3d8c0f3ecb\" x=\"156.232339\" y=\"87.252994\" style=\"fill: #1f77b4; stroke: #1f77b4\"/>\n",
       "     <use xlink:href=\"#m3d8c0f3ecb\" x=\"161.597009\" y=\"93.264028\" style=\"fill: #1f77b4; stroke: #1f77b4\"/>\n",
       "     <use xlink:href=\"#m3d8c0f3ecb\" x=\"138.40307\" y=\"89.030866\" style=\"fill: #1f77b4; stroke: #1f77b4\"/>\n",
       "     <use xlink:href=\"#m3d8c0f3ecb\" x=\"105.474126\" y=\"58.58452\" style=\"fill: #1f77b4; stroke: #1f77b4\"/>\n",
       "     <use xlink:href=\"#m3d8c0f3ecb\" x=\"118.865035\" y=\"63.735466\" style=\"fill: #1f77b4; stroke: #1f77b4\"/>\n",
       "     <use xlink:href=\"#m3d8c0f3ecb\" x=\"97.912991\" y=\"55.446077\" style=\"fill: #1f77b4; stroke: #1f77b4\"/>\n",
       "     <use xlink:href=\"#m3d8c0f3ecb\" x=\"82.30637\" y=\"54.948827\" style=\"fill: #1f77b4; stroke: #1f77b4\"/>\n",
       "     <use xlink:href=\"#m3d8c0f3ecb\" x=\"121.130237\" y=\"65.915918\" style=\"fill: #1f77b4; stroke: #1f77b4\"/>\n",
       "     <use xlink:href=\"#m3d8c0f3ecb\" x=\"164.737111\" y=\"101.777902\" style=\"fill: #1f77b4; stroke: #1f77b4\"/>\n",
       "     <use xlink:href=\"#m3d8c0f3ecb\" x=\"87.41462\" y=\"46.762337\" style=\"fill: #1f77b4; stroke: #1f77b4\"/>\n",
       "     <use xlink:href=\"#m3d8c0f3ecb\" x=\"131.940728\" y=\"79.874706\" style=\"fill: #1f77b4; stroke: #1f77b4\"/>\n",
       "     <use xlink:href=\"#m3d8c0f3ecb\" x=\"109.548923\" y=\"67.24707\" style=\"fill: #1f77b4; stroke: #1f77b4\"/>\n",
       "     <use xlink:href=\"#m3d8c0f3ecb\" x=\"136.21794\" y=\"64.573869\" style=\"fill: #1f77b4; stroke: #1f77b4\"/>\n",
       "     <use xlink:href=\"#m3d8c0f3ecb\" x=\"180.156171\" y=\"91.412496\" style=\"fill: #1f77b4; stroke: #1f77b4\"/>\n",
       "     <use xlink:href=\"#m3d8c0f3ecb\" x=\"151.741788\" y=\"98.313034\" style=\"fill: #1f77b4; stroke: #1f77b4\"/>\n",
       "     <use xlink:href=\"#m3d8c0f3ecb\" x=\"179.4111\" y=\"105.445487\" style=\"fill: #1f77b4; stroke: #1f77b4\"/>\n",
       "     <use xlink:href=\"#m3d8c0f3ecb\" x=\"133.462198\" y=\"61.140018\" style=\"fill: #1f77b4; stroke: #1f77b4\"/>\n",
       "     <use xlink:href=\"#m3d8c0f3ecb\" x=\"98.254727\" y=\"80.925344\" style=\"fill: #1f77b4; stroke: #1f77b4\"/>\n",
       "     <use xlink:href=\"#m3d8c0f3ecb\" x=\"113.991618\" y=\"61.204398\" style=\"fill: #1f77b4; stroke: #1f77b4\"/>\n",
       "     <use xlink:href=\"#m3d8c0f3ecb\" x=\"125.322845\" y=\"78.756289\" style=\"fill: #1f77b4; stroke: #1f77b4\"/>\n",
       "     <use xlink:href=\"#m3d8c0f3ecb\" x=\"156.902086\" y=\"98.731192\" style=\"fill: #1f77b4; stroke: #1f77b4\"/>\n",
       "     <use xlink:href=\"#m3d8c0f3ecb\" x=\"139.450061\" y=\"83.727611\" style=\"fill: #1f77b4; stroke: #1f77b4\"/>\n",
       "     <use xlink:href=\"#m3d8c0f3ecb\" x=\"106.867953\" y=\"44.900177\" style=\"fill: #1f77b4; stroke: #1f77b4\"/>\n",
       "     <use xlink:href=\"#m3d8c0f3ecb\" x=\"70.479565\" y=\"57.059672\" style=\"fill: #1f77b4; stroke: #1f77b4\"/>\n",
       "     <use xlink:href=\"#m3d8c0f3ecb\" x=\"112.236494\" y=\"77.066515\" style=\"fill: #1f77b4; stroke: #1f77b4\"/>\n",
       "     <use xlink:href=\"#m3d8c0f3ecb\" x=\"99.614422\" y=\"52.263839\" style=\"fill: #1f77b4; stroke: #1f77b4\"/>\n",
       "     <use xlink:href=\"#m3d8c0f3ecb\" x=\"109.911184\" y=\"46.859823\" style=\"fill: #1f77b4; stroke: #1f77b4\"/>\n",
       "     <use xlink:href=\"#m3d8c0f3ecb\" x=\"122.162645\" y=\"74.109692\" style=\"fill: #1f77b4; stroke: #1f77b4\"/>\n",
       "     <use xlink:href=\"#m3d8c0f3ecb\" x=\"187.467086\" y=\"116.688351\" style=\"fill: #1f77b4; stroke: #1f77b4\"/>\n",
       "     <use xlink:href=\"#m3d8c0f3ecb\" x=\"120.341734\" y=\"63.985945\" style=\"fill: #1f77b4; stroke: #1f77b4\"/>\n",
       "     <use xlink:href=\"#m3d8c0f3ecb\" x=\"142.906654\" y=\"82.976977\" style=\"fill: #1f77b4; stroke: #1f77b4\"/>\n",
       "     <use xlink:href=\"#m3d8c0f3ecb\" x=\"121.080133\" y=\"88.178593\" style=\"fill: #1f77b4; stroke: #1f77b4\"/>\n",
       "     <use xlink:href=\"#m3d8c0f3ecb\" x=\"126.969698\" y=\"77.797723\" style=\"fill: #1f77b4; stroke: #1f77b4\"/>\n",
       "     <use xlink:href=\"#m3d8c0f3ecb\" x=\"138.184389\" y=\"69.957335\" style=\"fill: #1f77b4; stroke: #1f77b4\"/>\n",
       "     <use xlink:href=\"#m3d8c0f3ecb\" x=\"97.592279\" y=\"42.556315\" style=\"fill: #1f77b4; stroke: #1f77b4\"/>\n",
       "     <use xlink:href=\"#m3d8c0f3ecb\" x=\"170.572343\" y=\"114.487525\" style=\"fill: #1f77b4; stroke: #1f77b4\"/>\n",
       "     <use xlink:href=\"#m3d8c0f3ecb\" x=\"140.52795\" y=\"104.769898\" style=\"fill: #1f77b4; stroke: #1f77b4\"/>\n",
       "     <use xlink:href=\"#m3d8c0f3ecb\" x=\"71.369002\" y=\"23.400189\" style=\"fill: #1f77b4; stroke: #1f77b4\"/>\n",
       "     <use xlink:href=\"#m3d8c0f3ecb\" x=\"119.336489\" y=\"80.819217\" style=\"fill: #1f77b4; stroke: #1f77b4\"/>\n",
       "     <use xlink:href=\"#m3d8c0f3ecb\" x=\"136.342309\" y=\"81.92075\" style=\"fill: #1f77b4; stroke: #1f77b4\"/>\n",
       "     <use xlink:href=\"#m3d8c0f3ecb\" x=\"106.251541\" y=\"49.638232\" style=\"fill: #1f77b4; stroke: #1f77b4\"/>\n",
       "     <use xlink:href=\"#m3d8c0f3ecb\" x=\"151.356317\" y=\"94.019415\" style=\"fill: #1f77b4; stroke: #1f77b4\"/>\n",
       "     <use xlink:href=\"#m3d8c0f3ecb\" x=\"135.246131\" y=\"80.033847\" style=\"fill: #1f77b4; stroke: #1f77b4\"/>\n",
       "     <use xlink:href=\"#m3d8c0f3ecb\" x=\"115.171893\" y=\"59.90522\" style=\"fill: #1f77b4; stroke: #1f77b4\"/>\n",
       "     <use xlink:href=\"#m3d8c0f3ecb\" x=\"122.413949\" y=\"58.168929\" style=\"fill: #1f77b4; stroke: #1f77b4\"/>\n",
       "     <use xlink:href=\"#m3d8c0f3ecb\" x=\"144.921361\" y=\"80.660982\" style=\"fill: #1f77b4; stroke: #1f77b4\"/>\n",
       "     <use xlink:href=\"#m3d8c0f3ecb\" x=\"183.473045\" y=\"125.361777\" style=\"fill: #1f77b4; stroke: #1f77b4\"/>\n",
       "     <use xlink:href=\"#m3d8c0f3ecb\" x=\"139.260601\" y=\"83.743281\" style=\"fill: #1f77b4; stroke: #1f77b4\"/>\n",
       "     <use xlink:href=\"#m3d8c0f3ecb\" x=\"88.518187\" y=\"53.852379\" style=\"fill: #1f77b4; stroke: #1f77b4\"/>\n",
       "     <use xlink:href=\"#m3d8c0f3ecb\" x=\"175.494111\" y=\"104.197914\" style=\"fill: #1f77b4; stroke: #1f77b4\"/>\n",
       "     <use xlink:href=\"#m3d8c0f3ecb\" x=\"160.733995\" y=\"105.08183\" style=\"fill: #1f77b4; stroke: #1f77b4\"/>\n",
       "     <use xlink:href=\"#m3d8c0f3ecb\" x=\"57.942258\" y=\"25.42867\" style=\"fill: #1f77b4; stroke: #1f77b4\"/>\n",
       "     <use xlink:href=\"#m3d8c0f3ecb\" x=\"120.327072\" y=\"85.223222\" style=\"fill: #1f77b4; stroke: #1f77b4\"/>\n",
       "     <use xlink:href=\"#m3d8c0f3ecb\" x=\"108.010343\" y=\"70.255118\" style=\"fill: #1f77b4; stroke: #1f77b4\"/>\n",
       "     <use xlink:href=\"#m3d8c0f3ecb\" x=\"151.813769\" y=\"118.856302\" style=\"fill: #1f77b4; stroke: #1f77b4\"/>\n",
       "     <use xlink:href=\"#m3d8c0f3ecb\" x=\"97.127185\" y=\"45.576002\" style=\"fill: #1f77b4; stroke: #1f77b4\"/>\n",
       "     <use xlink:href=\"#m3d8c0f3ecb\" x=\"64.948764\" y=\"34.963431\" style=\"fill: #1f77b4; stroke: #1f77b4\"/>\n",
       "     <use xlink:href=\"#m3d8c0f3ecb\" x=\"127.761717\" y=\"76.925304\" style=\"fill: #1f77b4; stroke: #1f77b4\"/>\n",
       "     <use xlink:href=\"#m3d8c0f3ecb\" x=\"136.752344\" y=\"95.127779\" style=\"fill: #1f77b4; stroke: #1f77b4\"/>\n",
       "     <use xlink:href=\"#m3d8c0f3ecb\" x=\"156.623129\" y=\"109.386264\" style=\"fill: #1f77b4; stroke: #1f77b4\"/>\n",
       "     <use xlink:href=\"#m3d8c0f3ecb\" x=\"113.127328\" y=\"83.301979\" style=\"fill: #1f77b4; stroke: #1f77b4\"/>\n",
       "     <use xlink:href=\"#m3d8c0f3ecb\" x=\"121.522801\" y=\"86.075516\" style=\"fill: #1f77b4; stroke: #1f77b4\"/>\n",
       "     <use xlink:href=\"#m3d8c0f3ecb\" x=\"119.144581\" y=\"83.025104\" style=\"fill: #1f77b4; stroke: #1f77b4\"/>\n",
       "     <use xlink:href=\"#m3d8c0f3ecb\" x=\"126.101012\" y=\"75.889536\" style=\"fill: #1f77b4; stroke: #1f77b4\"/>\n",
       "     <use xlink:href=\"#m3d8c0f3ecb\" x=\"114.588366\" y=\"54.356519\" style=\"fill: #1f77b4; stroke: #1f77b4\"/>\n",
       "     <use xlink:href=\"#m3d8c0f3ecb\" x=\"117.168252\" y=\"71.578003\" style=\"fill: #1f77b4; stroke: #1f77b4\"/>\n",
       "     <use xlink:href=\"#m3d8c0f3ecb\" x=\"119.688356\" y=\"68.163672\" style=\"fill: #1f77b4; stroke: #1f77b4\"/>\n",
       "     <use xlink:href=\"#m3d8c0f3ecb\" x=\"123.816654\" y=\"75.076418\" style=\"fill: #1f77b4; stroke: #1f77b4\"/>\n",
       "     <use xlink:href=\"#m3d8c0f3ecb\" x=\"140.513\" y=\"70.805896\" style=\"fill: #1f77b4; stroke: #1f77b4\"/>\n",
       "     <use xlink:href=\"#m3d8c0f3ecb\" x=\"137.568329\" y=\"97.112995\" style=\"fill: #1f77b4; stroke: #1f77b4\"/>\n",
       "     <use xlink:href=\"#m3d8c0f3ecb\" x=\"115.533106\" y=\"70.975952\" style=\"fill: #1f77b4; stroke: #1f77b4\"/>\n",
       "     <use xlink:href=\"#m3d8c0f3ecb\" x=\"138.57263\" y=\"81.091317\" style=\"fill: #1f77b4; stroke: #1f77b4\"/>\n",
       "     <use xlink:href=\"#m3d8c0f3ecb\" x=\"120.066391\" y=\"73.291516\" style=\"fill: #1f77b4; stroke: #1f77b4\"/>\n",
       "     <use xlink:href=\"#m3d8c0f3ecb\" x=\"145.01355\" y=\"76.31319\" style=\"fill: #1f77b4; stroke: #1f77b4\"/>\n",
       "     <use xlink:href=\"#m3d8c0f3ecb\" x=\"149.241846\" y=\"77.413293\" style=\"fill: #1f77b4; stroke: #1f77b4\"/>\n",
       "     <use xlink:href=\"#m3d8c0f3ecb\" x=\"152.91174\" y=\"109.860511\" style=\"fill: #1f77b4; stroke: #1f77b4\"/>\n",
       "     <use xlink:href=\"#m3d8c0f3ecb\" x=\"123.215617\" y=\"45.891388\" style=\"fill: #1f77b4; stroke: #1f77b4\"/>\n",
       "     <use xlink:href=\"#m3d8c0f3ecb\" x=\"105.395219\" y=\"56.448403\" style=\"fill: #1f77b4; stroke: #1f77b4\"/>\n",
       "     <use xlink:href=\"#m3d8c0f3ecb\" x=\"151.087805\" y=\"104.225297\" style=\"fill: #1f77b4; stroke: #1f77b4\"/>\n",
       "     <use xlink:href=\"#m3d8c0f3ecb\" x=\"65.945948\" y=\"33.342613\" style=\"fill: #1f77b4; stroke: #1f77b4\"/>\n",
       "     <use xlink:href=\"#m3d8c0f3ecb\" x=\"115.235233\" y=\"69.296431\" style=\"fill: #1f77b4; stroke: #1f77b4\"/>\n",
       "     <use xlink:href=\"#m3d8c0f3ecb\" x=\"107.580613\" y=\"61.787662\" style=\"fill: #1f77b4; stroke: #1f77b4\"/>\n",
       "     <use xlink:href=\"#m3d8c0f3ecb\" x=\"168.619611\" y=\"112.32707\" style=\"fill: #1f77b4; stroke: #1f77b4\"/>\n",
       "     <use xlink:href=\"#m3d8c0f3ecb\" x=\"157.95979\" y=\"114.273577\" style=\"fill: #1f77b4; stroke: #1f77b4\"/>\n",
       "     <use xlink:href=\"#m3d8c0f3ecb\" x=\"150.86402\" y=\"92.933838\" style=\"fill: #1f77b4; stroke: #1f77b4\"/>\n",
       "     <use xlink:href=\"#m3d8c0f3ecb\" x=\"174.572271\" y=\"98.094518\" style=\"fill: #1f77b4; stroke: #1f77b4\"/>\n",
       "     <use xlink:href=\"#m3d8c0f3ecb\" x=\"170.341261\" y=\"107.196751\" style=\"fill: #1f77b4; stroke: #1f77b4\"/>\n",
       "     <use xlink:href=\"#m3d8c0f3ecb\" x=\"142.389186\" y=\"93.110705\" style=\"fill: #1f77b4; stroke: #1f77b4\"/>\n",
       "     <use xlink:href=\"#m3d8c0f3ecb\" x=\"128.962647\" y=\"77.378253\" style=\"fill: #1f77b4; stroke: #1f77b4\"/>\n",
       "     <use xlink:href=\"#m3d8c0f3ecb\" x=\"153.739468\" y=\"99.588365\" style=\"fill: #1f77b4; stroke: #1f77b4\"/>\n",
       "     <use xlink:href=\"#m3d8c0f3ecb\" x=\"141.746284\" y=\"103.831552\" style=\"fill: #1f77b4; stroke: #1f77b4\"/>\n",
       "     <use xlink:href=\"#m3d8c0f3ecb\" x=\"126.8629\" y=\"73.905369\" style=\"fill: #1f77b4; stroke: #1f77b4\"/>\n",
       "     <use xlink:href=\"#m3d8c0f3ecb\" x=\"117.779022\" y=\"56.15166\" style=\"fill: #1f77b4; stroke: #1f77b4\"/>\n",
       "     <use xlink:href=\"#m3d8c0f3ecb\" x=\"144.379235\" y=\"76.679801\" style=\"fill: #1f77b4; stroke: #1f77b4\"/>\n",
       "     <use xlink:href=\"#m3d8c0f3ecb\" x=\"162.703473\" y=\"114.553861\" style=\"fill: #1f77b4; stroke: #1f77b4\"/>\n",
       "     <use xlink:href=\"#m3d8c0f3ecb\" x=\"124.252185\" y=\"90.631308\" style=\"fill: #1f77b4; stroke: #1f77b4\"/>\n",
       "     <use xlink:href=\"#m3d8c0f3ecb\" x=\"128.296138\" y=\"66.907808\" style=\"fill: #1f77b4; stroke: #1f77b4\"/>\n",
       "     <use xlink:href=\"#m3d8c0f3ecb\" x=\"136.700259\" y=\"70.205764\" style=\"fill: #1f77b4; stroke: #1f77b4\"/>\n",
       "     <use xlink:href=\"#m3d8c0f3ecb\" x=\"140.47303\" y=\"87.658271\" style=\"fill: #1f77b4; stroke: #1f77b4\"/>\n",
       "     <use xlink:href=\"#m3d8c0f3ecb\" x=\"114.049608\" y=\"69.817729\" style=\"fill: #1f77b4; stroke: #1f77b4\"/>\n",
       "     <use xlink:href=\"#m3d8c0f3ecb\" x=\"151.912669\" y=\"81.432205\" style=\"fill: #1f77b4; stroke: #1f77b4\"/>\n",
       "     <use xlink:href=\"#m3d8c0f3ecb\" x=\"191.865528\" y=\"116.912985\" style=\"fill: #1f77b4; stroke: #1f77b4\"/>\n",
       "     <use xlink:href=\"#m3d8c0f3ecb\" x=\"142.119395\" y=\"80.557311\" style=\"fill: #1f77b4; stroke: #1f77b4\"/>\n",
       "     <use xlink:href=\"#m3d8c0f3ecb\" x=\"127.670237\" y=\"74.392761\" style=\"fill: #1f77b4; stroke: #1f77b4\"/>\n",
       "     <use xlink:href=\"#m3d8c0f3ecb\" x=\"146.758614\" y=\"95.222264\" style=\"fill: #1f77b4; stroke: #1f77b4\"/>\n",
       "     <use xlink:href=\"#m3d8c0f3ecb\" x=\"142.817485\" y=\"88.544797\" style=\"fill: #1f77b4; stroke: #1f77b4\"/>\n",
       "     <use xlink:href=\"#m3d8c0f3ecb\" x=\"104.229179\" y=\"53.037687\" style=\"fill: #1f77b4; stroke: #1f77b4\"/>\n",
       "     <use xlink:href=\"#m3d8c0f3ecb\" x=\"138.983118\" y=\"92.632963\" style=\"fill: #1f77b4; stroke: #1f77b4\"/>\n",
       "     <use xlink:href=\"#m3d8c0f3ecb\" x=\"165.805527\" y=\"110.534918\" style=\"fill: #1f77b4; stroke: #1f77b4\"/>\n",
       "     <use xlink:href=\"#m3d8c0f3ecb\" x=\"166.436091\" y=\"91.533197\" style=\"fill: #1f77b4; stroke: #1f77b4\"/>\n",
       "     <use xlink:href=\"#m3d8c0f3ecb\" x=\"162.420294\" y=\"95.378917\" style=\"fill: #1f77b4; stroke: #1f77b4\"/>\n",
       "     <use xlink:href=\"#m3d8c0f3ecb\" x=\"107.110926\" y=\"62.626861\" style=\"fill: #1f77b4; stroke: #1f77b4\"/>\n",
       "     <use xlink:href=\"#m3d8c0f3ecb\" x=\"83.265728\" y=\"37.569493\" style=\"fill: #1f77b4; stroke: #1f77b4\"/>\n",
       "     <use xlink:href=\"#m3d8c0f3ecb\" x=\"143.245799\" y=\"77.081679\" style=\"fill: #1f77b4; stroke: #1f77b4\"/>\n",
       "     <use xlink:href=\"#m3d8c0f3ecb\" x=\"136.016537\" y=\"92.08311\" style=\"fill: #1f77b4; stroke: #1f77b4\"/>\n",
       "     <use xlink:href=\"#m3d8c0f3ecb\" x=\"124.59479\" y=\"70.084297\" style=\"fill: #1f77b4; stroke: #1f77b4\"/>\n",
       "     <use xlink:href=\"#m3d8c0f3ecb\" x=\"170.470872\" y=\"107.020826\" style=\"fill: #1f77b4; stroke: #1f77b4\"/>\n",
       "     <use xlink:href=\"#m3d8c0f3ecb\" x=\"132.372356\" y=\"86.930944\" style=\"fill: #1f77b4; stroke: #1f77b4\"/>\n",
       "     <use xlink:href=\"#m3d8c0f3ecb\" x=\"134.527783\" y=\"63.36886\" style=\"fill: #1f77b4; stroke: #1f77b4\"/>\n",
       "     <use xlink:href=\"#m3d8c0f3ecb\" x=\"108.594649\" y=\"59.533115\" style=\"fill: #1f77b4; stroke: #1f77b4\"/>\n",
       "     <use xlink:href=\"#m3d8c0f3ecb\" x=\"153.954522\" y=\"89.219623\" style=\"fill: #1f77b4; stroke: #1f77b4\"/>\n",
       "     <use xlink:href=\"#m3d8c0f3ecb\" x=\"166.135454\" y=\"86.777927\" style=\"fill: #1f77b4; stroke: #1f77b4\"/>\n",
       "     <use xlink:href=\"#m3d8c0f3ecb\" x=\"135.718875\" y=\"82.415665\" style=\"fill: #1f77b4; stroke: #1f77b4\"/>\n",
       "     <use xlink:href=\"#m3d8c0f3ecb\" x=\"156.243148\" y=\"89.067326\" style=\"fill: #1f77b4; stroke: #1f77b4\"/>\n",
       "     <use xlink:href=\"#m3d8c0f3ecb\" x=\"142.593219\" y=\"86.852359\" style=\"fill: #1f77b4; stroke: #1f77b4\"/>\n",
       "     <use xlink:href=\"#m3d8c0f3ecb\" x=\"135.736284\" y=\"78.798492\" style=\"fill: #1f77b4; stroke: #1f77b4\"/>\n",
       "     <use xlink:href=\"#m3d8c0f3ecb\" x=\"124.475029\" y=\"70.070511\" style=\"fill: #1f77b4; stroke: #1f77b4\"/>\n",
       "     <use xlink:href=\"#m3d8c0f3ecb\" x=\"150.864403\" y=\"105.181408\" style=\"fill: #1f77b4; stroke: #1f77b4\"/>\n",
       "     <use xlink:href=\"#m3d8c0f3ecb\" x=\"110.13782\" y=\"75.980519\" style=\"fill: #1f77b4; stroke: #1f77b4\"/>\n",
       "     <use xlink:href=\"#m3d8c0f3ecb\" x=\"106.195791\" y=\"65.871516\" style=\"fill: #1f77b4; stroke: #1f77b4\"/>\n",
       "     <use xlink:href=\"#m3d8c0f3ecb\" x=\"123.116371\" y=\"66.507402\" style=\"fill: #1f77b4; stroke: #1f77b4\"/>\n",
       "     <use xlink:href=\"#m3d8c0f3ecb\" x=\"148.366459\" y=\"103.337809\" style=\"fill: #1f77b4; stroke: #1f77b4\"/>\n",
       "     <use xlink:href=\"#m3d8c0f3ecb\" x=\"189.516624\" y=\"113.91781\" style=\"fill: #1f77b4; stroke: #1f77b4\"/>\n",
       "     <use xlink:href=\"#m3d8c0f3ecb\" x=\"139.86932\" y=\"74.870443\" style=\"fill: #1f77b4; stroke: #1f77b4\"/>\n",
       "     <use xlink:href=\"#m3d8c0f3ecb\" x=\"90.071612\" y=\"51.094699\" style=\"fill: #1f77b4; stroke: #1f77b4\"/>\n",
       "     <use xlink:href=\"#m3d8c0f3ecb\" x=\"140.964114\" y=\"84.592536\" style=\"fill: #1f77b4; stroke: #1f77b4\"/>\n",
       "     <use xlink:href=\"#m3d8c0f3ecb\" x=\"123.92517\" y=\"66.698668\" style=\"fill: #1f77b4; stroke: #1f77b4\"/>\n",
       "     <use xlink:href=\"#m3d8c0f3ecb\" x=\"136.356029\" y=\"92.054311\" style=\"fill: #1f77b4; stroke: #1f77b4\"/>\n",
       "     <use xlink:href=\"#m3d8c0f3ecb\" x=\"119.724588\" y=\"50.447024\" style=\"fill: #1f77b4; stroke: #1f77b4\"/>\n",
       "     <use xlink:href=\"#m3d8c0f3ecb\" x=\"128.864012\" y=\"71.044654\" style=\"fill: #1f77b4; stroke: #1f77b4\"/>\n",
       "     <use xlink:href=\"#m3d8c0f3ecb\" x=\"124.866972\" y=\"68.559101\" style=\"fill: #1f77b4; stroke: #1f77b4\"/>\n",
       "     <use xlink:href=\"#m3d8c0f3ecb\" x=\"163.247895\" y=\"97.045153\" style=\"fill: #1f77b4; stroke: #1f77b4\"/>\n",
       "     <use xlink:href=\"#m3d8c0f3ecb\" x=\"150.941224\" y=\"76.874898\" style=\"fill: #1f77b4; stroke: #1f77b4\"/>\n",
       "     <use xlink:href=\"#m3d8c0f3ecb\" x=\"130.132036\" y=\"82.7682\" style=\"fill: #1f77b4; stroke: #1f77b4\"/>\n",
       "     <use xlink:href=\"#m3d8c0f3ecb\" x=\"200.01782\" y=\"121.836045\" style=\"fill: #1f77b4; stroke: #1f77b4\"/>\n",
       "     <use xlink:href=\"#m3d8c0f3ecb\" x=\"151.795298\" y=\"87.234565\" style=\"fill: #1f77b4; stroke: #1f77b4\"/>\n",
       "     <use xlink:href=\"#m3d8c0f3ecb\" x=\"94.19968\" y=\"60.998515\" style=\"fill: #1f77b4; stroke: #1f77b4\"/>\n",
       "     <use xlink:href=\"#m3d8c0f3ecb\" x=\"113.016057\" y=\"67.893208\" style=\"fill: #1f77b4; stroke: #1f77b4\"/>\n",
       "     <use xlink:href=\"#m3d8c0f3ecb\" x=\"138.079181\" y=\"77.676273\" style=\"fill: #1f77b4; stroke: #1f77b4\"/>\n",
       "     <use xlink:href=\"#m3d8c0f3ecb\" x=\"137.713211\" y=\"80.917106\" style=\"fill: #1f77b4; stroke: #1f77b4\"/>\n",
       "     <use xlink:href=\"#m3d8c0f3ecb\" x=\"111.006891\" y=\"63.590523\" style=\"fill: #1f77b4; stroke: #1f77b4\"/>\n",
       "     <use xlink:href=\"#m3d8c0f3ecb\" x=\"129.22216\" y=\"82.097754\" style=\"fill: #1f77b4; stroke: #1f77b4\"/>\n",
       "     <use xlink:href=\"#m3d8c0f3ecb\" x=\"144.391477\" y=\"72.111343\" style=\"fill: #1f77b4; stroke: #1f77b4\"/>\n",
       "     <use xlink:href=\"#m3d8c0f3ecb\" x=\"131.314883\" y=\"71.60166\" style=\"fill: #1f77b4; stroke: #1f77b4\"/>\n",
       "     <use xlink:href=\"#m3d8c0f3ecb\" x=\"139.074428\" y=\"79.285807\" style=\"fill: #1f77b4; stroke: #1f77b4\"/>\n",
       "     <use xlink:href=\"#m3d8c0f3ecb\" x=\"157.647845\" y=\"90.229245\" style=\"fill: #1f77b4; stroke: #1f77b4\"/>\n",
       "     <use xlink:href=\"#m3d8c0f3ecb\" x=\"153.431813\" y=\"87.712371\" style=\"fill: #1f77b4; stroke: #1f77b4\"/>\n",
       "     <use xlink:href=\"#m3d8c0f3ecb\" x=\"99.782285\" y=\"52.651067\" style=\"fill: #1f77b4; stroke: #1f77b4\"/>\n",
       "     <use xlink:href=\"#m3d8c0f3ecb\" x=\"107.674452\" y=\"49.873653\" style=\"fill: #1f77b4; stroke: #1f77b4\"/>\n",
       "     <use xlink:href=\"#m3d8c0f3ecb\" x=\"121.598917\" y=\"89.774761\" style=\"fill: #1f77b4; stroke: #1f77b4\"/>\n",
       "     <use xlink:href=\"#m3d8c0f3ecb\" x=\"156.977591\" y=\"87.144462\" style=\"fill: #1f77b4; stroke: #1f77b4\"/>\n",
       "     <use xlink:href=\"#m3d8c0f3ecb\" x=\"170.776915\" y=\"118.809886\" style=\"fill: #1f77b4; stroke: #1f77b4\"/>\n",
       "     <use xlink:href=\"#m3d8c0f3ecb\" x=\"125.597586\" y=\"99.429213\" style=\"fill: #1f77b4; stroke: #1f77b4\"/>\n",
       "     <use xlink:href=\"#m3d8c0f3ecb\" x=\"133.799815\" y=\"81.12875\" style=\"fill: #1f77b4; stroke: #1f77b4\"/>\n",
       "     <use xlink:href=\"#m3d8c0f3ecb\" x=\"126.678437\" y=\"63.855439\" style=\"fill: #1f77b4; stroke: #1f77b4\"/>\n",
       "     <use xlink:href=\"#m3d8c0f3ecb\" x=\"170.915766\" y=\"101.225334\" style=\"fill: #1f77b4; stroke: #1f77b4\"/>\n",
       "     <use xlink:href=\"#m3d8c0f3ecb\" x=\"148.048499\" y=\"60.449521\" style=\"fill: #1f77b4; stroke: #1f77b4\"/>\n",
       "     <use xlink:href=\"#m3d8c0f3ecb\" x=\"106.212699\" y=\"78.357349\" style=\"fill: #1f77b4; stroke: #1f77b4\"/>\n",
       "     <use xlink:href=\"#m3d8c0f3ecb\" x=\"148.965919\" y=\"87.255413\" style=\"fill: #1f77b4; stroke: #1f77b4\"/>\n",
       "     <use xlink:href=\"#m3d8c0f3ecb\" x=\"135.115149\" y=\"62.394578\" style=\"fill: #1f77b4; stroke: #1f77b4\"/>\n",
       "     <use xlink:href=\"#m3d8c0f3ecb\" x=\"163.01341\" y=\"98.18133\" style=\"fill: #1f77b4; stroke: #1f77b4\"/>\n",
       "     <use xlink:href=\"#m3d8c0f3ecb\" x=\"189.652168\" y=\"116.839171\" style=\"fill: #1f77b4; stroke: #1f77b4\"/>\n",
       "     <use xlink:href=\"#m3d8c0f3ecb\" x=\"97.201568\" y=\"49.917839\" style=\"fill: #1f77b4; stroke: #1f77b4\"/>\n",
       "     <use xlink:href=\"#m3d8c0f3ecb\" x=\"147.990946\" y=\"88.448697\" style=\"fill: #1f77b4; stroke: #1f77b4\"/>\n",
       "     <use xlink:href=\"#m3d8c0f3ecb\" x=\"145.037997\" y=\"81.423837\" style=\"fill: #1f77b4; stroke: #1f77b4\"/>\n",
       "     <use xlink:href=\"#m3d8c0f3ecb\" x=\"97.421908\" y=\"61.105516\" style=\"fill: #1f77b4; stroke: #1f77b4\"/>\n",
       "     <use xlink:href=\"#m3d8c0f3ecb\" x=\"138.358803\" y=\"92.506209\" style=\"fill: #1f77b4; stroke: #1f77b4\"/>\n",
       "     <use xlink:href=\"#m3d8c0f3ecb\" x=\"160.31251\" y=\"82.522884\" style=\"fill: #1f77b4; stroke: #1f77b4\"/>\n",
       "     <use xlink:href=\"#m3d8c0f3ecb\" x=\"114.67332\" y=\"71.252483\" style=\"fill: #1f77b4; stroke: #1f77b4\"/>\n",
       "     <use xlink:href=\"#m3d8c0f3ecb\" x=\"120.319856\" y=\"78.958358\" style=\"fill: #1f77b4; stroke: #1f77b4\"/>\n",
       "     <use xlink:href=\"#m3d8c0f3ecb\" x=\"141.416145\" y=\"75.843468\" style=\"fill: #1f77b4; stroke: #1f77b4\"/>\n",
       "     <use xlink:href=\"#m3d8c0f3ecb\" x=\"162.165596\" y=\"108.053855\" style=\"fill: #1f77b4; stroke: #1f77b4\"/>\n",
       "     <use xlink:href=\"#m3d8c0f3ecb\" x=\"125.734822\" y=\"70.246835\" style=\"fill: #1f77b4; stroke: #1f77b4\"/>\n",
       "     <use xlink:href=\"#m3d8c0f3ecb\" x=\"131.974152\" y=\"67.259385\" style=\"fill: #1f77b4; stroke: #1f77b4\"/>\n",
       "     <use xlink:href=\"#m3d8c0f3ecb\" x=\"144.184101\" y=\"93.233578\" style=\"fill: #1f77b4; stroke: #1f77b4\"/>\n",
       "     <use xlink:href=\"#m3d8c0f3ecb\" x=\"148.036804\" y=\"82.629595\" style=\"fill: #1f77b4; stroke: #1f77b4\"/>\n",
       "     <use xlink:href=\"#m3d8c0f3ecb\" x=\"100.264905\" y=\"59.419617\" style=\"fill: #1f77b4; stroke: #1f77b4\"/>\n",
       "     <use xlink:href=\"#m3d8c0f3ecb\" x=\"157.670683\" y=\"96.932791\" style=\"fill: #1f77b4; stroke: #1f77b4\"/>\n",
       "     <use xlink:href=\"#m3d8c0f3ecb\" x=\"123.359612\" y=\"57.618141\" style=\"fill: #1f77b4; stroke: #1f77b4\"/>\n",
       "     <use xlink:href=\"#m3d8c0f3ecb\" x=\"150.830423\" y=\"93.538215\" style=\"fill: #1f77b4; stroke: #1f77b4\"/>\n",
       "     <use xlink:href=\"#m3d8c0f3ecb\" x=\"144.671901\" y=\"72.319033\" style=\"fill: #1f77b4; stroke: #1f77b4\"/>\n",
       "     <use xlink:href=\"#m3d8c0f3ecb\" x=\"156.190603\" y=\"103.815438\" style=\"fill: #1f77b4; stroke: #1f77b4\"/>\n",
       "     <use xlink:href=\"#m3d8c0f3ecb\" x=\"82.355722\" y=\"40.668971\" style=\"fill: #1f77b4; stroke: #1f77b4\"/>\n",
       "     <use xlink:href=\"#m3d8c0f3ecb\" x=\"135.343373\" y=\"89.912606\" style=\"fill: #1f77b4; stroke: #1f77b4\"/>\n",
       "     <use xlink:href=\"#m3d8c0f3ecb\" x=\"147.170661\" y=\"83.990271\" style=\"fill: #1f77b4; stroke: #1f77b4\"/>\n",
       "     <use xlink:href=\"#m3d8c0f3ecb\" x=\"188.508998\" y=\"106.623294\" style=\"fill: #1f77b4; stroke: #1f77b4\"/>\n",
       "     <use xlink:href=\"#m3d8c0f3ecb\" x=\"97.839882\" y=\"62.75389\" style=\"fill: #1f77b4; stroke: #1f77b4\"/>\n",
       "     <use xlink:href=\"#m3d8c0f3ecb\" x=\"99.294269\" y=\"46.025764\" style=\"fill: #1f77b4; stroke: #1f77b4\"/>\n",
       "     <use xlink:href=\"#m3d8c0f3ecb\" x=\"147.690291\" y=\"93.175556\" style=\"fill: #1f77b4; stroke: #1f77b4\"/>\n",
       "     <use xlink:href=\"#m3d8c0f3ecb\" x=\"131.267468\" y=\"90.237225\" style=\"fill: #1f77b4; stroke: #1f77b4\"/>\n",
       "     <use xlink:href=\"#m3d8c0f3ecb\" x=\"148.391264\" y=\"68.202323\" style=\"fill: #1f77b4; stroke: #1f77b4\"/>\n",
       "     <use xlink:href=\"#m3d8c0f3ecb\" x=\"147.268772\" y=\"96.228015\" style=\"fill: #1f77b4; stroke: #1f77b4\"/>\n",
       "     <use xlink:href=\"#m3d8c0f3ecb\" x=\"142.696084\" y=\"90.339987\" style=\"fill: #1f77b4; stroke: #1f77b4\"/>\n",
       "     <use xlink:href=\"#m3d8c0f3ecb\" x=\"136.506221\" y=\"97.643905\" style=\"fill: #1f77b4; stroke: #1f77b4\"/>\n",
       "     <use xlink:href=\"#m3d8c0f3ecb\" x=\"116.19901\" y=\"75.765025\" style=\"fill: #1f77b4; stroke: #1f77b4\"/>\n",
       "     <use xlink:href=\"#m3d8c0f3ecb\" x=\"137.768493\" y=\"77.813198\" style=\"fill: #1f77b4; stroke: #1f77b4\"/>\n",
       "     <use xlink:href=\"#m3d8c0f3ecb\" x=\"139.928384\" y=\"82.770473\" style=\"fill: #1f77b4; stroke: #1f77b4\"/>\n",
       "     <use xlink:href=\"#m3d8c0f3ecb\" x=\"149.397012\" y=\"110.125487\" style=\"fill: #1f77b4; stroke: #1f77b4\"/>\n",
       "     <use xlink:href=\"#m3d8c0f3ecb\" x=\"124.146605\" y=\"68.163672\" style=\"fill: #1f77b4; stroke: #1f77b4\"/>\n",
       "     <use xlink:href=\"#m3d8c0f3ecb\" x=\"121.250187\" y=\"76.677983\" style=\"fill: #1f77b4; stroke: #1f77b4\"/>\n",
       "     <use xlink:href=\"#m3d8c0f3ecb\" x=\"88.884214\" y=\"65.404219\" style=\"fill: #1f77b4; stroke: #1f77b4\"/>\n",
       "     <use xlink:href=\"#m3d8c0f3ecb\" x=\"203.648605\" y=\"129.238627\" style=\"fill: #1f77b4; stroke: #1f77b4\"/>\n",
       "     <use xlink:href=\"#m3d8c0f3ecb\" x=\"125.281166\" y=\"81.107918\" style=\"fill: #1f77b4; stroke: #1f77b4\"/>\n",
       "     <use xlink:href=\"#m3d8c0f3ecb\" x=\"92.512232\" y=\"55.557469\" style=\"fill: #1f77b4; stroke: #1f77b4\"/>\n",
       "     <use xlink:href=\"#m3d8c0f3ecb\" x=\"108.855177\" y=\"46.919619\" style=\"fill: #1f77b4; stroke: #1f77b4\"/>\n",
       "     <use xlink:href=\"#m3d8c0f3ecb\" x=\"141.730164\" y=\"76.910771\" style=\"fill: #1f77b4; stroke: #1f77b4\"/>\n",
       "     <use xlink:href=\"#m3d8c0f3ecb\" x=\"118.429606\" y=\"56.938178\" style=\"fill: #1f77b4; stroke: #1f77b4\"/>\n",
       "     <use xlink:href=\"#m3d8c0f3ecb\" x=\"153.613769\" y=\"93.234117\" style=\"fill: #1f77b4; stroke: #1f77b4\"/>\n",
       "     <use xlink:href=\"#m3d8c0f3ecb\" x=\"149.891712\" y=\"75.521875\" style=\"fill: #1f77b4; stroke: #1f77b4\"/>\n",
       "     <use xlink:href=\"#m3d8c0f3ecb\" x=\"118.750137\" y=\"67.246896\" style=\"fill: #1f77b4; stroke: #1f77b4\"/>\n",
       "     <use xlink:href=\"#m3d8c0f3ecb\" x=\"146.310949\" y=\"95.035887\" style=\"fill: #1f77b4; stroke: #1f77b4\"/>\n",
       "     <use xlink:href=\"#m3d8c0f3ecb\" x=\"113.923199\" y=\"60.910999\" style=\"fill: #1f77b4; stroke: #1f77b4\"/>\n",
       "     <use xlink:href=\"#m3d8c0f3ecb\" x=\"155.017949\" y=\"80.060017\" style=\"fill: #1f77b4; stroke: #1f77b4\"/>\n",
       "     <use xlink:href=\"#m3d8c0f3ecb\" x=\"119.787723\" y=\"43.842546\" style=\"fill: #1f77b4; stroke: #1f77b4\"/>\n",
       "     <use xlink:href=\"#m3d8c0f3ecb\" x=\"107.162283\" y=\"47.249736\" style=\"fill: #1f77b4; stroke: #1f77b4\"/>\n",
       "     <use xlink:href=\"#m3d8c0f3ecb\" x=\"155.250137\" y=\"110.10719\" style=\"fill: #1f77b4; stroke: #1f77b4\"/>\n",
       "     <use xlink:href=\"#m3d8c0f3ecb\" x=\"154.203493\" y=\"76.944621\" style=\"fill: #1f77b4; stroke: #1f77b4\"/>\n",
       "     <use xlink:href=\"#m3d8c0f3ecb\" x=\"138.794618\" y=\"83.926816\" style=\"fill: #1f77b4; stroke: #1f77b4\"/>\n",
       "     <use xlink:href=\"#m3d8c0f3ecb\" x=\"133.261168\" y=\"79.212188\" style=\"fill: #1f77b4; stroke: #1f77b4\"/>\n",
       "     <use xlink:href=\"#m3d8c0f3ecb\" x=\"172.521675\" y=\"100.093555\" style=\"fill: #1f77b4; stroke: #1f77b4\"/>\n",
       "     <use xlink:href=\"#m3d8c0f3ecb\" x=\"81.368709\" y=\"28.096966\" style=\"fill: #1f77b4; stroke: #1f77b4\"/>\n",
       "     <use xlink:href=\"#m3d8c0f3ecb\" x=\"129.346547\" y=\"80.384106\" style=\"fill: #1f77b4; stroke: #1f77b4\"/>\n",
       "     <use xlink:href=\"#m3d8c0f3ecb\" x=\"150.611253\" y=\"99.808328\" style=\"fill: #1f77b4; stroke: #1f77b4\"/>\n",
       "     <use xlink:href=\"#m3d8c0f3ecb\" x=\"165.85047\" y=\"96.472101\" style=\"fill: #1f77b4; stroke: #1f77b4\"/>\n",
       "     <use xlink:href=\"#m3d8c0f3ecb\" x=\"116.532522\" y=\"80.769464\" style=\"fill: #1f77b4; stroke: #1f77b4\"/>\n",
       "     <use xlink:href=\"#m3d8c0f3ecb\" x=\"148.076545\" y=\"93.252044\" style=\"fill: #1f77b4; stroke: #1f77b4\"/>\n",
       "     <use xlink:href=\"#m3d8c0f3ecb\" x=\"130.930702\" y=\"77.741406\" style=\"fill: #1f77b4; stroke: #1f77b4\"/>\n",
       "     <use xlink:href=\"#m3d8c0f3ecb\" x=\"86.408312\" y=\"33.810423\" style=\"fill: #1f77b4; stroke: #1f77b4\"/>\n",
       "     <use xlink:href=\"#m3d8c0f3ecb\" x=\"158.613504\" y=\"89.893707\" style=\"fill: #1f77b4; stroke: #1f77b4\"/>\n",
       "     <use xlink:href=\"#m3d8c0f3ecb\" x=\"111.192067\" y=\"60.095375\" style=\"fill: #1f77b4; stroke: #1f77b4\"/>\n",
       "     <use xlink:href=\"#m3d8c0f3ecb\" x=\"135.468015\" y=\"62.970544\" style=\"fill: #1f77b4; stroke: #1f77b4\"/>\n",
       "     <use xlink:href=\"#m3d8c0f3ecb\" x=\"133.577216\" y=\"89.487606\" style=\"fill: #1f77b4; stroke: #1f77b4\"/>\n",
       "     <use xlink:href=\"#m3d8c0f3ecb\" x=\"117.308695\" y=\"62.775785\" style=\"fill: #1f77b4; stroke: #1f77b4\"/>\n",
       "     <use xlink:href=\"#m3d8c0f3ecb\" x=\"136.428745\" y=\"70.740417\" style=\"fill: #1f77b4; stroke: #1f77b4\"/>\n",
       "     <use xlink:href=\"#m3d8c0f3ecb\" x=\"131.640814\" y=\"94.814377\" style=\"fill: #1f77b4; stroke: #1f77b4\"/>\n",
       "     <use xlink:href=\"#m3d8c0f3ecb\" x=\"82.131369\" y=\"32.936737\" style=\"fill: #1f77b4; stroke: #1f77b4\"/>\n",
       "     <use xlink:href=\"#m3d8c0f3ecb\" x=\"109.376851\" y=\"52.995187\" style=\"fill: #1f77b4; stroke: #1f77b4\"/>\n",
       "     <use xlink:href=\"#m3d8c0f3ecb\" x=\"113.175117\" y=\"55.039085\" style=\"fill: #1f77b4; stroke: #1f77b4\"/>\n",
       "     <use xlink:href=\"#m3d8c0f3ecb\" x=\"137.916715\" y=\"88.624434\" style=\"fill: #1f77b4; stroke: #1f77b4\"/>\n",
       "     <use xlink:href=\"#m3d8c0f3ecb\" x=\"106.315263\" y=\"67.25679\" style=\"fill: #1f77b4; stroke: #1f77b4\"/>\n",
       "     <use xlink:href=\"#m3d8c0f3ecb\" x=\"137.55388\" y=\"73.906622\" style=\"fill: #1f77b4; stroke: #1f77b4\"/>\n",
       "     <use xlink:href=\"#m3d8c0f3ecb\" x=\"106.929184\" y=\"48.754614\" style=\"fill: #1f77b4; stroke: #1f77b4\"/>\n",
       "     <use xlink:href=\"#m3d8c0f3ecb\" x=\"113.383358\" y=\"67.950526\" style=\"fill: #1f77b4; stroke: #1f77b4\"/>\n",
       "     <use xlink:href=\"#m3d8c0f3ecb\" x=\"184.503081\" y=\"114.352568\" style=\"fill: #1f77b4; stroke: #1f77b4\"/>\n",
       "     <use xlink:href=\"#m3d8c0f3ecb\" x=\"114.640294\" y=\"71.556592\" style=\"fill: #1f77b4; stroke: #1f77b4\"/>\n",
       "     <use xlink:href=\"#m3d8c0f3ecb\" x=\"125.816921\" y=\"43.963349\" style=\"fill: #1f77b4; stroke: #1f77b4\"/>\n",
       "     <use xlink:href=\"#m3d8c0f3ecb\" x=\"114.496242\" y=\"60.755486\" style=\"fill: #1f77b4; stroke: #1f77b4\"/>\n",
       "     <use xlink:href=\"#m3d8c0f3ecb\" x=\"154.975478\" y=\"94.565116\" style=\"fill: #1f77b4; stroke: #1f77b4\"/>\n",
       "     <use xlink:href=\"#m3d8c0f3ecb\" x=\"111.697974\" y=\"69.481726\" style=\"fill: #1f77b4; stroke: #1f77b4\"/>\n",
       "     <use xlink:href=\"#m3d8c0f3ecb\" x=\"169.843596\" y=\"111.091707\" style=\"fill: #1f77b4; stroke: #1f77b4\"/>\n",
       "     <use xlink:href=\"#m3d8c0f3ecb\" x=\"151.749287\" y=\"98.765115\" style=\"fill: #1f77b4; stroke: #1f77b4\"/>\n",
       "     <use xlink:href=\"#m3d8c0f3ecb\" x=\"153.832405\" y=\"86.249818\" style=\"fill: #1f77b4; stroke: #1f77b4\"/>\n",
       "     <use xlink:href=\"#m3d8c0f3ecb\" x=\"123.016665\" y=\"68.519669\" style=\"fill: #1f77b4; stroke: #1f77b4\"/>\n",
       "     <use xlink:href=\"#m3d8c0f3ecb\" x=\"113.280187\" y=\"67.541097\" style=\"fill: #1f77b4; stroke: #1f77b4\"/>\n",
       "     <use xlink:href=\"#m3d8c0f3ecb\" x=\"126.700236\" y=\"74.812716\" style=\"fill: #1f77b4; stroke: #1f77b4\"/>\n",
       "     <use xlink:href=\"#m3d8c0f3ecb\" x=\"86.805152\" y=\"42.605638\" style=\"fill: #1f77b4; stroke: #1f77b4\"/>\n",
       "     <use xlink:href=\"#m3d8c0f3ecb\" x=\"146.211052\" y=\"95.463883\" style=\"fill: #1f77b4; stroke: #1f77b4\"/>\n",
       "     <use xlink:href=\"#m3d8c0f3ecb\" x=\"127.842143\" y=\"63.64551\" style=\"fill: #1f77b4; stroke: #1f77b4\"/>\n",
       "     <use xlink:href=\"#m3d8c0f3ecb\" x=\"127.123805\" y=\"83.065032\" style=\"fill: #1f77b4; stroke: #1f77b4\"/>\n",
       "     <use xlink:href=\"#m3d8c0f3ecb\" x=\"82.426527\" y=\"43.566237\" style=\"fill: #1f77b4; stroke: #1f77b4\"/>\n",
       "     <use xlink:href=\"#m3d8c0f3ecb\" x=\"98.498487\" y=\"62.570674\" style=\"fill: #1f77b4; stroke: #1f77b4\"/>\n",
       "     <use xlink:href=\"#m3d8c0f3ecb\" x=\"87.309327\" y=\"42.594253\" style=\"fill: #1f77b4; stroke: #1f77b4\"/>\n",
       "     <use xlink:href=\"#m3d8c0f3ecb\" x=\"68.759539\" y=\"43.486866\" style=\"fill: #1f77b4; stroke: #1f77b4\"/>\n",
       "     <use xlink:href=\"#m3d8c0f3ecb\" x=\"131.805834\" y=\"93.283442\" style=\"fill: #1f77b4; stroke: #1f77b4\"/>\n",
       "     <use xlink:href=\"#m3d8c0f3ecb\" x=\"118.285186\" y=\"72.675767\" style=\"fill: #1f77b4; stroke: #1f77b4\"/>\n",
       "     <use xlink:href=\"#m3d8c0f3ecb\" x=\"77.143419\" y=\"41.672523\" style=\"fill: #1f77b4; stroke: #1f77b4\"/>\n",
       "     <use xlink:href=\"#m3d8c0f3ecb\" x=\"165.447525\" y=\"96.490549\" style=\"fill: #1f77b4; stroke: #1f77b4\"/>\n",
       "     <use xlink:href=\"#m3d8c0f3ecb\" x=\"113.37229\" y=\"47.361641\" style=\"fill: #1f77b4; stroke: #1f77b4\"/>\n",
       "     <use xlink:href=\"#m3d8c0f3ecb\" x=\"116.064933\" y=\"71.810622\" style=\"fill: #1f77b4; stroke: #1f77b4\"/>\n",
       "     <use xlink:href=\"#m3d8c0f3ecb\" x=\"119.577348\" y=\"90.034001\" style=\"fill: #1f77b4; stroke: #1f77b4\"/>\n",
       "     <use xlink:href=\"#m3d8c0f3ecb\" x=\"108.78079\" y=\"48.282037\" style=\"fill: #1f77b4; stroke: #1f77b4\"/>\n",
       "     <use xlink:href=\"#m3d8c0f3ecb\" x=\"82.747607\" y=\"25.514646\" style=\"fill: #1f77b4; stroke: #1f77b4\"/>\n",
       "     <use xlink:href=\"#m3d8c0f3ecb\" x=\"123.865834\" y=\"84.468147\" style=\"fill: #1f77b4; stroke: #1f77b4\"/>\n",
       "     <use xlink:href=\"#m3d8c0f3ecb\" x=\"108.579925\" y=\"66.903554\" style=\"fill: #1f77b4; stroke: #1f77b4\"/>\n",
       "     <use xlink:href=\"#m3d8c0f3ecb\" x=\"109.85016\" y=\"67.039721\" style=\"fill: #1f77b4; stroke: #1f77b4\"/>\n",
       "     <use xlink:href=\"#m3d8c0f3ecb\" x=\"129.509819\" y=\"77.755305\" style=\"fill: #1f77b4; stroke: #1f77b4\"/>\n",
       "     <use xlink:href=\"#m3d8c0f3ecb\" x=\"104.609423\" y=\"50.333695\" style=\"fill: #1f77b4; stroke: #1f77b4\"/>\n",
       "     <use xlink:href=\"#m3d8c0f3ecb\" x=\"145.394132\" y=\"84.053216\" style=\"fill: #1f77b4; stroke: #1f77b4\"/>\n",
       "     <use xlink:href=\"#m3d8c0f3ecb\" x=\"159.451306\" y=\"96.824015\" style=\"fill: #1f77b4; stroke: #1f77b4\"/>\n",
       "     <use xlink:href=\"#m3d8c0f3ecb\" x=\"114.034507\" y=\"81.22803\" style=\"fill: #1f77b4; stroke: #1f77b4\"/>\n",
       "     <use xlink:href=\"#m3d8c0f3ecb\" x=\"128.720006\" y=\"65.523461\" style=\"fill: #1f77b4; stroke: #1f77b4\"/>\n",
       "     <use xlink:href=\"#m3d8c0f3ecb\" x=\"125.224549\" y=\"99.39556\" style=\"fill: #1f77b4; stroke: #1f77b4\"/>\n",
       "     <use xlink:href=\"#m3d8c0f3ecb\" x=\"91.875244\" y=\"60.414884\" style=\"fill: #1f77b4; stroke: #1f77b4\"/>\n",
       "     <use xlink:href=\"#m3d8c0f3ecb\" x=\"140.303714\" y=\"98.489483\" style=\"fill: #1f77b4; stroke: #1f77b4\"/>\n",
       "     <use xlink:href=\"#m3d8c0f3ecb\" x=\"97.485106\" y=\"49.357911\" style=\"fill: #1f77b4; stroke: #1f77b4\"/>\n",
       "     <use xlink:href=\"#m3d8c0f3ecb\" x=\"163.689447\" y=\"100.490962\" style=\"fill: #1f77b4; stroke: #1f77b4\"/>\n",
       "     <use xlink:href=\"#m3d8c0f3ecb\" x=\"145.103227\" y=\"87.923376\" style=\"fill: #1f77b4; stroke: #1f77b4\"/>\n",
       "     <use xlink:href=\"#m3d8c0f3ecb\" x=\"84.391165\" y=\"40.313229\" style=\"fill: #1f77b4; stroke: #1f77b4\"/>\n",
       "     <use xlink:href=\"#m3d8c0f3ecb\" x=\"140.805099\" y=\"81.400341\" style=\"fill: #1f77b4; stroke: #1f77b4\"/>\n",
       "     <use xlink:href=\"#m3d8c0f3ecb\" x=\"115.937972\" y=\"63.985812\" style=\"fill: #1f77b4; stroke: #1f77b4\"/>\n",
       "     <use xlink:href=\"#m3d8c0f3ecb\" x=\"171.262998\" y=\"92.20656\" style=\"fill: #1f77b4; stroke: #1f77b4\"/>\n",
       "     <use xlink:href=\"#m3d8c0f3ecb\" x=\"92.892625\" y=\"49.127917\" style=\"fill: #1f77b4; stroke: #1f77b4\"/>\n",
       "     <use xlink:href=\"#m3d8c0f3ecb\" x=\"142.612488\" y=\"76.278503\" style=\"fill: #1f77b4; stroke: #1f77b4\"/>\n",
       "     <use xlink:href=\"#m3d8c0f3ecb\" x=\"144.26365\" y=\"94.578837\" style=\"fill: #1f77b4; stroke: #1f77b4\"/>\n",
       "     <use xlink:href=\"#m3d8c0f3ecb\" x=\"162.325378\" y=\"91.013287\" style=\"fill: #1f77b4; stroke: #1f77b4\"/>\n",
       "     <use xlink:href=\"#m3d8c0f3ecb\" x=\"164.866038\" y=\"95.07791\" style=\"fill: #1f77b4; stroke: #1f77b4\"/>\n",
       "     <use xlink:href=\"#m3d8c0f3ecb\" x=\"115.598921\" y=\"77.357256\" style=\"fill: #1f77b4; stroke: #1f77b4\"/>\n",
       "     <use xlink:href=\"#m3d8c0f3ecb\" x=\"178.253313\" y=\"97.989522\" style=\"fill: #1f77b4; stroke: #1f77b4\"/>\n",
       "     <use xlink:href=\"#m3d8c0f3ecb\" x=\"155.089361\" y=\"92.365673\" style=\"fill: #1f77b4; stroke: #1f77b4\"/>\n",
       "     <use xlink:href=\"#m3d8c0f3ecb\" x=\"143.987602\" y=\"86.152458\" style=\"fill: #1f77b4; stroke: #1f77b4\"/>\n",
       "     <use xlink:href=\"#m3d8c0f3ecb\" x=\"155.434877\" y=\"96.312773\" style=\"fill: #1f77b4; stroke: #1f77b4\"/>\n",
       "     <use xlink:href=\"#m3d8c0f3ecb\" x=\"128.423935\" y=\"81.86969\" style=\"fill: #1f77b4; stroke: #1f77b4\"/>\n",
       "     <use xlink:href=\"#m3d8c0f3ecb\" x=\"116.694737\" y=\"62.687084\" style=\"fill: #1f77b4; stroke: #1f77b4\"/>\n",
       "     <use xlink:href=\"#m3d8c0f3ecb\" x=\"129.071568\" y=\"68.128482\" style=\"fill: #1f77b4; stroke: #1f77b4\"/>\n",
       "     <use xlink:href=\"#m3d8c0f3ecb\" x=\"151.349071\" y=\"81.001484\" style=\"fill: #1f77b4; stroke: #1f77b4\"/>\n",
       "     <use xlink:href=\"#m3d8c0f3ecb\" x=\"155.115038\" y=\"98.505812\" style=\"fill: #1f77b4; stroke: #1f77b4\"/>\n",
       "     <use xlink:href=\"#m3d8c0f3ecb\" x=\"138.404265\" y=\"64.89296\" style=\"fill: #1f77b4; stroke: #1f77b4\"/>\n",
       "     <use xlink:href=\"#m3d8c0f3ecb\" x=\"144.665553\" y=\"89.68207\" style=\"fill: #1f77b4; stroke: #1f77b4\"/>\n",
       "     <use xlink:href=\"#m3d8c0f3ecb\" x=\"138.321339\" y=\"88.28493\" style=\"fill: #1f77b4; stroke: #1f77b4\"/>\n",
       "     <use xlink:href=\"#m3d8c0f3ecb\" x=\"133.080325\" y=\"73.476562\" style=\"fill: #1f77b4; stroke: #1f77b4\"/>\n",
       "     <use xlink:href=\"#m3d8c0f3ecb\" x=\"154.452119\" y=\"98.805357\" style=\"fill: #1f77b4; stroke: #1f77b4\"/>\n",
       "     <use xlink:href=\"#m3d8c0f3ecb\" x=\"123.406622\" y=\"63.626471\" style=\"fill: #1f77b4; stroke: #1f77b4\"/>\n",
       "     <use xlink:href=\"#m3d8c0f3ecb\" x=\"135.930366\" y=\"92.278639\" style=\"fill: #1f77b4; stroke: #1f77b4\"/>\n",
       "     <use xlink:href=\"#m3d8c0f3ecb\" x=\"154.448255\" y=\"89.762648\" style=\"fill: #1f77b4; stroke: #1f77b4\"/>\n",
       "     <use xlink:href=\"#m3d8c0f3ecb\" x=\"139.72794\" y=\"70.72112\" style=\"fill: #1f77b4; stroke: #1f77b4\"/>\n",
       "     <use xlink:href=\"#m3d8c0f3ecb\" x=\"180.314179\" y=\"96.189423\" style=\"fill: #1f77b4; stroke: #1f77b4\"/>\n",
       "     <use xlink:href=\"#m3d8c0f3ecb\" x=\"123.671296\" y=\"52.772064\" style=\"fill: #1f77b4; stroke: #1f77b4\"/>\n",
       "     <use xlink:href=\"#m3d8c0f3ecb\" x=\"118.144385\" y=\"61.094381\" style=\"fill: #1f77b4; stroke: #1f77b4\"/>\n",
       "     <use xlink:href=\"#m3d8c0f3ecb\" x=\"134.075181\" y=\"90.48033\" style=\"fill: #1f77b4; stroke: #1f77b4\"/>\n",
       "     <use xlink:href=\"#m3d8c0f3ecb\" x=\"128.959283\" y=\"62.370824\" style=\"fill: #1f77b4; stroke: #1f77b4\"/>\n",
       "     <use xlink:href=\"#m3d8c0f3ecb\" x=\"143.643646\" y=\"89.924272\" style=\"fill: #1f77b4; stroke: #1f77b4\"/>\n",
       "     <use xlink:href=\"#m3d8c0f3ecb\" x=\"120.629122\" y=\"63.764039\" style=\"fill: #1f77b4; stroke: #1f77b4\"/>\n",
       "     <use xlink:href=\"#m3d8c0f3ecb\" x=\"192.732051\" y=\"116.709904\" style=\"fill: #1f77b4; stroke: #1f77b4\"/>\n",
       "     <use xlink:href=\"#m3d8c0f3ecb\" x=\"162.960039\" y=\"97.968328\" style=\"fill: #1f77b4; stroke: #1f77b4\"/>\n",
       "     <use xlink:href=\"#m3d8c0f3ecb\" x=\"97.751804\" y=\"59.895747\" style=\"fill: #1f77b4; stroke: #1f77b4\"/>\n",
       "     <use xlink:href=\"#m3d8c0f3ecb\" x=\"146.006634\" y=\"91.725722\" style=\"fill: #1f77b4; stroke: #1f77b4\"/>\n",
       "     <use xlink:href=\"#m3d8c0f3ecb\" x=\"121.419034\" y=\"78.374836\" style=\"fill: #1f77b4; stroke: #1f77b4\"/>\n",
       "     <use xlink:href=\"#m3d8c0f3ecb\" x=\"154.774756\" y=\"88.675395\" style=\"fill: #1f77b4; stroke: #1f77b4\"/>\n",
       "     <use xlink:href=\"#m3d8c0f3ecb\" x=\"127.640497\" y=\"62.342836\" style=\"fill: #1f77b4; stroke: #1f77b4\"/>\n",
       "     <use xlink:href=\"#m3d8c0f3ecb\" x=\"145.921212\" y=\"96.636976\" style=\"fill: #1f77b4; stroke: #1f77b4\"/>\n",
       "     <use xlink:href=\"#m3d8c0f3ecb\" x=\"142.448597\" y=\"68.191305\" style=\"fill: #1f77b4; stroke: #1f77b4\"/>\n",
       "     <use xlink:href=\"#m3d8c0f3ecb\" x=\"150.067967\" y=\"88.900722\" style=\"fill: #1f77b4; stroke: #1f77b4\"/>\n",
       "     <use xlink:href=\"#m3d8c0f3ecb\" x=\"89.512473\" y=\"60.24779\" style=\"fill: #1f77b4; stroke: #1f77b4\"/>\n",
       "     <use xlink:href=\"#m3d8c0f3ecb\" x=\"139.680602\" y=\"65.615928\" style=\"fill: #1f77b4; stroke: #1f77b4\"/>\n",
       "     <use xlink:href=\"#m3d8c0f3ecb\" x=\"109.409893\" y=\"74.99593\" style=\"fill: #1f77b4; stroke: #1f77b4\"/>\n",
       "     <use xlink:href=\"#m3d8c0f3ecb\" x=\"170.363831\" y=\"107.699065\" style=\"fill: #1f77b4; stroke: #1f77b4\"/>\n",
       "     <use xlink:href=\"#m3d8c0f3ecb\" x=\"131.34956\" y=\"76.201585\" style=\"fill: #1f77b4; stroke: #1f77b4\"/>\n",
       "     <use xlink:href=\"#m3d8c0f3ecb\" x=\"112.704066\" y=\"65.002692\" style=\"fill: #1f77b4; stroke: #1f77b4\"/>\n",
       "     <use xlink:href=\"#m3d8c0f3ecb\" x=\"177.079926\" y=\"96.188257\" style=\"fill: #1f77b4; stroke: #1f77b4\"/>\n",
       "     <use xlink:href=\"#m3d8c0f3ecb\" x=\"152.507512\" y=\"89.059719\" style=\"fill: #1f77b4; stroke: #1f77b4\"/>\n",
       "     <use xlink:href=\"#m3d8c0f3ecb\" x=\"122.663351\" y=\"63.323176\" style=\"fill: #1f77b4; stroke: #1f77b4\"/>\n",
       "     <use xlink:href=\"#m3d8c0f3ecb\" x=\"37.81946\" y=\"14.342528\" style=\"fill: #1f77b4; stroke: #1f77b4\"/>\n",
       "     <use xlink:href=\"#m3d8c0f3ecb\" x=\"104.840761\" y=\"71.585434\" style=\"fill: #1f77b4; stroke: #1f77b4\"/>\n",
       "     <use xlink:href=\"#m3d8c0f3ecb\" x=\"141.961999\" y=\"67.967404\" style=\"fill: #1f77b4; stroke: #1f77b4\"/>\n",
       "     <use xlink:href=\"#m3d8c0f3ecb\" x=\"113.876421\" y=\"85.705472\" style=\"fill: #1f77b4; stroke: #1f77b4\"/>\n",
       "     <use xlink:href=\"#m3d8c0f3ecb\" x=\"176.44737\" y=\"106.136059\" style=\"fill: #1f77b4; stroke: #1f77b4\"/>\n",
       "     <use xlink:href=\"#m3d8c0f3ecb\" x=\"108.22663\" y=\"64.564523\" style=\"fill: #1f77b4; stroke: #1f77b4\"/>\n",
       "     <use xlink:href=\"#m3d8c0f3ecb\" x=\"111.313107\" y=\"69.393208\" style=\"fill: #1f77b4; stroke: #1f77b4\"/>\n",
       "     <use xlink:href=\"#m3d8c0f3ecb\" x=\"207.953644\" y=\"128.473103\" style=\"fill: #1f77b4; stroke: #1f77b4\"/>\n",
       "     <use xlink:href=\"#m3d8c0f3ecb\" x=\"155.023506\" y=\"80.191878\" style=\"fill: #1f77b4; stroke: #1f77b4\"/>\n",
       "     <use xlink:href=\"#m3d8c0f3ecb\" x=\"125.952897\" y=\"82.490766\" style=\"fill: #1f77b4; stroke: #1f77b4\"/>\n",
       "     <use xlink:href=\"#m3d8c0f3ecb\" x=\"127.634279\" y=\"77.16139\" style=\"fill: #1f77b4; stroke: #1f77b4\"/>\n",
       "     <use xlink:href=\"#m3d8c0f3ecb\" x=\"132.592493\" y=\"80.046515\" style=\"fill: #1f77b4; stroke: #1f77b4\"/>\n",
       "     <use xlink:href=\"#m3d8c0f3ecb\" x=\"125.1942\" y=\"80.641234\" style=\"fill: #1f77b4; stroke: #1f77b4\"/>\n",
       "     <use xlink:href=\"#m3d8c0f3ecb\" x=\"147.164875\" y=\"77.400201\" style=\"fill: #1f77b4; stroke: #1f77b4\"/>\n",
       "     <use xlink:href=\"#m3d8c0f3ecb\" x=\"83.218346\" y=\"37.190063\" style=\"fill: #1f77b4; stroke: #1f77b4\"/>\n",
       "     <use xlink:href=\"#m3d8c0f3ecb\" x=\"127.941065\" y=\"68.419981\" style=\"fill: #1f77b4; stroke: #1f77b4\"/>\n",
       "     <use xlink:href=\"#m3d8c0f3ecb\" x=\"144.974003\" y=\"74.620227\" style=\"fill: #1f77b4; stroke: #1f77b4\"/>\n",
       "     <use xlink:href=\"#m3d8c0f3ecb\" x=\"122.689823\" y=\"77.257322\" style=\"fill: #1f77b4; stroke: #1f77b4\"/>\n",
       "     <use xlink:href=\"#m3d8c0f3ecb\" x=\"118.083726\" y=\"62.235171\" style=\"fill: #1f77b4; stroke: #1f77b4\"/>\n",
       "     <use xlink:href=\"#m3d8c0f3ecb\" x=\"165.474691\" y=\"88.104941\" style=\"fill: #1f77b4; stroke: #1f77b4\"/>\n",
       "     <use xlink:href=\"#m3d8c0f3ecb\" x=\"128.846833\" y=\"71.059347\" style=\"fill: #1f77b4; stroke: #1f77b4\"/>\n",
       "     <use xlink:href=\"#m3d8c0f3ecb\" x=\"148.074974\" y=\"72.590192\" style=\"fill: #1f77b4; stroke: #1f77b4\"/>\n",
       "     <use xlink:href=\"#m3d8c0f3ecb\" x=\"124.085087\" y=\"78.841478\" style=\"fill: #1f77b4; stroke: #1f77b4\"/>\n",
       "     <use xlink:href=\"#m3d8c0f3ecb\" x=\"160.85388\" y=\"106.752011\" style=\"fill: #1f77b4; stroke: #1f77b4\"/>\n",
       "     <use xlink:href=\"#m3d8c0f3ecb\" x=\"151.69043\" y=\"94.583269\" style=\"fill: #1f77b4; stroke: #1f77b4\"/>\n",
       "     <use xlink:href=\"#m3d8c0f3ecb\" x=\"180.164783\" y=\"97.421762\" style=\"fill: #1f77b4; stroke: #1f77b4\"/>\n",
       "     <use xlink:href=\"#m3d8c0f3ecb\" x=\"155.568137\" y=\"82.69256\" style=\"fill: #1f77b4; stroke: #1f77b4\"/>\n",
       "     <use xlink:href=\"#m3d8c0f3ecb\" x=\"153.643694\" y=\"88.899626\" style=\"fill: #1f77b4; stroke: #1f77b4\"/>\n",
       "     <use xlink:href=\"#m3d8c0f3ecb\" x=\"151.019272\" y=\"71.569645\" style=\"fill: #1f77b4; stroke: #1f77b4\"/>\n",
       "     <use xlink:href=\"#m3d8c0f3ecb\" x=\"150.384599\" y=\"85.353394\" style=\"fill: #1f77b4; stroke: #1f77b4\"/>\n",
       "     <use xlink:href=\"#m3d8c0f3ecb\" x=\"151.972436\" y=\"91.923788\" style=\"fill: #1f77b4; stroke: #1f77b4\"/>\n",
       "     <use xlink:href=\"#m3d8c0f3ecb\" x=\"211.129633\" y=\"114.087476\" style=\"fill: #1f77b4; stroke: #1f77b4\"/>\n",
       "     <use xlink:href=\"#m3d8c0f3ecb\" x=\"111.177741\" y=\"59.284719\" style=\"fill: #1f77b4; stroke: #1f77b4\"/>\n",
       "     <use xlink:href=\"#m3d8c0f3ecb\" x=\"174.910997\" y=\"113.16018\" style=\"fill: #1f77b4; stroke: #1f77b4\"/>\n",
       "     <use xlink:href=\"#m3d8c0f3ecb\" x=\"114.614353\" y=\"79.189115\" style=\"fill: #1f77b4; stroke: #1f77b4\"/>\n",
       "     <use xlink:href=\"#m3d8c0f3ecb\" x=\"126.24474\" y=\"80.366898\" style=\"fill: #1f77b4; stroke: #1f77b4\"/>\n",
       "     <use xlink:href=\"#m3d8c0f3ecb\" x=\"122.149374\" y=\"46.086405\" style=\"fill: #1f77b4; stroke: #1f77b4\"/>\n",
       "     <use xlink:href=\"#m3d8c0f3ecb\" x=\"140.000729\" y=\"70.430975\" style=\"fill: #1f77b4; stroke: #1f77b4\"/>\n",
       "     <use xlink:href=\"#m3d8c0f3ecb\" x=\"78.412835\" y=\"54.375017\" style=\"fill: #1f77b4; stroke: #1f77b4\"/>\n",
       "     <use xlink:href=\"#m3d8c0f3ecb\" x=\"125.621169\" y=\"80.200564\" style=\"fill: #1f77b4; stroke: #1f77b4\"/>\n",
       "     <use xlink:href=\"#m3d8c0f3ecb\" x=\"164.724936\" y=\"100.562982\" style=\"fill: #1f77b4; stroke: #1f77b4\"/>\n",
       "     <use xlink:href=\"#m3d8c0f3ecb\" x=\"144.118881\" y=\"91.581941\" style=\"fill: #1f77b4; stroke: #1f77b4\"/>\n",
       "     <use xlink:href=\"#m3d8c0f3ecb\" x=\"141.178064\" y=\"85.804676\" style=\"fill: #1f77b4; stroke: #1f77b4\"/>\n",
       "     <use xlink:href=\"#m3d8c0f3ecb\" x=\"109.211747\" y=\"61.821109\" style=\"fill: #1f77b4; stroke: #1f77b4\"/>\n",
       "     <use xlink:href=\"#m3d8c0f3ecb\" x=\"141.356992\" y=\"83.440491\" style=\"fill: #1f77b4; stroke: #1f77b4\"/>\n",
       "     <use xlink:href=\"#m3d8c0f3ecb\" x=\"160.14538\" y=\"82.46234\" style=\"fill: #1f77b4; stroke: #1f77b4\"/>\n",
       "     <use xlink:href=\"#m3d8c0f3ecb\" x=\"171.555544\" y=\"111.073234\" style=\"fill: #1f77b4; stroke: #1f77b4\"/>\n",
       "     <use xlink:href=\"#m3d8c0f3ecb\" x=\"143.039406\" y=\"74.864408\" style=\"fill: #1f77b4; stroke: #1f77b4\"/>\n",
       "     <use xlink:href=\"#m3d8c0f3ecb\" x=\"153.3255\" y=\"91.276517\" style=\"fill: #1f77b4; stroke: #1f77b4\"/>\n",
       "     <use xlink:href=\"#m3d8c0f3ecb\" x=\"113.501723\" y=\"56.818142\" style=\"fill: #1f77b4; stroke: #1f77b4\"/>\n",
       "     <use xlink:href=\"#m3d8c0f3ecb\" x=\"127.03512\" y=\"77.657937\" style=\"fill: #1f77b4; stroke: #1f77b4\"/>\n",
       "     <use xlink:href=\"#m3d8c0f3ecb\" x=\"122.383118\" y=\"85.239085\" style=\"fill: #1f77b4; stroke: #1f77b4\"/>\n",
       "     <use xlink:href=\"#m3d8c0f3ecb\" x=\"121.052453\" y=\"60.030215\" style=\"fill: #1f77b4; stroke: #1f77b4\"/>\n",
       "     <use xlink:href=\"#m3d8c0f3ecb\" x=\"127.926117\" y=\"73.662719\" style=\"fill: #1f77b4; stroke: #1f77b4\"/>\n",
       "     <use xlink:href=\"#m3d8c0f3ecb\" x=\"149.158962\" y=\"77.940151\" style=\"fill: #1f77b4; stroke: #1f77b4\"/>\n",
       "     <use xlink:href=\"#m3d8c0f3ecb\" x=\"103.222305\" y=\"57.555304\" style=\"fill: #1f77b4; stroke: #1f77b4\"/>\n",
       "     <use xlink:href=\"#m3d8c0f3ecb\" x=\"134.944412\" y=\"102.463831\" style=\"fill: #1f77b4; stroke: #1f77b4\"/>\n",
       "     <use xlink:href=\"#m3d8c0f3ecb\" x=\"106.497983\" y=\"61.17205\" style=\"fill: #1f77b4; stroke: #1f77b4\"/>\n",
       "     <use xlink:href=\"#m3d8c0f3ecb\" x=\"123.842439\" y=\"82.483642\" style=\"fill: #1f77b4; stroke: #1f77b4\"/>\n",
       "     <use xlink:href=\"#m3d8c0f3ecb\" x=\"130.036922\" y=\"73.98359\" style=\"fill: #1f77b4; stroke: #1f77b4\"/>\n",
       "     <use xlink:href=\"#m3d8c0f3ecb\" x=\"150.258693\" y=\"87.059286\" style=\"fill: #1f77b4; stroke: #1f77b4\"/>\n",
       "     <use xlink:href=\"#m3d8c0f3ecb\" x=\"114.055668\" y=\"67.378549\" style=\"fill: #1f77b4; stroke: #1f77b4\"/>\n",
       "     <use xlink:href=\"#m3d8c0f3ecb\" x=\"142.634518\" y=\"97.894212\" style=\"fill: #1f77b4; stroke: #1f77b4\"/>\n",
       "     <use xlink:href=\"#m3d8c0f3ecb\" x=\"85.103787\" y=\"42.66906\" style=\"fill: #1f77b4; stroke: #1f77b4\"/>\n",
       "     <use xlink:href=\"#m3d8c0f3ecb\" x=\"126.721207\" y=\"63.928238\" style=\"fill: #1f77b4; stroke: #1f77b4\"/>\n",
       "     <use xlink:href=\"#m3d8c0f3ecb\" x=\"128.192263\" y=\"74.811937\" style=\"fill: #1f77b4; stroke: #1f77b4\"/>\n",
       "     <use xlink:href=\"#m3d8c0f3ecb\" x=\"154.584072\" y=\"84.968908\" style=\"fill: #1f77b4; stroke: #1f77b4\"/>\n",
       "     <use xlink:href=\"#m3d8c0f3ecb\" x=\"172.129987\" y=\"95.474101\" style=\"fill: #1f77b4; stroke: #1f77b4\"/>\n",
       "     <use xlink:href=\"#m3d8c0f3ecb\" x=\"146.088119\" y=\"97.366935\" style=\"fill: #1f77b4; stroke: #1f77b4\"/>\n",
       "     <use xlink:href=\"#m3d8c0f3ecb\" x=\"159.06985\" y=\"98.023419\" style=\"fill: #1f77b4; stroke: #1f77b4\"/>\n",
       "     <use xlink:href=\"#m3d8c0f3ecb\" x=\"153.918547\" y=\"75.800328\" style=\"fill: #1f77b4; stroke: #1f77b4\"/>\n",
       "     <use xlink:href=\"#m3d8c0f3ecb\" x=\"100.398366\" y=\"71.244436\" style=\"fill: #1f77b4; stroke: #1f77b4\"/>\n",
       "     <use xlink:href=\"#m3d8c0f3ecb\" x=\"120.674388\" y=\"87.775328\" style=\"fill: #1f77b4; stroke: #1f77b4\"/>\n",
       "     <use xlink:href=\"#m3d8c0f3ecb\" x=\"148.091667\" y=\"78.921806\" style=\"fill: #1f77b4; stroke: #1f77b4\"/>\n",
       "     <use xlink:href=\"#m3d8c0f3ecb\" x=\"129.714358\" y=\"92.848465\" style=\"fill: #1f77b4; stroke: #1f77b4\"/>\n",
       "     <use xlink:href=\"#m3d8c0f3ecb\" x=\"128.172936\" y=\"97.197968\" style=\"fill: #1f77b4; stroke: #1f77b4\"/>\n",
       "     <use xlink:href=\"#m3d8c0f3ecb\" x=\"133.599655\" y=\"69.234422\" style=\"fill: #1f77b4; stroke: #1f77b4\"/>\n",
       "     <use xlink:href=\"#m3d8c0f3ecb\" x=\"132.701949\" y=\"84.386305\" style=\"fill: #1f77b4; stroke: #1f77b4\"/>\n",
       "     <use xlink:href=\"#m3d8c0f3ecb\" x=\"189.096427\" y=\"119.696213\" style=\"fill: #1f77b4; stroke: #1f77b4\"/>\n",
       "     <use xlink:href=\"#m3d8c0f3ecb\" x=\"131.605771\" y=\"104.22989\" style=\"fill: #1f77b4; stroke: #1f77b4\"/>\n",
       "     <use xlink:href=\"#m3d8c0f3ecb\" x=\"169.298388\" y=\"107.20992\" style=\"fill: #1f77b4; stroke: #1f77b4\"/>\n",
       "     <use xlink:href=\"#m3d8c0f3ecb\" x=\"161.874474\" y=\"84.774811\" style=\"fill: #1f77b4; stroke: #1f77b4\"/>\n",
       "     <use xlink:href=\"#m3d8c0f3ecb\" x=\"158.27674\" y=\"99.114568\" style=\"fill: #1f77b4; stroke: #1f77b4\"/>\n",
       "     <use xlink:href=\"#m3d8c0f3ecb\" x=\"133.572881\" y=\"69.252579\" style=\"fill: #1f77b4; stroke: #1f77b4\"/>\n",
       "     <use xlink:href=\"#m3d8c0f3ecb\" x=\"161.84223\" y=\"76.124501\" style=\"fill: #1f77b4; stroke: #1f77b4\"/>\n",
       "     <use xlink:href=\"#m3d8c0f3ecb\" x=\"191.563938\" y=\"111.610006\" style=\"fill: #1f77b4; stroke: #1f77b4\"/>\n",
       "     <use xlink:href=\"#m3d8c0f3ecb\" x=\"128.391732\" y=\"69.019872\" style=\"fill: #1f77b4; stroke: #1f77b4\"/>\n",
       "     <use xlink:href=\"#m3d8c0f3ecb\" x=\"112.577927\" y=\"84.171291\" style=\"fill: #1f77b4; stroke: #1f77b4\"/>\n",
       "     <use xlink:href=\"#m3d8c0f3ecb\" x=\"166.249999\" y=\"103.520118\" style=\"fill: #1f77b4; stroke: #1f77b4\"/>\n",
       "     <use xlink:href=\"#m3d8c0f3ecb\" x=\"154.630984\" y=\"84.001893\" style=\"fill: #1f77b4; stroke: #1f77b4\"/>\n",
       "     <use xlink:href=\"#m3d8c0f3ecb\" x=\"141.412029\" y=\"90.690937\" style=\"fill: #1f77b4; stroke: #1f77b4\"/>\n",
       "     <use xlink:href=\"#m3d8c0f3ecb\" x=\"145.803279\" y=\"93.103817\" style=\"fill: #1f77b4; stroke: #1f77b4\"/>\n",
       "     <use xlink:href=\"#m3d8c0f3ecb\" x=\"159.6026\" y=\"113.679856\" style=\"fill: #1f77b4; stroke: #1f77b4\"/>\n",
       "     <use xlink:href=\"#m3d8c0f3ecb\" x=\"124.152437\" y=\"66.028332\" style=\"fill: #1f77b4; stroke: #1f77b4\"/>\n",
       "     <use xlink:href=\"#m3d8c0f3ecb\" x=\"165.119131\" y=\"103.613935\" style=\"fill: #1f77b4; stroke: #1f77b4\"/>\n",
       "     <use xlink:href=\"#m3d8c0f3ecb\" x=\"145.042282\" y=\"94.52233\" style=\"fill: #1f77b4; stroke: #1f77b4\"/>\n",
       "     <use xlink:href=\"#m3d8c0f3ecb\" x=\"95.617626\" y=\"54.885217\" style=\"fill: #1f77b4; stroke: #1f77b4\"/>\n",
       "     <use xlink:href=\"#m3d8c0f3ecb\" x=\"166.295535\" y=\"93.983204\" style=\"fill: #1f77b4; stroke: #1f77b4\"/>\n",
       "     <use xlink:href=\"#m3d8c0f3ecb\" x=\"171.097402\" y=\"101.669477\" style=\"fill: #1f77b4; stroke: #1f77b4\"/>\n",
       "     <use xlink:href=\"#m3d8c0f3ecb\" x=\"148.085722\" y=\"101.679797\" style=\"fill: #1f77b4; stroke: #1f77b4\"/>\n",
       "     <use xlink:href=\"#m3d8c0f3ecb\" x=\"95.826922\" y=\"43.619717\" style=\"fill: #1f77b4; stroke: #1f77b4\"/>\n",
       "     <use xlink:href=\"#m3d8c0f3ecb\" x=\"134.244477\" y=\"82.810798\" style=\"fill: #1f77b4; stroke: #1f77b4\"/>\n",
       "     <use xlink:href=\"#m3d8c0f3ecb\" x=\"138.162294\" y=\"68.329795\" style=\"fill: #1f77b4; stroke: #1f77b4\"/>\n",
       "     <use xlink:href=\"#m3d8c0f3ecb\" x=\"68.760925\" y=\"39.088726\" style=\"fill: #1f77b4; stroke: #1f77b4\"/>\n",
       "     <use xlink:href=\"#m3d8c0f3ecb\" x=\"121.375424\" y=\"71.626399\" style=\"fill: #1f77b4; stroke: #1f77b4\"/>\n",
       "     <use xlink:href=\"#m3d8c0f3ecb\" x=\"167.195223\" y=\"89.33948\" style=\"fill: #1f77b4; stroke: #1f77b4\"/>\n",
       "     <use xlink:href=\"#m3d8c0f3ecb\" x=\"146.855605\" y=\"86.517498\" style=\"fill: #1f77b4; stroke: #1f77b4\"/>\n",
       "     <use xlink:href=\"#m3d8c0f3ecb\" x=\"94.352333\" y=\"39.55346\" style=\"fill: #1f77b4; stroke: #1f77b4\"/>\n",
       "     <use xlink:href=\"#m3d8c0f3ecb\" x=\"98.998955\" y=\"60.593037\" style=\"fill: #1f77b4; stroke: #1f77b4\"/>\n",
       "     <use xlink:href=\"#m3d8c0f3ecb\" x=\"146.273301\" y=\"95.011862\" style=\"fill: #1f77b4; stroke: #1f77b4\"/>\n",
       "     <use xlink:href=\"#m3d8c0f3ecb\" x=\"147.891928\" y=\"101.312526\" style=\"fill: #1f77b4; stroke: #1f77b4\"/>\n",
       "     <use xlink:href=\"#m3d8c0f3ecb\" x=\"153.889632\" y=\"117.514763\" style=\"fill: #1f77b4; stroke: #1f77b4\"/>\n",
       "     <use xlink:href=\"#m3d8c0f3ecb\" x=\"109.177335\" y=\"68.950301\" style=\"fill: #1f77b4; stroke: #1f77b4\"/>\n",
       "     <use xlink:href=\"#m3d8c0f3ecb\" x=\"114.889677\" y=\"47.26653\" style=\"fill: #1f77b4; stroke: #1f77b4\"/>\n",
       "     <use xlink:href=\"#m3d8c0f3ecb\" x=\"106.067834\" y=\"68.673461\" style=\"fill: #1f77b4; stroke: #1f77b4\"/>\n",
       "     <use xlink:href=\"#m3d8c0f3ecb\" x=\"138.372701\" y=\"85.263812\" style=\"fill: #1f77b4; stroke: #1f77b4\"/>\n",
       "     <use xlink:href=\"#m3d8c0f3ecb\" x=\"176.632931\" y=\"97.984179\" style=\"fill: #1f77b4; stroke: #1f77b4\"/>\n",
       "     <use xlink:href=\"#m3d8c0f3ecb\" x=\"125.839876\" y=\"64.496053\" style=\"fill: #1f77b4; stroke: #1f77b4\"/>\n",
       "     <use xlink:href=\"#m3d8c0f3ecb\" x=\"102.138767\" y=\"47.683013\" style=\"fill: #1f77b4; stroke: #1f77b4\"/>\n",
       "     <use xlink:href=\"#m3d8c0f3ecb\" x=\"138.634558\" y=\"95.423324\" style=\"fill: #1f77b4; stroke: #1f77b4\"/>\n",
       "     <use xlink:href=\"#m3d8c0f3ecb\" x=\"115.714062\" y=\"77.31086\" style=\"fill: #1f77b4; stroke: #1f77b4\"/>\n",
       "     <use xlink:href=\"#m3d8c0f3ecb\" x=\"116.188598\" y=\"66.648442\" style=\"fill: #1f77b4; stroke: #1f77b4\"/>\n",
       "     <use xlink:href=\"#m3d8c0f3ecb\" x=\"97.066177\" y=\"52.113162\" style=\"fill: #1f77b4; stroke: #1f77b4\"/>\n",
       "     <use xlink:href=\"#m3d8c0f3ecb\" x=\"136.239602\" y=\"93.077043\" style=\"fill: #1f77b4; stroke: #1f77b4\"/>\n",
       "     <use xlink:href=\"#m3d8c0f3ecb\" x=\"137.145593\" y=\"91.599208\" style=\"fill: #1f77b4; stroke: #1f77b4\"/>\n",
       "     <use xlink:href=\"#m3d8c0f3ecb\" x=\"168.996492\" y=\"103.351363\" style=\"fill: #1f77b4; stroke: #1f77b4\"/>\n",
       "     <use xlink:href=\"#m3d8c0f3ecb\" x=\"158.499041\" y=\"95.078251\" style=\"fill: #1f77b4; stroke: #1f77b4\"/>\n",
       "     <use xlink:href=\"#m3d8c0f3ecb\" x=\"107.055438\" y=\"48.308213\" style=\"fill: #1f77b4; stroke: #1f77b4\"/>\n",
       "     <use xlink:href=\"#m3d8c0f3ecb\" x=\"110.799847\" y=\"69.562419\" style=\"fill: #1f77b4; stroke: #1f77b4\"/>\n",
       "     <use xlink:href=\"#m3d8c0f3ecb\" x=\"103.527314\" y=\"72.787536\" style=\"fill: #1f77b4; stroke: #1f77b4\"/>\n",
       "     <use xlink:href=\"#m3d8c0f3ecb\" x=\"149.420425\" y=\"78.030105\" style=\"fill: #1f77b4; stroke: #1f77b4\"/>\n",
       "     <use xlink:href=\"#m3d8c0f3ecb\" x=\"116.159839\" y=\"67.074448\" style=\"fill: #1f77b4; stroke: #1f77b4\"/>\n",
       "     <use xlink:href=\"#m3d8c0f3ecb\" x=\"159.266637\" y=\"107.482684\" style=\"fill: #1f77b4; stroke: #1f77b4\"/>\n",
       "     <use xlink:href=\"#m3d8c0f3ecb\" x=\"120.336727\" y=\"60.326706\" style=\"fill: #1f77b4; stroke: #1f77b4\"/>\n",
       "     <use xlink:href=\"#m3d8c0f3ecb\" x=\"182.42965\" y=\"112.716387\" style=\"fill: #1f77b4; stroke: #1f77b4\"/>\n",
       "     <use xlink:href=\"#m3d8c0f3ecb\" x=\"144.542495\" y=\"80.554792\" style=\"fill: #1f77b4; stroke: #1f77b4\"/>\n",
       "     <use xlink:href=\"#m3d8c0f3ecb\" x=\"112.404869\" y=\"60.233203\" style=\"fill: #1f77b4; stroke: #1f77b4\"/>\n",
       "     <use xlink:href=\"#m3d8c0f3ecb\" x=\"119.799958\" y=\"84.617519\" style=\"fill: #1f77b4; stroke: #1f77b4\"/>\n",
       "     <use xlink:href=\"#m3d8c0f3ecb\" x=\"153.226282\" y=\"72.526014\" style=\"fill: #1f77b4; stroke: #1f77b4\"/>\n",
       "     <use xlink:href=\"#m3d8c0f3ecb\" x=\"140.620393\" y=\"93.751531\" style=\"fill: #1f77b4; stroke: #1f77b4\"/>\n",
       "     <use xlink:href=\"#m3d8c0f3ecb\" x=\"140.183512\" y=\"94.109183\" style=\"fill: #1f77b4; stroke: #1f77b4\"/>\n",
       "     <use xlink:href=\"#m3d8c0f3ecb\" x=\"98.10935\" y=\"56.686089\" style=\"fill: #1f77b4; stroke: #1f77b4\"/>\n",
       "     <use xlink:href=\"#m3d8c0f3ecb\" x=\"109.082568\" y=\"71.692554\" style=\"fill: #1f77b4; stroke: #1f77b4\"/>\n",
       "     <use xlink:href=\"#m3d8c0f3ecb\" x=\"115.340188\" y=\"75.956007\" style=\"fill: #1f77b4; stroke: #1f77b4\"/>\n",
       "     <use xlink:href=\"#m3d8c0f3ecb\" x=\"118.253428\" y=\"89.276112\" style=\"fill: #1f77b4; stroke: #1f77b4\"/>\n",
       "     <use xlink:href=\"#m3d8c0f3ecb\" x=\"141.393735\" y=\"95.645888\" style=\"fill: #1f77b4; stroke: #1f77b4\"/>\n",
       "     <use xlink:href=\"#m3d8c0f3ecb\" x=\"176.394567\" y=\"111.687452\" style=\"fill: #1f77b4; stroke: #1f77b4\"/>\n",
       "     <use xlink:href=\"#m3d8c0f3ecb\" x=\"102.261749\" y=\"65.623132\" style=\"fill: #1f77b4; stroke: #1f77b4\"/>\n",
       "     <use xlink:href=\"#m3d8c0f3ecb\" x=\"159.630872\" y=\"90.073684\" style=\"fill: #1f77b4; stroke: #1f77b4\"/>\n",
       "     <use xlink:href=\"#m3d8c0f3ecb\" x=\"144.540171\" y=\"85.541124\" style=\"fill: #1f77b4; stroke: #1f77b4\"/>\n",
       "     <use xlink:href=\"#m3d8c0f3ecb\" x=\"166.604662\" y=\"93.518467\" style=\"fill: #1f77b4; stroke: #1f77b4\"/>\n",
       "     <use xlink:href=\"#m3d8c0f3ecb\" x=\"177.62916\" y=\"99.066053\" style=\"fill: #1f77b4; stroke: #1f77b4\"/>\n",
       "     <use xlink:href=\"#m3d8c0f3ecb\" x=\"123.498709\" y=\"79.133935\" style=\"fill: #1f77b4; stroke: #1f77b4\"/>\n",
       "     <use xlink:href=\"#m3d8c0f3ecb\" x=\"112.235985\" y=\"62.69529\" style=\"fill: #1f77b4; stroke: #1f77b4\"/>\n",
       "     <use xlink:href=\"#m3d8c0f3ecb\" x=\"124.402365\" y=\"73.099768\" style=\"fill: #1f77b4; stroke: #1f77b4\"/>\n",
       "     <use xlink:href=\"#m3d8c0f3ecb\" x=\"140.167654\" y=\"77.625115\" style=\"fill: #1f77b4; stroke: #1f77b4\"/>\n",
       "     <use xlink:href=\"#m3d8c0f3ecb\" x=\"116.992895\" y=\"79.122767\" style=\"fill: #1f77b4; stroke: #1f77b4\"/>\n",
       "     <use xlink:href=\"#m3d8c0f3ecb\" x=\"150.348532\" y=\"78.117874\" style=\"fill: #1f77b4; stroke: #1f77b4\"/>\n",
       "     <use xlink:href=\"#m3d8c0f3ecb\" x=\"163.57045\" y=\"107.582716\" style=\"fill: #1f77b4; stroke: #1f77b4\"/>\n",
       "     <use xlink:href=\"#m3d8c0f3ecb\" x=\"129.565568\" y=\"72.129262\" style=\"fill: #1f77b4; stroke: #1f77b4\"/>\n",
       "     <use xlink:href=\"#m3d8c0f3ecb\" x=\"135.836316\" y=\"64.939202\" style=\"fill: #1f77b4; stroke: #1f77b4\"/>\n",
       "     <use xlink:href=\"#m3d8c0f3ecb\" x=\"180.99768\" y=\"102.197905\" style=\"fill: #1f77b4; stroke: #1f77b4\"/>\n",
       "     <use xlink:href=\"#m3d8c0f3ecb\" x=\"162.42802\" y=\"103.352461\" style=\"fill: #1f77b4; stroke: #1f77b4\"/>\n",
       "     <use xlink:href=\"#m3d8c0f3ecb\" x=\"120.923235\" y=\"66.960375\" style=\"fill: #1f77b4; stroke: #1f77b4\"/>\n",
       "     <use xlink:href=\"#m3d8c0f3ecb\" x=\"127.614057\" y=\"81.892025\" style=\"fill: #1f77b4; stroke: #1f77b4\"/>\n",
       "     <use xlink:href=\"#m3d8c0f3ecb\" x=\"139.584974\" y=\"86.410149\" style=\"fill: #1f77b4; stroke: #1f77b4\"/>\n",
       "     <use xlink:href=\"#m3d8c0f3ecb\" x=\"148.718532\" y=\"81.407785\" style=\"fill: #1f77b4; stroke: #1f77b4\"/>\n",
       "     <use xlink:href=\"#m3d8c0f3ecb\" x=\"157.910858\" y=\"102.466738\" style=\"fill: #1f77b4; stroke: #1f77b4\"/>\n",
       "     <use xlink:href=\"#m3d8c0f3ecb\" x=\"148.848319\" y=\"72.93442\" style=\"fill: #1f77b4; stroke: #1f77b4\"/>\n",
       "     <use xlink:href=\"#m3d8c0f3ecb\" x=\"102.506948\" y=\"63.435314\" style=\"fill: #1f77b4; stroke: #1f77b4\"/>\n",
       "     <use xlink:href=\"#m3d8c0f3ecb\" x=\"171.356906\" y=\"104.297477\" style=\"fill: #1f77b4; stroke: #1f77b4\"/>\n",
       "     <use xlink:href=\"#m3d8c0f3ecb\" x=\"130.859389\" y=\"72.128335\" style=\"fill: #1f77b4; stroke: #1f77b4\"/>\n",
       "     <use xlink:href=\"#m3d8c0f3ecb\" x=\"126.735483\" y=\"77.297675\" style=\"fill: #1f77b4; stroke: #1f77b4\"/>\n",
       "     <use xlink:href=\"#m3d8c0f3ecb\" x=\"111.046381\" y=\"56.082463\" style=\"fill: #1f77b4; stroke: #1f77b4\"/>\n",
       "     <use xlink:href=\"#m3d8c0f3ecb\" x=\"81.344721\" y=\"45.581121\" style=\"fill: #1f77b4; stroke: #1f77b4\"/>\n",
       "     <use xlink:href=\"#m3d8c0f3ecb\" x=\"132.440628\" y=\"84.555679\" style=\"fill: #1f77b4; stroke: #1f77b4\"/>\n",
       "     <use xlink:href=\"#m3d8c0f3ecb\" x=\"203.88517\" y=\"139.173309\" style=\"fill: #1f77b4; stroke: #1f77b4\"/>\n",
       "     <use xlink:href=\"#m3d8c0f3ecb\" x=\"63.361365\" y=\"41.450467\" style=\"fill: #1f77b4; stroke: #1f77b4\"/>\n",
       "     <use xlink:href=\"#m3d8c0f3ecb\" x=\"168.472108\" y=\"92.694951\" style=\"fill: #1f77b4; stroke: #1f77b4\"/>\n",
       "     <use xlink:href=\"#m3d8c0f3ecb\" x=\"61.394089\" y=\"37.85078\" style=\"fill: #1f77b4; stroke: #1f77b4\"/>\n",
       "     <use xlink:href=\"#m3d8c0f3ecb\" x=\"142.192121\" y=\"93.919181\" style=\"fill: #1f77b4; stroke: #1f77b4\"/>\n",
       "     <use xlink:href=\"#m3d8c0f3ecb\" x=\"125.236047\" y=\"80.519494\" style=\"fill: #1f77b4; stroke: #1f77b4\"/>\n",
       "     <use xlink:href=\"#m3d8c0f3ecb\" x=\"175.56617\" y=\"101.90718\" style=\"fill: #1f77b4; stroke: #1f77b4\"/>\n",
       "     <use xlink:href=\"#m3d8c0f3ecb\" x=\"130.023421\" y=\"84.594046\" style=\"fill: #1f77b4; stroke: #1f77b4\"/>\n",
       "     <use xlink:href=\"#m3d8c0f3ecb\" x=\"123.510503\" y=\"61.900798\" style=\"fill: #1f77b4; stroke: #1f77b4\"/>\n",
       "     <use xlink:href=\"#m3d8c0f3ecb\" x=\"129.832494\" y=\"82.61054\" style=\"fill: #1f77b4; stroke: #1f77b4\"/>\n",
       "     <use xlink:href=\"#m3d8c0f3ecb\" x=\"161.106598\" y=\"113.810998\" style=\"fill: #1f77b4; stroke: #1f77b4\"/>\n",
       "     <use xlink:href=\"#m3d8c0f3ecb\" x=\"140.43365\" y=\"92.892901\" style=\"fill: #1f77b4; stroke: #1f77b4\"/>\n",
       "     <use xlink:href=\"#m3d8c0f3ecb\" x=\"136.996244\" y=\"85.687223\" style=\"fill: #1f77b4; stroke: #1f77b4\"/>\n",
       "     <use xlink:href=\"#m3d8c0f3ecb\" x=\"134.814148\" y=\"77.42976\" style=\"fill: #1f77b4; stroke: #1f77b4\"/>\n",
       "     <use xlink:href=\"#m3d8c0f3ecb\" x=\"121.791217\" y=\"61.545205\" style=\"fill: #1f77b4; stroke: #1f77b4\"/>\n",
       "     <use xlink:href=\"#m3d8c0f3ecb\" x=\"157.921492\" y=\"94.273311\" style=\"fill: #1f77b4; stroke: #1f77b4\"/>\n",
       "     <use xlink:href=\"#m3d8c0f3ecb\" x=\"138.996753\" y=\"93.212818\" style=\"fill: #1f77b4; stroke: #1f77b4\"/>\n",
       "     <use xlink:href=\"#m3d8c0f3ecb\" x=\"95.68201\" y=\"69.10991\" style=\"fill: #1f77b4; stroke: #1f77b4\"/>\n",
       "     <use xlink:href=\"#m3d8c0f3ecb\" x=\"121.707457\" y=\"70.628831\" style=\"fill: #1f77b4; stroke: #1f77b4\"/>\n",
       "     <use xlink:href=\"#m3d8c0f3ecb\" x=\"80.815184\" y=\"44.02933\" style=\"fill: #1f77b4; stroke: #1f77b4\"/>\n",
       "     <use xlink:href=\"#m3d8c0f3ecb\" x=\"115.074621\" y=\"75.227194\" style=\"fill: #1f77b4; stroke: #1f77b4\"/>\n",
       "     <use xlink:href=\"#m3d8c0f3ecb\" x=\"145.150012\" y=\"96.637645\" style=\"fill: #1f77b4; stroke: #1f77b4\"/>\n",
       "     <use xlink:href=\"#m3d8c0f3ecb\" x=\"129.039704\" y=\"75.851606\" style=\"fill: #1f77b4; stroke: #1f77b4\"/>\n",
       "     <use xlink:href=\"#m3d8c0f3ecb\" x=\"163.74496\" y=\"100.002752\" style=\"fill: #1f77b4; stroke: #1f77b4\"/>\n",
       "     <use xlink:href=\"#m3d8c0f3ecb\" x=\"127.878184\" y=\"85.66151\" style=\"fill: #1f77b4; stroke: #1f77b4\"/>\n",
       "     <use xlink:href=\"#m3d8c0f3ecb\" x=\"101.736109\" y=\"47.749835\" style=\"fill: #1f77b4; stroke: #1f77b4\"/>\n",
       "     <use xlink:href=\"#m3d8c0f3ecb\" x=\"162.104834\" y=\"103.955424\" style=\"fill: #1f77b4; stroke: #1f77b4\"/>\n",
       "     <use xlink:href=\"#m3d8c0f3ecb\" x=\"186.783916\" y=\"127.302824\" style=\"fill: #1f77b4; stroke: #1f77b4\"/>\n",
       "     <use xlink:href=\"#m3d8c0f3ecb\" x=\"133.027284\" y=\"91.740526\" style=\"fill: #1f77b4; stroke: #1f77b4\"/>\n",
       "     <use xlink:href=\"#m3d8c0f3ecb\" x=\"150.265614\" y=\"94.87393\" style=\"fill: #1f77b4; stroke: #1f77b4\"/>\n",
       "     <use xlink:href=\"#m3d8c0f3ecb\" x=\"155.888192\" y=\"99.405881\" style=\"fill: #1f77b4; stroke: #1f77b4\"/>\n",
       "     <use xlink:href=\"#m3d8c0f3ecb\" x=\"181.559579\" y=\"119.63488\" style=\"fill: #1f77b4; stroke: #1f77b4\"/>\n",
       "     <use xlink:href=\"#m3d8c0f3ecb\" x=\"205.661265\" y=\"139.5\" style=\"fill: #1f77b4; stroke: #1f77b4\"/>\n",
       "     <use xlink:href=\"#m3d8c0f3ecb\" x=\"125.202978\" y=\"69.697141\" style=\"fill: #1f77b4; stroke: #1f77b4\"/>\n",
       "     <use xlink:href=\"#m3d8c0f3ecb\" x=\"95.809992\" y=\"48.849879\" style=\"fill: #1f77b4; stroke: #1f77b4\"/>\n",
       "     <use xlink:href=\"#m3d8c0f3ecb\" x=\"156.563313\" y=\"94.240276\" style=\"fill: #1f77b4; stroke: #1f77b4\"/>\n",
       "     <use xlink:href=\"#m3d8c0f3ecb\" x=\"114.963371\" y=\"72.666527\" style=\"fill: #1f77b4; stroke: #1f77b4\"/>\n",
       "     <use xlink:href=\"#m3d8c0f3ecb\" x=\"143.722071\" y=\"82.479607\" style=\"fill: #1f77b4; stroke: #1f77b4\"/>\n",
       "     <use xlink:href=\"#m3d8c0f3ecb\" x=\"117.084883\" y=\"64.134271\" style=\"fill: #1f77b4; stroke: #1f77b4\"/>\n",
       "     <use xlink:href=\"#m3d8c0f3ecb\" x=\"135.105605\" y=\"67.243398\" style=\"fill: #1f77b4; stroke: #1f77b4\"/>\n",
       "     <use xlink:href=\"#m3d8c0f3ecb\" x=\"143.021719\" y=\"95.89901\" style=\"fill: #1f77b4; stroke: #1f77b4\"/>\n",
       "     <use xlink:href=\"#m3d8c0f3ecb\" x=\"104.618419\" y=\"58.630202\" style=\"fill: #1f77b4; stroke: #1f77b4\"/>\n",
       "     <use xlink:href=\"#m3d8c0f3ecb\" x=\"107.016759\" y=\"67.841937\" style=\"fill: #1f77b4; stroke: #1f77b4\"/>\n",
       "     <use xlink:href=\"#m3d8c0f3ecb\" x=\"167.469962\" y=\"86.22003\" style=\"fill: #1f77b4; stroke: #1f77b4\"/>\n",
       "     <use xlink:href=\"#m3d8c0f3ecb\" x=\"121.212938\" y=\"79.56023\" style=\"fill: #1f77b4; stroke: #1f77b4\"/>\n",
       "     <use xlink:href=\"#m3d8c0f3ecb\" x=\"148.192373\" y=\"97.148764\" style=\"fill: #1f77b4; stroke: #1f77b4\"/>\n",
       "     <use xlink:href=\"#m3d8c0f3ecb\" x=\"141.024158\" y=\"72.620017\" style=\"fill: #1f77b4; stroke: #1f77b4\"/>\n",
       "     <use xlink:href=\"#m3d8c0f3ecb\" x=\"136.912626\" y=\"94.521443\" style=\"fill: #1f77b4; stroke: #1f77b4\"/>\n",
       "     <use xlink:href=\"#m3d8c0f3ecb\" x=\"112.713393\" y=\"65.330969\" style=\"fill: #1f77b4; stroke: #1f77b4\"/>\n",
       "     <use xlink:href=\"#m3d8c0f3ecb\" x=\"108.976765\" y=\"50.209908\" style=\"fill: #1f77b4; stroke: #1f77b4\"/>\n",
       "     <use xlink:href=\"#m3d8c0f3ecb\" x=\"130.047822\" y=\"67.30167\" style=\"fill: #1f77b4; stroke: #1f77b4\"/>\n",
       "     <use xlink:href=\"#m3d8c0f3ecb\" x=\"132.000295\" y=\"67.705489\" style=\"fill: #1f77b4; stroke: #1f77b4\"/>\n",
       "     <use xlink:href=\"#m3d8c0f3ecb\" x=\"182.325331\" y=\"105.716338\" style=\"fill: #1f77b4; stroke: #1f77b4\"/>\n",
       "     <use xlink:href=\"#m3d8c0f3ecb\" x=\"190.922139\" y=\"112.774511\" style=\"fill: #1f77b4; stroke: #1f77b4\"/>\n",
       "     <use xlink:href=\"#m3d8c0f3ecb\" x=\"143.928341\" y=\"100.712426\" style=\"fill: #1f77b4; stroke: #1f77b4\"/>\n",
       "     <use xlink:href=\"#m3d8c0f3ecb\" x=\"141.648403\" y=\"69.511296\" style=\"fill: #1f77b4; stroke: #1f77b4\"/>\n",
       "     <use xlink:href=\"#m3d8c0f3ecb\" x=\"156.061477\" y=\"92.248805\" style=\"fill: #1f77b4; stroke: #1f77b4\"/>\n",
       "     <use xlink:href=\"#m3d8c0f3ecb\" x=\"209.258138\" y=\"112.372879\" style=\"fill: #1f77b4; stroke: #1f77b4\"/>\n",
       "     <use xlink:href=\"#m3d8c0f3ecb\" x=\"120.366174\" y=\"84.213186\" style=\"fill: #1f77b4; stroke: #1f77b4\"/>\n",
       "     <use xlink:href=\"#m3d8c0f3ecb\" x=\"148.849185\" y=\"72.96983\" style=\"fill: #1f77b4; stroke: #1f77b4\"/>\n",
       "     <use xlink:href=\"#m3d8c0f3ecb\" x=\"145.766412\" y=\"86.039763\" style=\"fill: #1f77b4; stroke: #1f77b4\"/>\n",
       "     <use xlink:href=\"#m3d8c0f3ecb\" x=\"176.624157\" y=\"107.837519\" style=\"fill: #1f77b4; stroke: #1f77b4\"/>\n",
       "     <use xlink:href=\"#m3d8c0f3ecb\" x=\"126.012213\" y=\"80.752324\" style=\"fill: #1f77b4; stroke: #1f77b4\"/>\n",
       "     <use xlink:href=\"#m3d8c0f3ecb\" x=\"125.047404\" y=\"61.487483\" style=\"fill: #1f77b4; stroke: #1f77b4\"/>\n",
       "     <use xlink:href=\"#m3d8c0f3ecb\" x=\"139.378006\" y=\"80.979176\" style=\"fill: #1f77b4; stroke: #1f77b4\"/>\n",
       "     <use xlink:href=\"#m3d8c0f3ecb\" x=\"147.313684\" y=\"91.288437\" style=\"fill: #1f77b4; stroke: #1f77b4\"/>\n",
       "     <use xlink:href=\"#m3d8c0f3ecb\" x=\"174.950463\" y=\"101.847252\" style=\"fill: #1f77b4; stroke: #1f77b4\"/>\n",
       "     <use xlink:href=\"#m3d8c0f3ecb\" x=\"133.260963\" y=\"79.461877\" style=\"fill: #1f77b4; stroke: #1f77b4\"/>\n",
       "     <use xlink:href=\"#m3d8c0f3ecb\" x=\"146.816534\" y=\"86.607156\" style=\"fill: #1f77b4; stroke: #1f77b4\"/>\n",
       "     <use xlink:href=\"#m3d8c0f3ecb\" x=\"136.557373\" y=\"82.624718\" style=\"fill: #1f77b4; stroke: #1f77b4\"/>\n",
       "     <use xlink:href=\"#m3d8c0f3ecb\" x=\"118.286073\" y=\"83.10801\" style=\"fill: #1f77b4; stroke: #1f77b4\"/>\n",
       "     <use xlink:href=\"#m3d8c0f3ecb\" x=\"100.455153\" y=\"58.095382\" style=\"fill: #1f77b4; stroke: #1f77b4\"/>\n",
       "     <use xlink:href=\"#m3d8c0f3ecb\" x=\"118.22522\" y=\"69.175964\" style=\"fill: #1f77b4; stroke: #1f77b4\"/>\n",
       "     <use xlink:href=\"#m3d8c0f3ecb\" x=\"125.119843\" y=\"65.377561\" style=\"fill: #1f77b4; stroke: #1f77b4\"/>\n",
       "     <use xlink:href=\"#m3d8c0f3ecb\" x=\"98.044878\" y=\"58.091258\" style=\"fill: #1f77b4; stroke: #1f77b4\"/>\n",
       "     <use xlink:href=\"#m3d8c0f3ecb\" x=\"164.594644\" y=\"121.141261\" style=\"fill: #1f77b4; stroke: #1f77b4\"/>\n",
       "     <use xlink:href=\"#m3d8c0f3ecb\" x=\"118.427622\" y=\"54.347968\" style=\"fill: #1f77b4; stroke: #1f77b4\"/>\n",
       "     <use xlink:href=\"#m3d8c0f3ecb\" x=\"155.72846\" y=\"82.371847\" style=\"fill: #1f77b4; stroke: #1f77b4\"/>\n",
       "     <use xlink:href=\"#m3d8c0f3ecb\" x=\"125.657575\" y=\"62.405988\" style=\"fill: #1f77b4; stroke: #1f77b4\"/>\n",
       "     <use xlink:href=\"#m3d8c0f3ecb\" x=\"152.707198\" y=\"89.984902\" style=\"fill: #1f77b4; stroke: #1f77b4\"/>\n",
       "     <use xlink:href=\"#m3d8c0f3ecb\" x=\"117.438363\" y=\"78.289468\" style=\"fill: #1f77b4; stroke: #1f77b4\"/>\n",
       "     <use xlink:href=\"#m3d8c0f3ecb\" x=\"137.077245\" y=\"60.852475\" style=\"fill: #1f77b4; stroke: #1f77b4\"/>\n",
       "     <use xlink:href=\"#m3d8c0f3ecb\" x=\"144.88235\" y=\"82.010444\" style=\"fill: #1f77b4; stroke: #1f77b4\"/>\n",
       "     <use xlink:href=\"#m3d8c0f3ecb\" x=\"141.432401\" y=\"93.204802\" style=\"fill: #1f77b4; stroke: #1f77b4\"/>\n",
       "     <use xlink:href=\"#m3d8c0f3ecb\" x=\"111.540195\" y=\"55.682464\" style=\"fill: #1f77b4; stroke: #1f77b4\"/>\n",
       "     <use xlink:href=\"#m3d8c0f3ecb\" x=\"127.160309\" y=\"70.499286\" style=\"fill: #1f77b4; stroke: #1f77b4\"/>\n",
       "     <use xlink:href=\"#m3d8c0f3ecb\" x=\"127.445284\" y=\"91.846609\" style=\"fill: #1f77b4; stroke: #1f77b4\"/>\n",
       "     <use xlink:href=\"#m3d8c0f3ecb\" x=\"155.810137\" y=\"85.063252\" style=\"fill: #1f77b4; stroke: #1f77b4\"/>\n",
       "     <use xlink:href=\"#m3d8c0f3ecb\" x=\"138.56549\" y=\"85.415355\" style=\"fill: #1f77b4; stroke: #1f77b4\"/>\n",
       "     <use xlink:href=\"#m3d8c0f3ecb\" x=\"143.476176\" y=\"89.632127\" style=\"fill: #1f77b4; stroke: #1f77b4\"/>\n",
       "     <use xlink:href=\"#m3d8c0f3ecb\" x=\"146.100478\" y=\"91.888018\" style=\"fill: #1f77b4; stroke: #1f77b4\"/>\n",
       "     <use xlink:href=\"#m3d8c0f3ecb\" x=\"110.462986\" y=\"78.664128\" style=\"fill: #1f77b4; stroke: #1f77b4\"/>\n",
       "     <use xlink:href=\"#m3d8c0f3ecb\" x=\"106.769243\" y=\"51.189863\" style=\"fill: #1f77b4; stroke: #1f77b4\"/>\n",
       "     <use xlink:href=\"#m3d8c0f3ecb\" x=\"145.347988\" y=\"86.036511\" style=\"fill: #1f77b4; stroke: #1f77b4\"/>\n",
       "     <use xlink:href=\"#m3d8c0f3ecb\" x=\"143.65777\" y=\"63.102254\" style=\"fill: #1f77b4; stroke: #1f77b4\"/>\n",
       "     <use xlink:href=\"#m3d8c0f3ecb\" x=\"153.141308\" y=\"82.399083\" style=\"fill: #1f77b4; stroke: #1f77b4\"/>\n",
       "     <use xlink:href=\"#m3d8c0f3ecb\" x=\"115.282095\" y=\"60.042952\" style=\"fill: #1f77b4; stroke: #1f77b4\"/>\n",
       "     <use xlink:href=\"#m3d8c0f3ecb\" x=\"110.001317\" y=\"64.577002\" style=\"fill: #1f77b4; stroke: #1f77b4\"/>\n",
       "     <use xlink:href=\"#m3d8c0f3ecb\" x=\"122.301218\" y=\"66.798754\" style=\"fill: #1f77b4; stroke: #1f77b4\"/>\n",
       "     <use xlink:href=\"#m3d8c0f3ecb\" x=\"139.758772\" y=\"73.283364\" style=\"fill: #1f77b4; stroke: #1f77b4\"/>\n",
       "     <use xlink:href=\"#m3d8c0f3ecb\" x=\"192.901937\" y=\"119.975695\" style=\"fill: #1f77b4; stroke: #1f77b4\"/>\n",
       "     <use xlink:href=\"#m3d8c0f3ecb\" x=\"173.477347\" y=\"94.084075\" style=\"fill: #1f77b4; stroke: #1f77b4\"/>\n",
       "     <use xlink:href=\"#m3d8c0f3ecb\" x=\"106.890814\" y=\"73.339132\" style=\"fill: #1f77b4; stroke: #1f77b4\"/>\n",
       "     <use xlink:href=\"#m3d8c0f3ecb\" x=\"142.013371\" y=\"98.564053\" style=\"fill: #1f77b4; stroke: #1f77b4\"/>\n",
       "     <use xlink:href=\"#m3d8c0f3ecb\" x=\"142.087186\" y=\"88.397588\" style=\"fill: #1f77b4; stroke: #1f77b4\"/>\n",
       "     <use xlink:href=\"#m3d8c0f3ecb\" x=\"183.864745\" y=\"100.471256\" style=\"fill: #1f77b4; stroke: #1f77b4\"/>\n",
       "     <use xlink:href=\"#m3d8c0f3ecb\" x=\"117.766235\" y=\"86.259338\" style=\"fill: #1f77b4; stroke: #1f77b4\"/>\n",
       "     <use xlink:href=\"#m3d8c0f3ecb\" x=\"201.901475\" y=\"103.002754\" style=\"fill: #1f77b4; stroke: #1f77b4\"/>\n",
       "     <use xlink:href=\"#m3d8c0f3ecb\" x=\"109.624328\" y=\"47.807511\" style=\"fill: #1f77b4; stroke: #1f77b4\"/>\n",
       "     <use xlink:href=\"#m3d8c0f3ecb\" x=\"181.404537\" y=\"99.171437\" style=\"fill: #1f77b4; stroke: #1f77b4\"/>\n",
       "     <use xlink:href=\"#m3d8c0f3ecb\" x=\"146.717988\" y=\"86.67496\" style=\"fill: #1f77b4; stroke: #1f77b4\"/>\n",
       "     <use xlink:href=\"#m3d8c0f3ecb\" x=\"129.376745\" y=\"81.565776\" style=\"fill: #1f77b4; stroke: #1f77b4\"/>\n",
       "     <use xlink:href=\"#m3d8c0f3ecb\" x=\"138.203167\" y=\"86.797048\" style=\"fill: #1f77b4; stroke: #1f77b4\"/>\n",
       "     <use xlink:href=\"#m3d8c0f3ecb\" x=\"109.659616\" y=\"75.700907\" style=\"fill: #1f77b4; stroke: #1f77b4\"/>\n",
       "     <use xlink:href=\"#m3d8c0f3ecb\" x=\"124.624825\" y=\"59.361057\" style=\"fill: #1f77b4; stroke: #1f77b4\"/>\n",
       "     <use xlink:href=\"#m3d8c0f3ecb\" x=\"140.737247\" y=\"90.864484\" style=\"fill: #1f77b4; stroke: #1f77b4\"/>\n",
       "     <use xlink:href=\"#m3d8c0f3ecb\" x=\"141.355102\" y=\"80.904832\" style=\"fill: #1f77b4; stroke: #1f77b4\"/>\n",
       "     <use xlink:href=\"#m3d8c0f3ecb\" x=\"148.58183\" y=\"91.058996\" style=\"fill: #1f77b4; stroke: #1f77b4\"/>\n",
       "     <use xlink:href=\"#m3d8c0f3ecb\" x=\"110.811655\" y=\"83.878148\" style=\"fill: #1f77b4; stroke: #1f77b4\"/>\n",
       "     <use xlink:href=\"#m3d8c0f3ecb\" x=\"149.276078\" y=\"80.959804\" style=\"fill: #1f77b4; stroke: #1f77b4\"/>\n",
       "     <use xlink:href=\"#m3d8c0f3ecb\" x=\"104.819225\" y=\"59.945779\" style=\"fill: #1f77b4; stroke: #1f77b4\"/>\n",
       "     <use xlink:href=\"#m3d8c0f3ecb\" x=\"151.379675\" y=\"82.294077\" style=\"fill: #1f77b4; stroke: #1f77b4\"/>\n",
       "     <use xlink:href=\"#m3d8c0f3ecb\" x=\"91.985124\" y=\"53.94721\" style=\"fill: #1f77b4; stroke: #1f77b4\"/>\n",
       "     <use xlink:href=\"#m3d8c0f3ecb\" x=\"110.840288\" y=\"48.124369\" style=\"fill: #1f77b4; stroke: #1f77b4\"/>\n",
       "     <use xlink:href=\"#m3d8c0f3ecb\" x=\"127.691777\" y=\"69.409038\" style=\"fill: #1f77b4; stroke: #1f77b4\"/>\n",
       "     <use xlink:href=\"#m3d8c0f3ecb\" x=\"122.75315\" y=\"85.723594\" style=\"fill: #1f77b4; stroke: #1f77b4\"/>\n",
       "     <use xlink:href=\"#m3d8c0f3ecb\" x=\"164.518428\" y=\"107.687528\" style=\"fill: #1f77b4; stroke: #1f77b4\"/>\n",
       "     <use xlink:href=\"#m3d8c0f3ecb\" x=\"112.45762\" y=\"65.91756\" style=\"fill: #1f77b4; stroke: #1f77b4\"/>\n",
       "     <use xlink:href=\"#m3d8c0f3ecb\" x=\"90.399162\" y=\"60.458345\" style=\"fill: #1f77b4; stroke: #1f77b4\"/>\n",
       "     <use xlink:href=\"#m3d8c0f3ecb\" x=\"148.23304\" y=\"89.752973\" style=\"fill: #1f77b4; stroke: #1f77b4\"/>\n",
       "     <use xlink:href=\"#m3d8c0f3ecb\" x=\"153.412125\" y=\"107.35803\" style=\"fill: #1f77b4; stroke: #1f77b4\"/>\n",
       "     <use xlink:href=\"#m3d8c0f3ecb\" x=\"148.176669\" y=\"84.760011\" style=\"fill: #1f77b4; stroke: #1f77b4\"/>\n",
       "     <use xlink:href=\"#m3d8c0f3ecb\" x=\"141.699632\" y=\"88.349454\" style=\"fill: #1f77b4; stroke: #1f77b4\"/>\n",
       "     <use xlink:href=\"#m3d8c0f3ecb\" x=\"112.194261\" y=\"70.07547\" style=\"fill: #1f77b4; stroke: #1f77b4\"/>\n",
       "     <use xlink:href=\"#m3d8c0f3ecb\" x=\"152.009805\" y=\"116.178983\" style=\"fill: #1f77b4; stroke: #1f77b4\"/>\n",
       "     <use xlink:href=\"#m3d8c0f3ecb\" x=\"103.106852\" y=\"51.297244\" style=\"fill: #1f77b4; stroke: #1f77b4\"/>\n",
       "     <use xlink:href=\"#m3d8c0f3ecb\" x=\"180.111884\" y=\"109.077762\" style=\"fill: #1f77b4; stroke: #1f77b4\"/>\n",
       "     <use xlink:href=\"#m3d8c0f3ecb\" x=\"165.865286\" y=\"97.229551\" style=\"fill: #1f77b4; stroke: #1f77b4\"/>\n",
       "     <use xlink:href=\"#m3d8c0f3ecb\" x=\"138.772369\" y=\"74.693663\" style=\"fill: #1f77b4; stroke: #1f77b4\"/>\n",
       "    </g>\n",
       "   </g>\n",
       "   <g id=\"matplotlib.axis_1\">\n",
       "    <g id=\"xtick_1\">\n",
       "     <g id=\"line2d_1\">\n",
       "      <defs>\n",
       "       <path id=\"mc6fa2c100c\" d=\"M 0 0 \n",
       "L 0 3.5 \n",
       "\" style=\"stroke: #000000; stroke-width: 0.8\"/>\n",
       "      </defs>\n",
       "      <g>\n",
       "       <use xlink:href=\"#mc6fa2c100c\" x=\"29.963618\" y=\"145.8\" style=\"stroke: #000000; stroke-width: 0.8\"/>\n",
       "      </g>\n",
       "     </g>\n",
       "     <g id=\"text_1\">\n",
       "      <!-- −4 -->\n",
       "      <g transform=\"translate(22.592524 160.398438) scale(0.1 -0.1)\">\n",
       "       <defs>\n",
       "        <path id=\"DejaVuSans-2212\" d=\"M 678 2272 \n",
       "L 4684 2272 \n",
       "L 4684 1741 \n",
       "L 678 1741 \n",
       "L 678 2272 \n",
       "z\n",
       "\" transform=\"scale(0.015625)\"/>\n",
       "        <path id=\"DejaVuSans-34\" d=\"M 2419 4116 \n",
       "L 825 1625 \n",
       "L 2419 1625 \n",
       "L 2419 4116 \n",
       "z\n",
       "M 2253 4666 \n",
       "L 3047 4666 \n",
       "L 3047 1625 \n",
       "L 3713 1625 \n",
       "L 3713 1100 \n",
       "L 3047 1100 \n",
       "L 3047 0 \n",
       "L 2419 0 \n",
       "L 2419 1100 \n",
       "L 313 1100 \n",
       "L 313 1709 \n",
       "L 2253 4666 \n",
       "z\n",
       "\" transform=\"scale(0.015625)\"/>\n",
       "       </defs>\n",
       "       <use xlink:href=\"#DejaVuSans-2212\"/>\n",
       "       <use xlink:href=\"#DejaVuSans-34\" x=\"83.789062\"/>\n",
       "      </g>\n",
       "     </g>\n",
       "    </g>\n",
       "    <g id=\"xtick_2\">\n",
       "     <g id=\"line2d_2\">\n",
       "      <g>\n",
       "       <use xlink:href=\"#mc6fa2c100c\" x=\"82.351523\" y=\"145.8\" style=\"stroke: #000000; stroke-width: 0.8\"/>\n",
       "      </g>\n",
       "     </g>\n",
       "     <g id=\"text_2\">\n",
       "      <!-- −2 -->\n",
       "      <g transform=\"translate(74.980429 160.398438) scale(0.1 -0.1)\">\n",
       "       <defs>\n",
       "        <path id=\"DejaVuSans-32\" d=\"M 1228 531 \n",
       "L 3431 531 \n",
       "L 3431 0 \n",
       "L 469 0 \n",
       "L 469 531 \n",
       "Q 828 903 1448 1529 \n",
       "Q 2069 2156 2228 2338 \n",
       "Q 2531 2678 2651 2914 \n",
       "Q 2772 3150 2772 3378 \n",
       "Q 2772 3750 2511 3984 \n",
       "Q 2250 4219 1831 4219 \n",
       "Q 1534 4219 1204 4116 \n",
       "Q 875 4013 500 3803 \n",
       "L 500 4441 \n",
       "Q 881 4594 1212 4672 \n",
       "Q 1544 4750 1819 4750 \n",
       "Q 2544 4750 2975 4387 \n",
       "Q 3406 4025 3406 3419 \n",
       "Q 3406 3131 3298 2873 \n",
       "Q 3191 2616 2906 2266 \n",
       "Q 2828 2175 2409 1742 \n",
       "Q 1991 1309 1228 531 \n",
       "z\n",
       "\" transform=\"scale(0.015625)\"/>\n",
       "       </defs>\n",
       "       <use xlink:href=\"#DejaVuSans-2212\"/>\n",
       "       <use xlink:href=\"#DejaVuSans-32\" x=\"83.789062\"/>\n",
       "      </g>\n",
       "     </g>\n",
       "    </g>\n",
       "    <g id=\"xtick_3\">\n",
       "     <g id=\"line2d_3\">\n",
       "      <g>\n",
       "       <use xlink:href=\"#mc6fa2c100c\" x=\"134.739428\" y=\"145.8\" style=\"stroke: #000000; stroke-width: 0.8\"/>\n",
       "      </g>\n",
       "     </g>\n",
       "     <g id=\"text_3\">\n",
       "      <!-- 0 -->\n",
       "      <g transform=\"translate(131.558178 160.398438) scale(0.1 -0.1)\">\n",
       "       <defs>\n",
       "        <path id=\"DejaVuSans-30\" d=\"M 2034 4250 \n",
       "Q 1547 4250 1301 3770 \n",
       "Q 1056 3291 1056 2328 \n",
       "Q 1056 1369 1301 889 \n",
       "Q 1547 409 2034 409 \n",
       "Q 2525 409 2770 889 \n",
       "Q 3016 1369 3016 2328 \n",
       "Q 3016 3291 2770 3770 \n",
       "Q 2525 4250 2034 4250 \n",
       "z\n",
       "M 2034 4750 \n",
       "Q 2819 4750 3233 4129 \n",
       "Q 3647 3509 3647 2328 \n",
       "Q 3647 1150 3233 529 \n",
       "Q 2819 -91 2034 -91 \n",
       "Q 1250 -91 836 529 \n",
       "Q 422 1150 422 2328 \n",
       "Q 422 3509 836 4129 \n",
       "Q 1250 4750 2034 4750 \n",
       "z\n",
       "\" transform=\"scale(0.015625)\"/>\n",
       "       </defs>\n",
       "       <use xlink:href=\"#DejaVuSans-30\"/>\n",
       "      </g>\n",
       "     </g>\n",
       "    </g>\n",
       "    <g id=\"xtick_4\">\n",
       "     <g id=\"line2d_4\">\n",
       "      <g>\n",
       "       <use xlink:href=\"#mc6fa2c100c\" x=\"187.127333\" y=\"145.8\" style=\"stroke: #000000; stroke-width: 0.8\"/>\n",
       "      </g>\n",
       "     </g>\n",
       "     <g id=\"text_4\">\n",
       "      <!-- 2 -->\n",
       "      <g transform=\"translate(183.946083 160.398438) scale(0.1 -0.1)\">\n",
       "       <use xlink:href=\"#DejaVuSans-32\"/>\n",
       "      </g>\n",
       "     </g>\n",
       "    </g>\n",
       "   </g>\n",
       "   <g id=\"matplotlib.axis_2\">\n",
       "    <g id=\"ytick_1\">\n",
       "     <g id=\"line2d_5\">\n",
       "      <defs>\n",
       "       <path id=\"mfab7fcf15a\" d=\"M 0 0 \n",
       "L -3.5 0 \n",
       "\" style=\"stroke: #000000; stroke-width: 0.8\"/>\n",
       "      </defs>\n",
       "      <g>\n",
       "       <use xlink:href=\"#mfab7fcf15a\" x=\"28.942188\" y=\"126.215973\" style=\"stroke: #000000; stroke-width: 0.8\"/>\n",
       "      </g>\n",
       "     </g>\n",
       "     <g id=\"text_5\">\n",
       "      <!-- −5 -->\n",
       "      <g transform=\"translate(7.2 130.015192) scale(0.1 -0.1)\">\n",
       "       <defs>\n",
       "        <path id=\"DejaVuSans-35\" d=\"M 691 4666 \n",
       "L 3169 4666 \n",
       "L 3169 4134 \n",
       "L 1269 4134 \n",
       "L 1269 2991 \n",
       "Q 1406 3038 1543 3061 \n",
       "Q 1681 3084 1819 3084 \n",
       "Q 2600 3084 3056 2656 \n",
       "Q 3513 2228 3513 1497 \n",
       "Q 3513 744 3044 326 \n",
       "Q 2575 -91 1722 -91 \n",
       "Q 1428 -91 1123 -41 \n",
       "Q 819 9 494 109 \n",
       "L 494 744 \n",
       "Q 775 591 1075 516 \n",
       "Q 1375 441 1709 441 \n",
       "Q 2250 441 2565 725 \n",
       "Q 2881 1009 2881 1497 \n",
       "Q 2881 1984 2565 2268 \n",
       "Q 2250 2553 1709 2553 \n",
       "Q 1456 2553 1204 2497 \n",
       "Q 953 2441 691 2322 \n",
       "L 691 4666 \n",
       "z\n",
       "\" transform=\"scale(0.015625)\"/>\n",
       "       </defs>\n",
       "       <use xlink:href=\"#DejaVuSans-2212\"/>\n",
       "       <use xlink:href=\"#DejaVuSans-35\" x=\"83.789062\"/>\n",
       "      </g>\n",
       "     </g>\n",
       "    </g>\n",
       "    <g id=\"ytick_2\">\n",
       "     <g id=\"line2d_6\">\n",
       "      <g>\n",
       "       <use xlink:href=\"#mfab7fcf15a\" x=\"28.942188\" y=\"100.90092\" style=\"stroke: #000000; stroke-width: 0.8\"/>\n",
       "      </g>\n",
       "     </g>\n",
       "     <g id=\"text_6\">\n",
       "      <!-- 0 -->\n",
       "      <g transform=\"translate(15.579688 104.700139) scale(0.1 -0.1)\">\n",
       "       <use xlink:href=\"#DejaVuSans-30\"/>\n",
       "      </g>\n",
       "     </g>\n",
       "    </g>\n",
       "    <g id=\"ytick_3\">\n",
       "     <g id=\"line2d_7\">\n",
       "      <g>\n",
       "       <use xlink:href=\"#mfab7fcf15a\" x=\"28.942188\" y=\"75.585867\" style=\"stroke: #000000; stroke-width: 0.8\"/>\n",
       "      </g>\n",
       "     </g>\n",
       "     <g id=\"text_7\">\n",
       "      <!-- 5 -->\n",
       "      <g transform=\"translate(15.579688 79.385086) scale(0.1 -0.1)\">\n",
       "       <use xlink:href=\"#DejaVuSans-35\"/>\n",
       "      </g>\n",
       "     </g>\n",
       "    </g>\n",
       "    <g id=\"ytick_4\">\n",
       "     <g id=\"line2d_8\">\n",
       "      <g>\n",
       "       <use xlink:href=\"#mfab7fcf15a\" x=\"28.942188\" y=\"50.270814\" style=\"stroke: #000000; stroke-width: 0.8\"/>\n",
       "      </g>\n",
       "     </g>\n",
       "     <g id=\"text_8\">\n",
       "      <!-- 10 -->\n",
       "      <g transform=\"translate(9.217188 54.070033) scale(0.1 -0.1)\">\n",
       "       <defs>\n",
       "        <path id=\"DejaVuSans-31\" d=\"M 794 531 \n",
       "L 1825 531 \n",
       "L 1825 4091 \n",
       "L 703 3866 \n",
       "L 703 4441 \n",
       "L 1819 4666 \n",
       "L 2450 4666 \n",
       "L 2450 531 \n",
       "L 3481 531 \n",
       "L 3481 0 \n",
       "L 794 0 \n",
       "L 794 531 \n",
       "z\n",
       "\" transform=\"scale(0.015625)\"/>\n",
       "       </defs>\n",
       "       <use xlink:href=\"#DejaVuSans-31\"/>\n",
       "       <use xlink:href=\"#DejaVuSans-30\" x=\"63.623047\"/>\n",
       "      </g>\n",
       "     </g>\n",
       "    </g>\n",
       "    <g id=\"ytick_5\">\n",
       "     <g id=\"line2d_9\">\n",
       "      <g>\n",
       "       <use xlink:href=\"#mfab7fcf15a\" x=\"28.942188\" y=\"24.955761\" style=\"stroke: #000000; stroke-width: 0.8\"/>\n",
       "      </g>\n",
       "     </g>\n",
       "     <g id=\"text_9\">\n",
       "      <!-- 15 -->\n",
       "      <g transform=\"translate(9.217188 28.754979) scale(0.1 -0.1)\">\n",
       "       <use xlink:href=\"#DejaVuSans-31\"/>\n",
       "       <use xlink:href=\"#DejaVuSans-35\" x=\"63.623047\"/>\n",
       "      </g>\n",
       "     </g>\n",
       "    </g>\n",
       "   </g>\n",
       "   <g id=\"patch_3\">\n",
       "    <path d=\"M 28.942188 145.8 \n",
       "L 28.942188 7.2 \n",
       "\" style=\"fill: none; stroke: #000000; stroke-width: 0.8; stroke-linejoin: miter; stroke-linecap: square\"/>\n",
       "   </g>\n",
       "   <g id=\"patch_4\">\n",
       "    <path d=\"M 224.242188 145.8 \n",
       "L 224.242188 7.2 \n",
       "\" style=\"fill: none; stroke: #000000; stroke-width: 0.8; stroke-linejoin: miter; stroke-linecap: square\"/>\n",
       "   </g>\n",
       "   <g id=\"patch_5\">\n",
       "    <path d=\"M 28.942187 145.8 \n",
       "L 224.242188 145.8 \n",
       "\" style=\"fill: none; stroke: #000000; stroke-width: 0.8; stroke-linejoin: miter; stroke-linecap: square\"/>\n",
       "   </g>\n",
       "   <g id=\"patch_6\">\n",
       "    <path d=\"M 28.942187 7.2 \n",
       "L 224.242188 7.2 \n",
       "\" style=\"fill: none; stroke: #000000; stroke-width: 0.8; stroke-linejoin: miter; stroke-linecap: square\"/>\n",
       "   </g>\n",
       "  </g>\n",
       " </g>\n",
       " <defs>\n",
       "  <clipPath id=\"pcff767fab6\">\n",
       "   <rect x=\"28.942188\" y=\"7.2\" width=\"195.3\" height=\"138.6\"/>\n",
       "  </clipPath>\n",
       " </defs>\n",
       "</svg>\n"
      ],
      "text/plain": [
       "<Figure size 350x250 with 1 Axes>"
      ]
     },
     "metadata": {},
     "output_type": "display_data"
    }
   ],
   "source": [
    "d2l.set_figsize()\n",
    "# The semicolon is for displaying the plot only\n",
    "d2l.plt.scatter(features[:, (1)].detach().numpy(),\n",
    "                labels.detach().numpy(), 1);"
   ]
  },
  {
   "cell_type": "markdown",
   "metadata": {
    "id": "iAg2n5j7eXId",
    "origin_pos": 12
   },
   "source": [
    "## Reading the Dataset from scratch\n",
    "\n",
    "Recall that training models consists of\n",
    "making multiple passes over the dataset,\n",
    "grabbing one minibatch of examples at a time,\n",
    "and using them to update our model.\n",
    "Since this process is so fundamental\n",
    "to training machine learning algorithms,\n",
    "it is worth defining a utility function\n",
    "to shuffle the dataset and access it in minibatches.\n",
    "\n",
    "In the following code, we **define the `data_iter` function**\n",
    "to demonstrate one possible implementation of this functionality.\n",
    "The function **takes a batch size, a matrix of features,\n",
    "and a vector of labels, yielding minibatches of the size `batch_size`.**\n",
    "Each minibatch consists of a tuple of features and labels.\n",
    "\n",
    "To understand the code below the following link might help you https://stackoverflow.com/questions/231767/what-does-the-yield-keyword-do\n"
   ]
  },
  {
   "cell_type": "code",
   "execution_count": 5,
   "metadata": {
    "id": "e35xS11eeXIe",
    "origin_pos": 13,
    "tab": [
     "pytorch"
    ]
   },
   "outputs": [],
   "source": [
    "def data_iter_scratch(batch_size, features, labels):\n",
    "    num_examples = len(features)\n",
    "    indices = list(range(num_examples))\n",
    "    # The examples are read at random, in no particular order\n",
    "    random.shuffle(indices)\n",
    "    for i in range(0, num_examples, batch_size):\n",
    "        batch_indices = torch.tensor(indices[i:min(i +\n",
    "                                                   batch_size, num_examples)])\n",
    "        yield features[batch_indices], labels[batch_indices]"
   ]
  },
  {
   "cell_type": "markdown",
   "metadata": {
    "id": "ZtUQjuJ4eXIe",
    "origin_pos": 15
   },
   "source": [
    "In general, note that we want to use reasonably sized minibatches\n",
    "to take advantage of the GPU hardware,\n",
    "which excels at parallelizing operations.\n",
    "Because each example can be fed through our models in parallel\n",
    "and the gradient of the loss function for each example can also be taken in parallel,\n",
    "GPUs allow us to process hundreds of examples in scarcely more time\n",
    "than it might take to process just a single example.\n",
    "\n",
    "To build some intuition, let us read and print\n",
    "the first small batch of data examples.\n",
    "The shape of the features in each minibatch tells us\n",
    "both the minibatch size and the number of input features.\n",
    "Likewise, our minibatch of labels will have a shape given by `batch_size`.\n"
   ]
  },
  {
   "cell_type": "code",
   "execution_count": 6,
   "metadata": {
    "colab": {
     "base_uri": "https://localhost:8080/"
    },
    "id": "1COMm66JeXIf",
    "origin_pos": 16,
    "outputId": "63ea5f65-2bd2-4482-f98d-bb9a30e7b8b9",
    "tab": [
     "pytorch"
    ]
   },
   "outputs": [
    {
     "name": "stdout",
     "output_type": "stream",
     "text": [
      "tensor([[ 1.1346, -0.2633],\n",
      "        [ 0.9618, -0.1922],\n",
      "        [ 0.9290, -1.1503],\n",
      "        [-0.2494, -0.8293],\n",
      "        [ 1.0143, -1.3532],\n",
      "        [-0.4323, -0.8982],\n",
      "        [ 0.1002,  2.2140],\n",
      "        [ 1.2674, -1.4335],\n",
      "        [-0.4833,  1.3193],\n",
      "        [ 1.6646, -1.7365]]) \n",
      " tensor([[ 7.3584],\n",
      "        [ 6.7726],\n",
      "        [ 9.9876],\n",
      "        [ 6.5194],\n",
      "        [10.8384],\n",
      "        [ 6.3945],\n",
      "        [-3.1224],\n",
      "        [11.6029],\n",
      "        [-1.2461],\n",
      "        [13.4269]])\n"
     ]
    }
   ],
   "source": [
    "batch_size = 10\n",
    "\n",
    "for X_scratch, y_scratch in data_iter_scratch(batch_size, features, labels):\n",
    "    print(X_scratch, '\\n', y_scratch)\n",
    "    break"
   ]
  },
  {
   "cell_type": "markdown",
   "metadata": {
    "id": "s-9qU6vfuuw1"
   },
   "source": [
    "The iteration implemented from the scratch is good for didactic purposes,\n",
    "it is inefficient in ways that might get us in trouble on real problems.\n",
    "For example, it requires that we load all the data in memory\n",
    "and that we perform lots of random memory access.\n",
    "The built-in iterators implemented in a deep learning framework\n",
    "are considerably more efficient and they can deal\n",
    "with both data stored in files and data fed via data streams."
   ]
  },
  {
   "cell_type": "markdown",
   "metadata": {
    "id": "qnEx9U14ediP",
    "origin_pos": 5
   },
   "source": [
    "## Reading the Dataset in a concise way\n",
    "\n",
    "Rather than rolling our own iterator,\n",
    "we can **call upon the existing API in a framework to read data.**\n",
    "We pass in `features` and `labels` as arguments and specify `batch_size`\n",
    "when instantiating a data iterator object.\n",
    "Besides, the boolean value `is_train`\n",
    "indicates whether or not\n",
    "we want the data iterator object to shuffle the data\n",
    "on each epoch (pass through the dataset).\n"
   ]
  },
  {
   "cell_type": "code",
   "execution_count": 7,
   "metadata": {
    "id": "1M2YG_2xediP",
    "origin_pos": 7,
    "tab": [
     "pytorch"
    ]
   },
   "outputs": [],
   "source": [
    "def load_array(data_arrays, batch_size, is_train=True):\n",
    "    \"\"\"Construct a PyTorch data iterator.\"\"\"\n",
    "    dataset = torch.utils.data.TensorDataset(*data_arrays)\n",
    "    return torch.utils.data.DataLoader(dataset, batch_size, shuffle=is_train)"
   ]
  },
  {
   "cell_type": "code",
   "execution_count": 8,
   "metadata": {
    "id": "5B6rfyYHediQ",
    "origin_pos": 9,
    "tab": [
     "pytorch"
    ]
   },
   "outputs": [],
   "source": [
    "batch_size = 10\n",
    "data_iter = load_array((features, labels), batch_size)"
   ]
  },
  {
   "cell_type": "markdown",
   "metadata": {
    "id": "l3vgm4MmediR",
    "origin_pos": 10
   },
   "source": [
    "Now we can use `data_iter` in much the same way as we called\n",
    "the `data_iter` function in our implementation from the scratch.\n",
    "To verify that it is working, we can read and print\n",
    "the first minibatch of examples.\n",
    "Comparing with the implementation from the scratch,\n",
    "here we use `iter` to construct a Python iterator and use `next` to obtain the first item from the iterator.\n"
   ]
  },
  {
   "cell_type": "code",
   "execution_count": 9,
   "metadata": {
    "colab": {
     "base_uri": "https://localhost:8080/"
    },
    "id": "zv37eepuediR",
    "origin_pos": 11,
    "outputId": "de485deb-5a97-446f-b670-2350e94e845a",
    "tab": [
     "pytorch"
    ]
   },
   "outputs": [
    {
     "data": {
      "text/plain": [
       "[tensor([[ 0.3814, -0.6740],\n",
       "         [-1.0692,  0.3162],\n",
       "         [-1.5249,  0.3441],\n",
       "         [-0.8713, -0.5164],\n",
       "         [-2.4478, -0.4175],\n",
       "         [-0.5976,  0.0335],\n",
       "         [ 0.4571, -1.9998],\n",
       "         [ 0.5519,  0.3742],\n",
       "         [ 0.4438,  1.5586],\n",
       "         [-1.0905,  1.4954]]),\n",
       " tensor([[ 7.2618],\n",
       "         [ 0.9879],\n",
       "         [-0.0246],\n",
       "         [ 4.2150],\n",
       "         [ 0.7288],\n",
       "         [ 2.8838],\n",
       "         [11.8965],\n",
       "         [ 4.0186],\n",
       "         [-0.1987],\n",
       "         [-3.0645]])]"
      ]
     },
     "execution_count": 9,
     "metadata": {},
     "output_type": "execute_result"
    }
   ],
   "source": [
    "next(iter(data_iter))"
   ]
  },
  {
   "cell_type": "markdown",
   "metadata": {
    "id": "xnhqOR6ReXIf",
    "origin_pos": 17
   },
   "source": [
    "## Initializing Model Parameters from the scratch\n",
    "\n",
    "**Before we can begin optimizing our model's parameters** by minibatch stochastic gradient descent,\n",
    "**we need to have some parameters in the first place.**\n",
    "In the following code, we initialize weights by sampling\n",
    "random numbers from a normal distribution with mean 0\n",
    "and a standard deviation of 0.01, and setting the bias to 0.\n"
   ]
  },
  {
   "cell_type": "code",
   "execution_count": 10,
   "metadata": {
    "id": "Tdf-GUjJeXIf",
    "origin_pos": 19,
    "tab": [
     "pytorch"
    ]
   },
   "outputs": [],
   "source": [
    "w = torch.normal(0, 0.01, size=(2, 1), requires_grad=True)\n",
    "b = torch.zeros(1, requires_grad=True)"
   ]
  },
  {
   "cell_type": "markdown",
   "metadata": {
    "id": "Wuj76YMoeXIg",
    "origin_pos": 21
   },
   "source": [
    "After initializing our parameters,\n",
    "our next task is to update them until\n",
    "they fit our data sufficiently well.\n",
    "Each update requires taking the gradient\n",
    "of our loss function with respect to the parameters.\n",
    "Given this gradient, we can update each parameter\n",
    "in the direction that may reduce the loss.\n",
    "\n",
    "Since nobody wants to compute gradients explicitly\n",
    "(this is tedious and error prone),\n",
    "we use automatic differentiation to compute the gradient.\n",
    "\n",
    "\n",
    "## Defining the Model from the scratch\n",
    "\n",
    "Next, we must **define our model,\n",
    "relating its inputs and parameters to its outputs.**\n",
    "Recall that to calculate the output of the linear model,\n",
    "we simply take the matrix-vector dot product\n",
    "of the input features $\\mathbf{X}$ and the model weights $\\mathbf{w}$,\n",
    "and add the offset $b$ to each example.\n",
    "Note that below $\\mathbf{Xw}$  is a vector and $b$ is a scalar.\n",
    "Recall the broadcasting mechanism.\n",
    "When we add a vector and a scalar,\n",
    "the scalar is added to each component of the vector.\n"
   ]
  },
  {
   "cell_type": "code",
   "execution_count": 11,
   "metadata": {
    "id": "mXnI9CyoeXIg",
    "origin_pos": 22,
    "tab": [
     "pytorch"
    ]
   },
   "outputs": [],
   "source": [
    "def linreg(X, w, b):\n",
    "    \"\"\"The linear regression model.\"\"\"\n",
    "    return torch.matmul(X, w) + b"
   ]
  },
  {
   "cell_type": "markdown",
   "metadata": {
    "id": "GOuWlsuMediS",
    "origin_pos": 12
   },
   "source": [
    "## Defining the Model in a concise way\n",
    "\n",
    "When we implemented linear regression from scratch,\n",
    "we defined our model parameters explicitly\n",
    "and coded up the calculations to produce output\n",
    "using basic linear algebra operations.\n",
    "You *should* know how to do this.\n",
    "But once your models get more complex,\n",
    "and once you have to do this nearly every day,\n",
    "you will be glad for the assistance.\n",
    "The situation is similar to coding up your own blog from scratch.\n",
    "Doing it once or twice is rewarding and instructive,\n",
    "but you would be a lousy web developer\n",
    "if every time you needed a blog you spent a month\n",
    "reinventing the wheel.\n",
    "\n",
    "For standard operations, we can **use a framework's predefined layers,**\n",
    "which allow us to focus especially\n",
    "on the layers used to construct the model\n",
    "rather than having to focus on the implementation.\n",
    "We will first define a model variable `net`,\n",
    "which will refer to an instance of the `Sequential` class.\n",
    "The `Sequential` class defines a container\n",
    "for several layers that will be chained together.\n",
    "Given input data, a `Sequential` instance passes it through\n",
    "the first layer, in turn passing the output\n",
    "as the second layer's input and so forth.\n",
    "In the following example, our model consists of only one layer,\n",
    "so we do not really need `Sequential`.\n",
    "But since nearly all of our future models\n",
    "will involve multiple layers,\n",
    "we will use it anyway just to familiarize you\n",
    "with the most standard workflow.\n",
    "\n",
    "Recall the architecture of a single-layer network.\n",
    "The layer is said to be *fully-connected*\n",
    "because each of its inputs is connected to each of its outputs\n",
    "by means of a matrix-vector multiplication.\n"
   ]
  },
  {
   "cell_type": "markdown",
   "metadata": {
    "id": "xkw9tHywediT",
    "origin_pos": 14,
    "tab": [
     "pytorch"
    ]
   },
   "source": [
    "In PyTorch, the fully-connected layer is defined in the `Linear` class. Note that we passed two arguments into `nn.Linear`. The first one specifies the input feature dimension, which is 2, and the second one is the output feature dimension, which is a single scalar and therefore 1.\n"
   ]
  },
  {
   "cell_type": "code",
   "execution_count": 12,
   "metadata": {
    "id": "UgKdoMCNediT",
    "origin_pos": 17,
    "tab": [
     "pytorch"
    ]
   },
   "outputs": [],
   "source": [
    "# `nn` is an abbreviation for neural networks\n",
    "from torch import nn\n",
    "\n",
    "net = nn.Sequential(nn.Linear(2, 1))"
   ]
  },
  {
   "cell_type": "markdown",
   "metadata": {
    "id": "4hW4C0IqediU",
    "origin_pos": 19
   },
   "source": [
    "## Initializing Model Parameters in a concise way\n",
    "\n",
    "Before using `net`, we need to **initialize the model parameters,**\n",
    "such as the weights and bias in the linear regression model.\n",
    "Deep learning frameworks often have a predefined way to initialize the parameters.\n",
    "Here we specify that each weight parameter\n",
    "should be randomly sampled from a normal distribution\n",
    "with mean 0 and standard deviation 0.01.\n",
    "The bias parameter will be initialized to zero.\n"
   ]
  },
  {
   "cell_type": "markdown",
   "metadata": {
    "id": "mpouVZKvediV",
    "origin_pos": 21,
    "tab": [
     "pytorch"
    ]
   },
   "source": [
    "As we have specified the input and output dimensions when constructing `nn.Linear`,\n",
    "now we can access the parameters directly to specify their initial values.\n",
    "We first locate the layer by `net[0]`, which is the first layer in the network,\n",
    "and then use the `weight.data` and `bias.data` methods to access the parameters.\n",
    "Next we use the replace methods `normal_` and `fill_` to overwrite parameter values.\n"
   ]
  },
  {
   "cell_type": "code",
   "execution_count": 13,
   "metadata": {
    "colab": {
     "base_uri": "https://localhost:8080/"
    },
    "id": "CKdEtUYSediW",
    "origin_pos": 24,
    "outputId": "a348c9be-5d05-4aa1-a960-f920b584ba02",
    "tab": [
     "pytorch"
    ]
   },
   "outputs": [
    {
     "data": {
      "text/plain": [
       "tensor([0.])"
      ]
     },
     "execution_count": 13,
     "metadata": {},
     "output_type": "execute_result"
    }
   ],
   "source": [
    "net[0].weight.data.normal_(0, 0.01)\n",
    "net[0].bias.data.fill_(0)"
   ]
  },
  {
   "cell_type": "markdown",
   "metadata": {
    "id": "38nJGVuJeXIi",
    "origin_pos": 23
   },
   "source": [
    "## Defining the Loss Function from the scratch\n",
    "\n",
    "Since **updating our model requires taking\n",
    "the gradient of our loss function,**\n",
    "we ought to **define the loss function first.**\n",
    "Here we will use the squared loss function.\n",
    "In the implementation, we need to transform the true value `y`\n",
    "into the predicted value's shape `y_hat`.\n",
    "The result returned by the following function\n",
    "will also have the same shape as `y_hat`.\n"
   ]
  },
  {
   "cell_type": "code",
   "execution_count": 14,
   "metadata": {
    "id": "Ik20R1bneXIi",
    "origin_pos": 24,
    "tab": [
     "pytorch"
    ]
   },
   "outputs": [],
   "source": [
    "def squared_loss(y_hat, y):\n",
    "    \"\"\"Squared loss.\"\"\"\n",
    "    return (y_hat - y.reshape(y_hat.shape))**2 / 2"
   ]
  },
  {
   "cell_type": "markdown",
   "metadata": {
    "id": "EHZHaNRgediW",
    "origin_pos": 29
   },
   "source": [
    "## Defining the Loss Function in a concise way\n"
   ]
  },
  {
   "cell_type": "markdown",
   "metadata": {
    "id": "bQWMY6ByediW",
    "origin_pos": 31,
    "tab": [
     "pytorch"
    ]
   },
   "source": [
    "**The `MSELoss` class computes the mean squared error, also known as squared $L_2$ norm.**\n",
    "By default it returns the average loss over examples.\n"
   ]
  },
  {
   "cell_type": "code",
   "execution_count": 15,
   "metadata": {
    "id": "q0UTknypediX",
    "origin_pos": 34,
    "tab": [
     "pytorch"
    ]
   },
   "outputs": [],
   "source": [
    "loss = nn.MSELoss()"
   ]
  },
  {
   "cell_type": "markdown",
   "metadata": {
    "id": "1lwioLUvNRGV",
    "origin_pos": 0
   },
   "source": [
    "# Excurse Automatic Differentiation\n",
    "\n",
    "Differentiation is a crucial step in nearly all deep learning optimization algorithms.\n",
    "While the calculations for taking these derivatives are straightforward,\n",
    "requiring only some basic calculus,\n",
    "for complex models, working out the updates by hand\n",
    "can be a pain (and often error-prone).\n",
    "\n",
    "Deep learning frameworks expedite this work\n",
    "by automatically calculating derivatives, i.e., *automatic differentiation*.\n",
    "In practice,\n",
    "based on our designed model\n",
    "the system builds a *computational graph*,\n",
    "tracking which data combined through\n",
    "which operations to produce the output.\n",
    "Automatic differentiation enables the system to subsequently backpropagate gradients.\n",
    "Here, *backpropagate* simply means to trace through the computational graph,\n",
    "filling in the partial derivatives with respect to each parameter.\n",
    "\n",
    "\n",
    "## A Simple Example\n",
    "\n",
    "As a toy example, say that we are interested\n",
    "in **differentiating the function\n",
    "$y = 2\\mathbf{x}^{\\top}\\mathbf{x}$\n",
    "with respect to the column vector $\\mathbf{x}$.**\n",
    "To start, let us create the variable `x` and assign it an initial value.\n"
   ]
  },
  {
   "cell_type": "code",
   "execution_count": 16,
   "metadata": {
    "colab": {
     "base_uri": "https://localhost:8080/"
    },
    "id": "Dto7eUiuNRGd",
    "origin_pos": 2,
    "outputId": "51bb29b5-ab4d-4152-8a37-62a350cdf524",
    "tab": [
     "pytorch"
    ]
   },
   "outputs": [
    {
     "data": {
      "text/plain": [
       "tensor([0., 1., 2., 3.])"
      ]
     },
     "execution_count": 16,
     "metadata": {},
     "output_type": "execute_result"
    }
   ],
   "source": [
    "x = torch.arange(4.0)\n",
    "x"
   ]
  },
  {
   "cell_type": "markdown",
   "metadata": {
    "id": "_KLIumd8NRGh",
    "origin_pos": 4
   },
   "source": [
    "**Before we even calculate the gradient\n",
    "of $y$ with respect to $\\mathbf{x}$,\n",
    "we will need a place to store it.**\n",
    "It is important that we do not allocate new memory\n",
    "every time we take a derivative with respect to a parameter\n",
    "because we will often update the same parameters\n",
    "thousands or millions of times\n",
    "and could quickly run out of memory.\n",
    "Note that a gradient of a scalar-valued function\n",
    "with respect to a vector $\\mathbf{x}$\n",
    "is itself vector-valued and has the same shape as $\\mathbf{x}$.\n"
   ]
  },
  {
   "cell_type": "code",
   "execution_count": 17,
   "metadata": {
    "id": "dYHy1IjgNRGm",
    "origin_pos": 6,
    "tab": [
     "pytorch"
    ]
   },
   "outputs": [],
   "source": [
    "x.requires_grad_(True)  # Same as `x = torch.arange(4.0, requires_grad=True)`\n",
    "x.grad  # The default value is None"
   ]
  },
  {
   "cell_type": "markdown",
   "metadata": {
    "id": "gqQ6pDriNRGo",
    "origin_pos": 8
   },
   "source": [
    "**Now let us calculate $y$.**\n"
   ]
  },
  {
   "cell_type": "code",
   "execution_count": 18,
   "metadata": {
    "colab": {
     "base_uri": "https://localhost:8080/"
    },
    "id": "NSps9QGANRGq",
    "origin_pos": 10,
    "outputId": "abba39dc-cc1a-4691-cb53-a486316286e1",
    "tab": [
     "pytorch"
    ]
   },
   "outputs": [
    {
     "data": {
      "text/plain": [
       "tensor(28., grad_fn=<MulBackward0>)"
      ]
     },
     "execution_count": 18,
     "metadata": {},
     "output_type": "execute_result"
    }
   ],
   "source": [
    "y = 2 * torch.dot(x, x)\n",
    "y"
   ]
  },
  {
   "cell_type": "markdown",
   "metadata": {
    "id": "432kc8jINRGs",
    "origin_pos": 12
   },
   "source": [
    "Since `x` is a vector of length 4,\n",
    "an dot product of `x` and `x` is performed,\n",
    "yielding the scalar output that we assign to `y`.\n",
    "Next, **we can automatically calculate the gradient of `y`\n",
    "with respect to each component of `x`**\n",
    "by calling the function for backpropagation and printing the gradient.\n"
   ]
  },
  {
   "cell_type": "code",
   "execution_count": 19,
   "metadata": {
    "colab": {
     "base_uri": "https://localhost:8080/"
    },
    "id": "HKIWaUibNRGt",
    "origin_pos": 14,
    "outputId": "20adec67-f119-4891-ffa4-900d203a8cb7",
    "tab": [
     "pytorch"
    ]
   },
   "outputs": [
    {
     "data": {
      "text/plain": [
       "tensor([ 0.,  4.,  8., 12.])"
      ]
     },
     "execution_count": 19,
     "metadata": {},
     "output_type": "execute_result"
    }
   ],
   "source": [
    "y.backward()\n",
    "x.grad"
   ]
  },
  {
   "cell_type": "markdown",
   "metadata": {
    "id": "yHJi16YbNRGv",
    "origin_pos": 16
   },
   "source": [
    "**The gradient of the function $y = 2\\mathbf{x}^{\\top}\\mathbf{x}$\n",
    "with respect to $\\mathbf{x}$ should be $4\\mathbf{x}$.**\n",
    "Let us quickly verify that our desired gradient was calculated correctly.\n"
   ]
  },
  {
   "cell_type": "code",
   "execution_count": 20,
   "metadata": {
    "colab": {
     "base_uri": "https://localhost:8080/"
    },
    "id": "-1uqYXgyNRGy",
    "origin_pos": 18,
    "outputId": "3378521b-5670-43f6-b3e0-318ac71ad3b5",
    "tab": [
     "pytorch"
    ]
   },
   "outputs": [
    {
     "data": {
      "text/plain": [
       "tensor([True, True, True, True])"
      ]
     },
     "execution_count": 20,
     "metadata": {},
     "output_type": "execute_result"
    }
   ],
   "source": [
    "x.grad == 4 * x"
   ]
  },
  {
   "cell_type": "markdown",
   "metadata": {
    "id": "7iqvzNB4NRG0",
    "origin_pos": 20
   },
   "source": [
    "**Now let us calculate another function of `x`.**"
   ]
  },
  {
   "cell_type": "code",
   "execution_count": 21,
   "metadata": {
    "colab": {
     "base_uri": "https://localhost:8080/"
    },
    "id": "K_4HwJjsNRG1",
    "origin_pos": 22,
    "outputId": "400018b6-b53f-4cdb-bb9b-c5f5244e85f7",
    "tab": [
     "pytorch"
    ]
   },
   "outputs": [
    {
     "data": {
      "text/plain": [
       "tensor([1., 1., 1., 1.])"
      ]
     },
     "execution_count": 21,
     "metadata": {},
     "output_type": "execute_result"
    }
   ],
   "source": [
    "# PyTorch accumulates the gradient in default, we need to clear the previous\n",
    "# values\n",
    "x.grad.zero_()\n",
    "y = x.sum()\n",
    "y.backward()\n",
    "x.grad"
   ]
  },
  {
   "cell_type": "markdown",
   "metadata": {
    "id": "7YgGDYokNRG3",
    "origin_pos": 24
   },
   "source": [
    "## Backward for Non-Scalar Variables\n",
    "\n",
    "Technically, when `y` is not a scalar,\n",
    "the most natural interpretation of the differentiation of a vector `y`\n",
    "with respect to a vector `x` is a matrix.\n",
    "For higher-order and higher-dimensional `y` and `x`,\n",
    "the differentiation result could be a high-order tensor.\n",
    "\n",
    "However, while these more exotic objects do show up\n",
    "in advanced machine learning (including **in deep learning**),\n",
    "more often **when we are calling backward on a vector,**\n",
    "we are trying to calculate the derivatives of the loss functions\n",
    "for each constituent of a *batch* of training examples.\n",
    "Here, **our intent is** not to calculate the differentiation matrix\n",
    "but rather **the sum of the partial derivatives\n",
    "computed individually for each example** in the batch.\n"
   ]
  },
  {
   "cell_type": "code",
   "execution_count": 22,
   "metadata": {
    "colab": {
     "base_uri": "https://localhost:8080/"
    },
    "id": "kbPzCFZfNRG4",
    "origin_pos": 26,
    "outputId": "6716c8ef-4ff3-4008-f6c1-c23f68a52e89",
    "tab": [
     "pytorch"
    ]
   },
   "outputs": [
    {
     "data": {
      "text/plain": [
       "tensor([0., 2., 4., 6.])"
      ]
     },
     "execution_count": 22,
     "metadata": {},
     "output_type": "execute_result"
    }
   ],
   "source": [
    "# Invoking `backward` on a non-scalar requires passing in a `gradient` argument\n",
    "# which specifies the gradient of the differentiated function w.r.t `self`.\n",
    "# In our case, we simply want to sum the partial derivatives, so passing\n",
    "# in a gradient of ones is appropriate\n",
    "x.grad.zero_()\n",
    "y = x * x\n",
    "# y.backward(torch.ones(len(x))) equivalent to the below\n",
    "y.sum().backward()\n",
    "x.grad"
   ]
  },
  {
   "cell_type": "markdown",
   "metadata": {
    "id": "PaiyiqZSRxPr"
   },
   "source": [
    "# End of Excurse"
   ]
  },
  {
   "cell_type": "markdown",
   "metadata": {
    "id": "grg71f8ONBdO",
    "origin_pos": 25
   },
   "source": [
    "## Defining the Optimization Algorithm from the scratch\n",
    "\n",
    "As we discussed, linear regression has a closed-form solution.\n",
    "However, this is not a book about linear regression:\n",
    "it is a book about deep learning.\n",
    "Since none of the other models that this book introduces\n",
    "can be solved analytically, we will take this opportunity to introduce your first working example of\n",
    "minibatch stochastic gradient descent.\n",
    "\n",
    "At each step, using one minibatch randomly drawn from our dataset,\n",
    "we will estimate the gradient of the loss with respect to our parameters.\n",
    "Next, we will update our parameters\n",
    "in the direction that may reduce the loss.\n",
    "The following code applies the minibatch stochastic gradient descent update,\n",
    "given a set of parameters, a learning rate, and a batch size.\n",
    "The size of the update step is determined by the learning rate `lr`.\n",
    "Because our loss is calculated as a sum over the minibatch of examples,\n",
    "we normalize our step size by the batch size (`batch_size`),\n",
    "so that the magnitude of a typical step size\n",
    "does not depend heavily on our choice of the batch size.\n"
   ]
  },
  {
   "cell_type": "code",
   "execution_count": 23,
   "metadata": {
    "id": "8jVUkDOdNBdO",
    "origin_pos": 27,
    "tab": [
     "pytorch"
    ]
   },
   "outputs": [],
   "source": [
    "def sgd(params, lr, batch_size):\n",
    "    \"\"\"Minibatch stochastic gradient descent.\"\"\"\n",
    "    with torch.no_grad():\n",
    "        for param in params:\n",
    "            param -= lr * param.grad / batch_size\n",
    "            param.grad.zero_()"
   ]
  },
  {
   "cell_type": "markdown",
   "metadata": {
    "id": "1s3-gu1fa-ml"
   },
   "source": [
    "It is necessary to use torch.no_grad() here, because in python it is not possible to do in-place operations like -= or += on variables with requires_grad=True. You can find more information here https://discuss.pytorch.org/t/leaf-variable-was-used-in-an-inplace-operation/308/2"
   ]
  },
  {
   "cell_type": "markdown",
   "metadata": {
    "id": "z5HuiA5yNBdP",
    "origin_pos": 29
   },
   "source": [
    "## Training from the scratch\n",
    "\n",
    "Now that we have all of the parts in place,\n",
    "we are ready to **implement the main training loop.**\n",
    "It is crucial that you understand this code\n",
    "because you will see nearly identical training loops\n",
    "over and over again throughout your career in deep learning.\n",
    "\n",
    "In each iteration, we will grab a minibatch of training examples,\n",
    "and pass them through our model to obtain a set of predictions.\n",
    "After calculating the loss, we initiate the backwards pass through the network,\n",
    "storing the gradients with respect to each parameter.\n",
    "Finally, we will call the optimization algorithm `sgd`\n",
    "to update the model parameters.\n",
    "\n",
    "In summary, we will execute the following loop:\n",
    "\n",
    "* Initialize parameters $(\\mathbf{w}, b)$\n",
    "* Repeat until done\n",
    "    * Compute gradient $\\mathbf{g} \\leftarrow \\partial_{(\\mathbf{w},b)} \\frac{1}{|\\mathcal{B}|} \\sum_{i \\in \\mathcal{B}} l(\\mathbf{x}^{(i)}, y^{(i)}, \\mathbf{w}, b)$\n",
    "    * Update parameters $(\\mathbf{w}, b) \\leftarrow (\\mathbf{w}, b) - \\eta \\mathbf{g}$\n",
    "\n",
    "In each *epoch*,\n",
    "we will iterate through the entire dataset\n",
    "(using the `data_iter` function) once\n",
    "passing through every example in the training dataset\n",
    "(assuming that the number of examples is divisible by the batch size).\n",
    "The number of epochs `num_epochs` and the learning rate `lr` are both hyperparameters,\n",
    "which we set here to 3 and 0.03, respectively.\n",
    "Unfortunately, setting hyperparameters is tricky\n",
    "and requires some adjustment by trial and error.\n",
    "We elide these details for now but revise them\n",
    "later.\n"
   ]
  },
  {
   "cell_type": "code",
   "execution_count": 24,
   "metadata": {
    "id": "s6KeBnKuNBdP",
    "origin_pos": 30,
    "tab": [
     "pytorch"
    ]
   },
   "outputs": [],
   "source": [
    "lr = 0.03\n",
    "num_epochs = 3\n",
    "network = linreg"
   ]
  },
  {
   "cell_type": "code",
   "execution_count": 25,
   "metadata": {
    "colab": {
     "base_uri": "https://localhost:8080/"
    },
    "id": "I36zKNMENBdQ",
    "origin_pos": 32,
    "outputId": "d695b838-0084-4b84-9bf8-cb9704395b9f",
    "tab": [
     "pytorch"
    ]
   },
   "outputs": [
    {
     "name": "stdout",
     "output_type": "stream",
     "text": [
      "epoch 1, loss 0.037487\n",
      "epoch 2, loss 0.000138\n",
      "epoch 3, loss 0.000051\n"
     ]
    }
   ],
   "source": [
    "for epoch in range(num_epochs):\n",
    "    for X, y in data_iter_scratch(batch_size, features, labels):\n",
    "        l = squared_loss(network(X, w, b), y)  # Minibatch loss in `X` and `y`\n",
    "        # Compute gradient on `l` with respect to [`w`, `b`]\n",
    "        l.sum().backward()\n",
    "        sgd([w, b], lr, batch_size)  # Update parameters using their gradient\n",
    "    with torch.no_grad(): # This is kind of a validation - we compute the loss on all features to see, how accurate is our performance\n",
    "    #we don't want to backpropagte throuth this loss - therefore we need the torch.no_grad() statement\n",
    "        train_l = squared_loss(network(features, w, b), labels)\n",
    "        print(f'epoch {epoch + 1}, loss {float(train_l.mean()):f}')"
   ]
  },
  {
   "cell_type": "markdown",
   "metadata": {
    "id": "f3c0QBnvNBdQ",
    "origin_pos": 34
   },
   "source": [
    "In this case, because we synthesized the dataset ourselves,\n",
    "we know precisely what the true parameters are.\n",
    "Thus, we can **evaluate our success in training\n",
    "by comparing the true parameters\n",
    "with those that we learned** through our training loop.\n",
    "Indeed they turn out to be very close to each other.\n"
   ]
  },
  {
   "cell_type": "code",
   "execution_count": 26,
   "metadata": {
    "colab": {
     "base_uri": "https://localhost:8080/"
    },
    "id": "Qd6X84I0NBdR",
    "origin_pos": 35,
    "outputId": "867dd2af-25fc-4e57-f0b2-6f67dee1ac5c",
    "tab": [
     "pytorch"
    ]
   },
   "outputs": [
    {
     "name": "stdout",
     "output_type": "stream",
     "text": [
      "error in estimating w: tensor([-0.0002, -0.0005], grad_fn=<SubBackward0>)\n",
      "error in estimating b: tensor([6.8665e-05], grad_fn=<RsubBackward1>)\n"
     ]
    }
   ],
   "source": [
    "print(f'error in estimating w: {true_w - w.reshape(true_w.shape)}')\n",
    "print(f'error in estimating b: {true_b - b}')"
   ]
  },
  {
   "cell_type": "markdown",
   "metadata": {
    "id": "XuRmp1gUNBdR",
    "origin_pos": 36
   },
   "source": [
    "Note that we should not take it for granted\n",
    "that we are able to recover the parameters perfectly.\n",
    "However, in machine learning, we are typically less concerned\n",
    "with recovering true underlying parameters,\n",
    "and more concerned with parameters that lead to highly accurate prediction.\n",
    "Fortunately, even on difficult optimization problems,\n",
    "stochastic gradient descent can often find remarkably good solutions,\n",
    "owing partly to the fact that, for deep networks,\n",
    "there exist many configurations of the parameters\n",
    "that lead to highly accurate prediction.\n",
    "\n",
    "\n",
    "## Summary\n",
    "\n",
    "* We saw how a deep network can be implemented and optimized from scratch, using just tensors and auto differentiation, without any need for defining layers or fancy optimizers.\n",
    "* This section only scratches the surface of what is possible. In the following sections, we will describe additional models based on the concepts that we have just introduced and learn how to implement them more concisely.\n",
    "\n"
   ]
  },
  {
   "cell_type": "markdown",
   "metadata": {
    "id": "xqGt4lkYNGuL",
    "origin_pos": 36
   },
   "source": [
    "## Defining the Optimization Algorithm in a concise way\n"
   ]
  },
  {
   "cell_type": "markdown",
   "metadata": {
    "id": "Trc8NypKNGuM",
    "origin_pos": 38,
    "tab": [
     "pytorch"
    ]
   },
   "source": [
    "Minibatch stochastic gradient descent is a standard tool\n",
    "for optimizing neural networks\n",
    "and thus PyTorch supports it alongside a number of\n",
    "variations on this algorithm in the `optim` module.\n",
    "When we **instantiate an `SGD` instance,**\n",
    "we will specify the parameters to optimize over\n",
    "(obtainable from our net via `net.parameters()`), with a dictionary of hyperparameters\n",
    "required by our optimization algorithm.\n",
    "Minibatch stochastic gradient descent just requires that\n",
    "we set the value `lr`, which is set to 0.03 here.\n"
   ]
  },
  {
   "cell_type": "code",
   "execution_count": 27,
   "metadata": {
    "id": "E9kzZQFpNGuM",
    "origin_pos": 41,
    "tab": [
     "pytorch"
    ]
   },
   "outputs": [],
   "source": [
    "trainer = torch.optim.SGD(net.parameters(), lr=0.03)"
   ]
  },
  {
   "cell_type": "markdown",
   "metadata": {
    "id": "-xpzC8WsNGuM",
    "origin_pos": 43
   },
   "source": [
    "## Training\n",
    "\n",
    "You might have noticed that expressing our model through\n",
    "high-level APIs of a deep learning framework\n",
    "requires comparatively few lines of code.\n",
    "We did not have to individually allocate parameters,\n",
    "define our loss function, or implement minibatch stochastic gradient descent.\n",
    "Once we start working with much more complex models,\n",
    "advantages of high-level APIs will grow considerably.\n",
    "However, once we have all the basic pieces in place,\n",
    "**the training loop itself is strikingly similar\n",
    "to what we did when implementing everything from scratch.**\n",
    "\n",
    "To refresh your memory: for some number of epochs,\n",
    "we will make a complete pass over the dataset (`train_data`),\n",
    "iteratively grabbing one minibatch of inputs\n",
    "and the corresponding ground-truth labels.\n",
    "For each minibatch, we go through the following ritual:\n",
    "\n",
    "* Generate predictions by calling `net(X)` and calculate the loss `l` (the forward propagation).\n",
    "* Calculate gradients by running the backpropagation.\n",
    "* Update the model parameters by invoking our optimizer.\n",
    "\n",
    "For good measure, we compute the loss after each epoch and print it to monitor progress.\n"
   ]
  },
  {
   "cell_type": "code",
   "execution_count": 28,
   "metadata": {
    "colab": {
     "base_uri": "https://localhost:8080/"
    },
    "id": "zOfMr7IhNGuP",
    "origin_pos": 45,
    "outputId": "69e72ffb-dabd-470a-c296-39498850bc38",
    "tab": [
     "pytorch"
    ]
   },
   "outputs": [
    {
     "name": "stdout",
     "output_type": "stream",
     "text": [
      "epoch 1, loss 0.000234\n",
      "epoch 2, loss 0.000101\n",
      "epoch 3, loss 0.000102\n"
     ]
    }
   ],
   "source": [
    "num_epochs = 3\n",
    "for epoch in range(num_epochs):\n",
    "    for X, y in data_iter:\n",
    "        l = loss(net(X), y)\n",
    "        trainer.zero_grad()\n",
    "        l.backward()\n",
    "        trainer.step()\n",
    "    l = loss(net(features), labels)\n",
    "    print(f'epoch {epoch + 1}, loss {l:f}')"
   ]
  },
  {
   "cell_type": "markdown",
   "metadata": {
    "id": "GzCAGmNbNGuR",
    "origin_pos": 47
   },
   "source": [
    "Below, we **compare the model parameters learned by training on finite data\n",
    "and the actual parameters** that generated our dataset.\n",
    "To access parameters,\n",
    "we first access the layer that we need from `net`\n",
    "and then access that layer's weights and bias.\n",
    "As in our from-scratch implementation,\n",
    "note that our estimated parameters are\n",
    "close to their ground-truth counterparts.\n"
   ]
  },
  {
   "cell_type": "code",
   "execution_count": 29,
   "metadata": {
    "colab": {
     "base_uri": "https://localhost:8080/"
    },
    "id": "3HPu5Z2XNGuS",
    "origin_pos": 49,
    "outputId": "5c072fd0-180a-45f0-99e5-f961b2f8d6b5",
    "tab": [
     "pytorch"
    ]
   },
   "outputs": [
    {
     "name": "stdout",
     "output_type": "stream",
     "text": [
      "error in estimating w: tensor([-0.0008,  0.0006])\n",
      "error in estimating b: tensor([-0.0005])\n"
     ]
    }
   ],
   "source": [
    "w = net[0].weight.data\n",
    "print('error in estimating w:', true_w - w.reshape(true_w.shape))\n",
    "b = net[0].bias.data\n",
    "print('error in estimating b:', true_b - b)"
   ]
  },
  {
   "cell_type": "markdown",
   "metadata": {
    "id": "II9HeOrSNGuT",
    "origin_pos": 51
   },
   "source": [
    "## Summary\n"
   ]
  },
  {
   "cell_type": "markdown",
   "metadata": {
    "id": "JuRw_3u3NGuU",
    "origin_pos": 53,
    "tab": [
     "pytorch"
    ]
   },
   "source": [
    "* Using PyTorch's high-level APIs, we can implement models much more concisely.\n",
    "* In PyTorch, the `data` module provides tools for data processing, the `nn` module defines a large number of neural network layers and common loss functions.\n",
    "* We can initialize the parameters by replacing their values with methods ending with `_`.\n"
   ]
  },
  {
   "cell_type": "markdown",
   "metadata": {
    "id": "pVlDZwIONGuV",
    "origin_pos": 55
   },
   "source": [
    "## Exercises\n"
   ]
  },
  {
   "cell_type": "markdown",
   "metadata": {
    "id": "K_py0ixcxVty"
   },
   "source": [
    "1. Is it a good idea to initialize the weights to zero? You can set the values of the network to zero by using net[0].weight.data.fill_(0)"
   ]
  },
  {
   "cell_type": "markdown",
   "metadata": {},
   "source": [
    "#### Sol\n",
    "- **Single-layer linear models** (plain linear regression) can learn even if all weights are initialized to zero, because each feature produces a different gradient $\\nabla_{w_j}L = -\\frac{1}{n} \\sum_i x_{ij}(y_i - \\hat{y}_i)$\n",
    "    \n",
    "- **Deeper networks** require symmetry breaking: if every neuron in a layer starts with the same weights, they remain identical throughout training.\n",
    "    \n",
    "- **Best practice:** initialize with small random values unless we are certain we only need a single linear layer.\n",
    "    "
   ]
  },
  {
   "cell_type": "markdown",
   "metadata": {
    "id": "1Vza6MwJ0hiD"
   },
   "source": [
    "2. Review the PyTorch documentation to see what loss functions are provided. Replace (in the concise version) the loss by Huber's loss."
   ]
  },
  {
   "cell_type": "markdown",
   "metadata": {},
   "source": [
    "#### Sol\n",
    "\n",
    "PyTorch offers two closely related implementations:\n",
    "\n",
    "```python\n",
    "from torch import nn\n",
    "\n",
    "# Classic Huber (delta = 1.0 by default)\n",
    "LossFn = nn.HuberLoss(delta=1.0)\n",
    "\n",
    "# —or— the “Smooth L1” variant\n",
    "# LossFn = nn.SmoothL1Loss()\n",
    "```\n",
    "\n",
    "Then in the training loop use:\n",
    "\n",
    "```python\n",
    "BatchLoss = LossFn(Net(XBatch), YBatch)\n",
    "```\n",
    "\n",
    "instead of `nn.MSELoss()`.\n"
   ]
  },
  {
   "cell_type": "markdown",
   "metadata": {
    "id": "3ABnFRep332Q"
   },
   "source": [
    "3. Review the PyTorch documentation to see what initialization functions are provided. Specify a linear layer and check whether an initialization is made automatically or not."
   ]
  },
  {
   "cell_type": "markdown",
   "metadata": {},
   "source": [
    "#### Sol\n",
    "\n",
    "- **Common in** `torch.nn.init`:\n",
    "    \n",
    "    - `init.normal_`, `init.uniform_`, `init.constant_`\n",
    "        \n",
    "    - `init.xavier_uniform_`, `init.xavier_normal_`\n",
    "        \n",
    "    - `init.kaiming_uniform_`, `init.kaiming_normal_`\n",
    "        \n",
    "    - `init.orthogonal_`, `init.eye_`, etc.\n",
    "        \n",
    "- **`nn.Linear` default (source):**\n",
    "    \n",
    "    ```python\n",
    "    # Weights\n",
    "    init.kaiming_uniform_(self.weight, a=math.sqrt(5))\n",
    "    # Bias\n",
    "    fanIn, _ = init._calculate_fan_in_and_fan_out(self.weight)\n",
    "    bound    = 1 / math.sqrt(fanIn)\n",
    "    init.uniform_(self.bias, -bound, bound)\n",
    "    ```\n",
    "    \n",
    "    So by default **weights** use Kaiming-uniform and **bias** is uniform around zero.\n",
    "    "
   ]
  },
  {
   "cell_type": "markdown",
   "metadata": {
    "id": "3RCGzgikxS0x"
   },
   "source": [
    "4. How do you access the gradient of `net[0].weight`?"
   ]
  },
  {
   "cell_type": "markdown",
   "metadata": {},
   "source": [
    "#### Sol\n",
    "\n",
    "After `Loss.backward()` has been called, gradients are stored in each parameter’s `.grad` attribute:\n",
    "\n",
    "```python\n",
    "weight_grad = Net[0].weight.grad\n",
    "bias_grad   = Net[0].bias.grad\n",
    "```\n",
    "\n",
    "These tensors have the same shape as the corresponding parameters and hold the backpropagated gradients."
   ]
  },
  {
   "cell_type": "code",
   "execution_count": null,
   "metadata": {},
   "outputs": [],
   "source": []
  }
 ],
 "metadata": {
  "colab": {
   "collapsed_sections": [],
   "name": "Lineare_Regression_Loesung.ipynb",
   "provenance": []
  },
  "kernelspec": {
   "display_name": "Python 3 (ipykernel)",
   "language": "python",
   "name": "python3"
  },
  "language_info": {
   "codemirror_mode": {
    "name": "ipython",
    "version": 3
   },
   "file_extension": ".py",
   "mimetype": "text/x-python",
   "name": "python",
   "nbconvert_exporter": "python",
   "pygments_lexer": "ipython3",
   "version": "3.11.11"
  }
 },
 "nbformat": 4,
 "nbformat_minor": 4
}
